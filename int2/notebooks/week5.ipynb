{
 "cells": [
  {
   "cell_type": "code",
   "execution_count": 13,
   "outputs": [],
   "source": [
    "from random import randint\n",
    "import numpy as np\n",
    "from models.week_4 import perceptron"
   ],
   "metadata": {
    "collapsed": false,
    "pycharm": {
     "name": "#%%\n"
    }
   }
  },
  {
   "cell_type": "markdown",
   "source": [
    "Normalise a vector"
   ],
   "metadata": {
    "collapsed": false,
    "pycharm": {
     "name": "#%% md\n"
    }
   }
  },
  {
   "cell_type": "code",
   "execution_count": 14,
   "outputs": [],
   "source": [
    "def normalise(x):\n",
    "\t\"\"\"\n",
    "    Something to do with distance\n",
    "    :param x: vector to normalise\n",
    "    :return: normalised vector\n",
    "    \"\"\"\n",
    "\tassert isinstance(x, np.ndarray), \"x must be an np.array\"\n",
    "\n",
    "\tnorm2 = 0\n",
    "\tfor row in x:\n",
    "\t\tfor elem in row:\n",
    "\t\t\tnorm2 += elem ** 2\n",
    "\treturn np.sqrt(norm2)\n"
   ],
   "metadata": {
    "collapsed": false,
    "pycharm": {
     "name": "#%%\n"
    }
   }
  },
  {
   "cell_type": "markdown",
   "source": [
    "Testing the normaise function"
   ],
   "metadata": {
    "collapsed": false,
    "pycharm": {
     "name": "#%% md\n"
    }
   }
  },
  {
   "cell_type": "code",
   "execution_count": 15,
   "outputs": [
    {
     "name": "stdout",
     "output_type": "stream",
     "text": [
      "Great success!\n"
     ]
    }
   ],
   "source": [
    "def generate_vector():\n",
    "\trows = randint(1,100)\n",
    "\tcols = randint(1,100)\n",
    "\trand_vec = [[randint(1,100) for _ in range(cols)] for _ in range(rows)]\n",
    "\treturn np.array(rand_vec)\n",
    "\n",
    "for _ in range(100):\n",
    "\tv = generate_vector()\n",
    "\tassert normalise(v) == np.linalg.norm(v), \"Failed: %s\" % v\n",
    "print(\"Great success!\")"
   ],
   "metadata": {
    "collapsed": false,
    "pycharm": {
     "name": "#%%\n"
    }
   }
  },
  {
   "cell_type": "code",
   "execution_count": 16,
   "outputs": [
    {
     "data": {
      "text/plain": "array([[0.91499142]])"
     },
     "execution_count": 16,
     "metadata": {},
     "output_type": "execute_result"
    }
   ],
   "source": [
    "def verify_points(x, theta):\n",
    "\ttry:\n",
    "\t\tassert isinstance(x, np.ndarray) and isinstance(theta, np.ndarray), \"x and theta must be elements of np array\"\n",
    "\t\tassert x.shape == theta.shape, \"x and theta must be the same shape\"\n",
    "\t\tassert x.shape[1] == 1, \"x must be a column vector\"\n",
    "\texcept AssertionError as e:\n",
    "\t\tprint(e)\n",
    "\t\treturn False\n",
    "\treturn True\n",
    "\n",
    "def signed_dist(x, theta, theta_0):\n",
    "\t\"\"\"\n",
    "\tCalculates the signed distance from a point x to the hyperplane\n",
    "\t:param x: point x (d x 1)\n",
    "\t:param theta:  vector norm to the plane (d x 1)\n",
    "\t:param theta_0:\n",
    "\t:return: signed distance (negative if point is underneath the plane)\n",
    "\t\"\"\"\n",
    "\tif not verify_points(x, theta):\n",
    "\t\treturn None\n",
    "\treturn (x.T @ theta - theta_0) / np.linalg.norm(theta)\n",
    "\n",
    "signed_dist(np.atleast_2d([2,3,2]).T, np.atleast_2d([3,3,5]).T, 19)"
   ],
   "metadata": {
    "collapsed": false,
    "pycharm": {
     "name": "#%%\n"
    }
   }
  },
  {
   "cell_type": "code",
   "execution_count": 29,
   "outputs": [
    {
     "name": "stdout",
     "output_type": "stream",
     "text": [
      "(1, -1)\n",
      "(1, 1)\n",
      "(2, -1)\n",
      "(2, 1)\n"
     ]
    },
    {
     "ename": "NameError",
     "evalue": "name 'perceptron' is not defined",
     "output_type": "error",
     "traceback": [
      "\u001B[0;31m---------------------------------------------------------------------------\u001B[0m",
      "\u001B[0;31mNameError\u001B[0m                                 Traceback (most recent call last)",
      "Input \u001B[0;32mIn [29]\u001B[0m, in \u001B[0;36m<module>\u001B[0;34m\u001B[0m\n\u001B[1;32m      7\u001B[0m \u001B[38;5;28;01mfor\u001B[39;00m col \u001B[38;5;129;01min\u001B[39;00m \u001B[38;5;28mzip\u001B[39m(\u001B[38;5;241m*\u001B[39mx_2):\n\u001B[1;32m      8\u001B[0m \t\u001B[38;5;28mprint\u001B[39m(col)\n\u001B[0;32m---> 10\u001B[0m theta, _ \u001B[38;5;241m=\u001B[39m \u001B[43mperceptron\u001B[49m(x_2, labels_2)\n\u001B[1;32m     11\u001B[0m margin(theta, labels_2, theta)\n",
      "\u001B[0;31mNameError\u001B[0m: name 'perceptron' is not defined"
     ]
    }
   ],
   "source": [
    "def margin(x_s, y_s, theta): # Margin will be negative if not linearly seperable\n",
    "\treturn np.min([y * signed_dist(x, theta, 0) for x, y in zip(x_s.T, y_s)])\n",
    "\n",
    "x_2 = np.array([[1,1,2,2], [-1,1,-1,1]])\n",
    "labels_2 = [1,1,-1,-1]\n",
    "\n",
    "for col in zip(*x_2):\n",
    "\tprint(col)\n",
    "\n",
    "theta, _ = perceptron(x_2, labels_2)\n",
    "margin(theta, labels_2, theta)"
   ],
   "metadata": {
    "collapsed": false,
    "pycharm": {
     "name": "#%%\n"
    }
   }
  },
  {
   "cell_type": "code",
   "execution_count": 17,
   "outputs": [],
   "source": [],
   "metadata": {
    "collapsed": false,
    "pycharm": {
     "name": "#%%\n"
    }
   }
  }
 ],
 "metadata": {
  "kernelspec": {
   "display_name": "Python 3",
   "language": "python",
   "name": "python3"
  },
  "language_info": {
   "codemirror_mode": {
    "name": "ipython",
    "version": 2
   },
   "file_extension": ".py",
   "mimetype": "text/x-python",
   "name": "python",
   "nbconvert_exporter": "python",
   "pygments_lexer": "ipython2",
   "version": "2.7.6"
  }
 },
 "nbformat": 4,
 "nbformat_minor": 0
}