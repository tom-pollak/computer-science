{
 "cells": [
  {
   "cell_type": "code",
   "execution_count": 1,
   "metadata": {
    "collapsed": true
   },
   "outputs": [
    {
     "name": "stdout",
     "output_type": "stream",
     "text": [
      "32\n",
      "[32]\n"
     ]
    }
   ],
   "source": [
    "from typing import List\n",
    "import numpy as np\n",
    "\n",
    "\n",
    "def dot(v1: List[List[float]], v2: List[List[float]]) -> List[List[float]]:\n",
    "\n",
    "\tv1 = np.mat(v1)\n",
    "\tv2 = np.mat(v2)\n",
    "\tresult = []\n",
    "\tif v1.shape[-1] != v2.T.shape[0]:\n",
    "\t\traise ValueError(\"Matrix dimensions do not match: %s, %s\" % (v1.shape, v2.shape))\n",
    "\tfor i, j in zip(v1.A, v2.A):\n",
    "\t\tresult.append(sum([x*y for x, y in zip(i, j)]))\n",
    "\treturn result\n",
    "\n",
    "\n",
    "print(np.dot([1, 2, 3], [4, 5, 6]))\n",
    "print(dot([1, 2, 3], [4, 5, 6]))"
   ]
  },
  {
   "cell_type": "markdown",
   "source": [
    "# 2.d"
   ],
   "metadata": {
    "collapsed": false,
    "pycharm": {
     "name": "#%% md\n"
    }
   }
  },
  {
   "cell_type": "code",
   "execution_count": 2,
   "outputs": [
    {
     "name": "stdout",
     "output_type": "stream",
     "text": [
      "array([(1, 17,  9), (2, 21, 10), (3, 12, 17)],\n",
      "      dtype=[('id', '<i4'), ('width', '<i8'), ('height', '<i8')])\n"
     ]
    }
   ],
   "source": [
    "data_type = [('id', 'i4'), ('width', 'i8'), ('height', 'i8')]\n",
    "data = np.array([(1,17,9),(2,21,10),(3,12,17)], dtype=data_type)\n",
    "print(repr(data))"
   ],
   "metadata": {
    "collapsed": false,
    "pycharm": {
     "name": "#%%\n"
    }
   }
  },
  {
   "cell_type": "markdown",
   "source": [
    "## 2.e"
   ],
   "metadata": {
    "collapsed": false
   }
  },
  {
   "cell_type": "code",
   "execution_count": 3,
   "outputs": [
    {
     "data": {
      "text/plain": "array([26, 31, 29])"
     },
     "execution_count": 3,
     "metadata": {},
     "output_type": "execute_result"
    }
   ],
   "source": [
    "def transform(data):\n",
    "\ttumor_data = data[['width', 'height']]\n",
    "\ttumor_mat = np.array([[x,y] for x,y in tumor_data])\n",
    "\treturn np.dot([1,1], tumor_mat.T)\n",
    "\n",
    "transform(data)"
   ],
   "metadata": {
    "collapsed": false,
    "pycharm": {
     "name": "#%%\n"
    }
   }
  },
  {
   "cell_type": "code",
   "execution_count": 7,
   "outputs": [
    {
     "data": {
      "text/plain": "{1: 1, 2: 1, 3: 1}"
     },
     "execution_count": 7,
     "metadata": {},
     "output_type": "execute_result"
    }
   ],
   "source": [
    "def h(x, theta, theta_zero):\n",
    "\thypothesis = np.matmul(theta.T, x) + theta_zero\n",
    "\treturn np.sign(hypothesis)[0]\n",
    "\n",
    "theta = np.array([[4],[5]])\n",
    "theta_zero = -100\n",
    "tumor_dict = {i: np.array([x,y]).T for i,x,y in data[['id', 'width', 'height']]}\n",
    "\n",
    "test_data = {}\n",
    "for id, record in tumor_dict.items():\n",
    "\tsign = h(record, theta, theta_zero)\n",
    "\ttest_data[id] = sign\n",
    "\n",
    "test_data"
   ],
   "metadata": {
    "collapsed": false,
    "pycharm": {
     "name": "#%%\n"
    }
   }
  },
  {
   "cell_type": "markdown",
   "source": [
    "## 3.a\n",
    "\n",
    "### i)\n"
   ],
   "metadata": {
    "collapsed": false
   }
  },
  {
   "cell_type": "code",
   "execution_count": null,
   "outputs": [],
   "source": [],
   "metadata": {
    "collapsed": false,
    "pycharm": {
     "name": "#%%\n"
    }
   }
  }
 ],
 "metadata": {
  "kernelspec": {
   "display_name": "Python 3",
   "language": "python",
   "name": "python3"
  },
  "language_info": {
   "codemirror_mode": {
    "name": "ipython",
    "version": 2
   },
   "file_extension": ".py",
   "mimetype": "text/x-python",
   "name": "python",
   "nbconvert_exporter": "python",
   "pygments_lexer": "ipython2",
   "version": "2.7.6"
  }
 },
 "nbformat": 4,
 "nbformat_minor": 0
}