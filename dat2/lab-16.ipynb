{
 "cells": [
  {
   "cell_type": "code",
   "execution_count": 9,
   "metadata": {},
   "outputs": [
    {
     "data": {
      "text/plain": [
       "SpearmanrResult(correlation=0.9787594278660533, pvalue=3.8807183065282066e-13)"
      ]
     },
     "execution_count": 9,
     "metadata": {},
     "output_type": "execute_result"
    }
   ],
   "source": [
    "import numpy as np\n",
    "import scipy.stats as stats\n",
    "from scipy.stats import shapiro\n",
    "\n",
    "\n",
    "temp = [-4, -3, 0, 0, 5, 6, 1, 2, 1, 1, 7, 5, 4, 22, 20, 13, 25, 29, 18]\n",
    "sale = [0, 0, 1, 0, 6, 7, 3, 3, 1, 1, 5, 5, 3, 15, 10, 7, 18, 20, 10]\n",
    "\n",
    "stats.spearmanr(temp, sale)\n"
   ]
  },
  {
   "cell_type": "code",
   "execution_count": 14,
   "metadata": {},
   "outputs": [
    {
     "data": {
      "text/plain": [
       "MannwhitneyuResult(statistic=29.0, pvalue=0.0005678660255054943)"
      ]
     },
     "execution_count": 14,
     "metadata": {},
     "output_type": "execute_result"
    }
   ],
   "source": [
    "eng_non_native_speaker = [33, 35, 33, 42, 44, 38, 60, 64, 33, 35, 43, 65, 70, 55, 59]\n",
    "eng_native_speaker = [50, 50, 45, 90, 95, 67, 92, 61, 50, 68, 90, 88, 85, 78, 89]\n",
    "\n",
    "_, pvalue = shapiro(eng_native_speaker)\n",
    "stats.mannwhitneyu(eng_non_native_speaker, eng_native_speaker)\n"
   ]
  },
  {
   "cell_type": "code",
   "execution_count": 18,
   "metadata": {},
   "outputs": [
    {
     "name": "stdout",
     "output_type": "stream",
     "text": [
      "shapiro statistics: bp_before: ShapiroResult(statistic=0.8214327692985535, pvalue=0.007019661832600832) bp_after: ShapiroResult(statistic=0.8639184236526489, pvalue=0.027500048279762268)\n",
      "both are below 0.5 so do not adhear to a normal distribution\n"
     ]
    },
    {
     "data": {
      "text/plain": [
       "WilcoxonResult(statistic=20.5, pvalue=0.02557373046875)"
      ]
     },
     "execution_count": 18,
     "metadata": {},
     "output_type": "execute_result"
    }
   ],
   "source": [
    "bp_before = [145, 145, 160, 173, 180, 145, 162, 183, 172, 180, 182, 187, 183, 180, 185]\n",
    "bp_after = [163, 150, 178, 162, 141, 180, 143, 141, 147, 142, 152, 152, 145, 151, 173]\n",
    "\n",
    "print(f\"shapiro statistics: bp_before: {shapiro(bp_before)} bp_after: {shapiro(bp_after)}\")\n",
    "print(\"both are below 0.5 so do not adhear to a normal distribution\")\n",
    "\n",
    "stats.wilcoxon(bp_before, bp_after)\n"
   ]
  }
 ],
 "metadata": {
  "interpreter": {
   "hash": "f9f85f796d01129d0dd105a088854619f454435301f6ffec2fea96ecbd9be4ac"
  },
  "kernelspec": {
   "display_name": "Python 3.9.5 64-bit",
   "language": "python",
   "name": "python3"
  },
  "language_info": {
   "codemirror_mode": {
    "name": "ipython",
    "version": 3
   },
   "file_extension": ".py",
   "mimetype": "text/x-python",
   "name": "python",
   "nbconvert_exporter": "python",
   "pygments_lexer": "ipython3",
   "version": "3.9.5"
  },
  "orig_nbformat": 4
 },
 "nbformat": 4,
 "nbformat_minor": 2
}
