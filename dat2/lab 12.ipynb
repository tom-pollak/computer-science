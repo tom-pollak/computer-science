{
 "cells": [
  {
   "cell_type": "code",
   "execution_count": 5,
   "id": "c9b6b3e0",
   "metadata": {},
   "outputs": [],
   "source": [
    "import numpy as np\n",
    "from sklearn.datasets import make_blobs\n",
    "from sklearn.cluster import KMeans"
   ]
  },
  {
   "cell_type": "code",
   "execution_count": 6,
   "id": "0e9c2dd9",
   "metadata": {},
   "outputs": [],
   "source": [
    "num_of_coordinates = 50\n",
    "initial_cluster_means = [(10, 15), (4,7)]\n",
    "number_of_clusters = len(initial_cluster_means)"
   ]
  },
  {
   "cell_type": "code",
   "execution_count": 7,
   "id": "1f022d9c",
   "metadata": {},
   "outputs": [],
   "source": [
    "dataset = make_blobs(n_samples=num_of_coordinates, centers=initial_cluster_means, n_features=2, cluster_std=2)"
   ]
  },
  {
   "cell_type": "code",
   "execution_count": 8,
   "id": "3451c1d7",
   "metadata": {},
   "outputs": [
    {
     "name": "stdout",
     "output_type": "stream",
     "text": [
      "[[ 6.57985709 17.66036039]\n",
      " [ 3.39495867  6.79915058]\n",
      " [ 2.07273671  8.87790736]\n",
      " [10.041147   13.459061  ]\n",
      " [ 5.53961804  4.9046015 ]\n",
      " [12.8469461  14.80432727]\n",
      " [ 4.62748286 10.6599227 ]\n",
      " [ 5.5447155  15.46001103]\n",
      " [ 2.05197028  9.22488784]\n",
      " [ 1.08911245 12.24466342]\n",
      " [13.07063976 13.74766484]\n",
      " [ 4.52916519  4.74060365]\n",
      " [ 6.11900939 12.50736865]\n",
      " [ 5.16892494  6.57019255]\n",
      " [10.68771236 14.21192709]\n",
      " [11.55108035 16.11492344]\n",
      " [12.10964325 15.64759581]\n",
      " [11.87015949 14.15403617]\n",
      " [ 2.3173666   7.22411321]\n",
      " [ 1.12616234  5.78284121]\n",
      " [ 5.66822936  5.55676863]\n",
      " [10.17375878 14.7723321 ]\n",
      " [ 5.11777042  8.97180399]\n",
      " [ 9.36915916 14.26767155]\n",
      " [11.5272723  17.1215701 ]\n",
      " [ 2.73347795  7.96423032]\n",
      " [ 0.97046323  8.04919092]\n",
      " [ 1.48415284  8.96914445]\n",
      " [13.96570412 14.38356812]\n",
      " [14.03143849 15.08203139]\n",
      " [ 2.80155934 10.57647947]\n",
      " [ 4.39434283  5.84163378]\n",
      " [11.68746772 15.30561859]\n",
      " [ 4.82946903  7.41913247]\n",
      " [ 0.48807162  6.25210333]\n",
      " [ 5.37943081  8.29350444]\n",
      " [11.12294931 10.72303213]\n",
      " [ 9.16831356 12.31920673]\n",
      " [ 8.63862809 17.0892815 ]\n",
      " [ 4.24633946  9.1815815 ]\n",
      " [ 9.35029877 17.76999837]\n",
      " [ 9.96786349 18.48175848]\n",
      " [ 8.79598162 14.99565383]\n",
      " [ 5.9166658   4.45488647]\n",
      " [10.93565317 14.91374643]\n",
      " [ 7.89284302 14.09788586]\n",
      " [ 1.0114412   9.61691127]\n",
      " [ 5.15174793  5.35263363]\n",
      " [11.04435975 10.80997242]\n",
      " [ 2.56660383  4.82558214]]\n"
     ]
    },
    {
     "data": {
      "text/plain": [
       "KMeans(n_clusters=2)"
      ]
     },
     "execution_count": 8,
     "metadata": {},
     "output_type": "execute_result"
    }
   ],
   "source": [
    "random_data = dataset[0]\n",
    "print(random_data)\n",
    "\n",
    "k = KMeans(n_clusters=number_of_clusters)\n",
    "k"
   ]
  },
  {
   "cell_type": "code",
   "execution_count": 9,
   "id": "104f0aee",
   "metadata": {},
   "outputs": [
    {
     "data": {
      "text/plain": [
       "array([1, 0, 0, 1, 0, 1, 0, 1, 0, 0, 1, 0, 1, 0, 1, 1, 1, 1, 0, 0, 0, 1,\n",
       "       0, 1, 1, 0, 0, 0, 1, 1, 0, 0, 1, 0, 0, 0, 1, 1, 1, 0, 1, 1, 1, 0,\n",
       "       1, 1, 0, 0, 1, 0], dtype=int32)"
      ]
     },
     "execution_count": 9,
     "metadata": {},
     "output_type": "execute_result"
    }
   ],
   "source": [
    "cluster_data = k.fit_predict(random_data)\n",
    "cluster_data"
   ]
  }
 ],
 "metadata": {
  "kernelspec": {
   "display_name": "Python 3 (ipykernel)",
   "language": "python",
   "name": "python3"
  },
  "language_info": {
   "codemirror_mode": {
    "name": "ipython",
    "version": 3
   },
   "file_extension": ".py",
   "mimetype": "text/x-python",
   "name": "python",
   "nbconvert_exporter": "python",
   "pygments_lexer": "ipython3",
   "version": "3.8.10"
  }
 },
 "nbformat": 4,
 "nbformat_minor": 5
}
