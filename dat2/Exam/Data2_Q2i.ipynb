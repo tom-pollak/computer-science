{
 "cells": [
  {
   "cell_type": "code",
   "execution_count": 19,
   "metadata": {},
   "outputs": [],
   "source": [
    "import xml.etree.ElementTree as ET"
   ]
  },
  {
   "cell_type": "code",
   "execution_count": 21,
   "metadata": {},
   "outputs": [],
   "source": [
    "ABC_Cafe = ET.Element(\"ABC_Cafe\")\n",
    "Food = ET.SubElement(ABC_Cafe, \"Food\")\n",
    "Menu = ET.SubElement(Food, \"Menu\")\n",
    "Menu.attrib = {\"type\": \"BFAST\"}\n",
    "\n",
    "BF = ET.SubElement(Menu, \"BF\")\n",
    "BF.attrib = {\"origin\": \"English\"}\n",
    "price = ET.SubElement(BF, \"price\")\n",
    "price.text = \"£10\"\n",
    "preparation_time = ET.SubElement(BF, \"preperation_time\")\n",
    "preparation_time.text = \"10 mins\"\n",
    "\n",
    "\n",
    "BF = ET.SubElement(Menu, \"BF\")\n",
    "BF.attrib = {\"origin\": \"Hot English\"}\n",
    "price = ET.SubElement(BF, \"price\")\n",
    "price.text = \"£20\"\n",
    "preparation_time = ET.SubElement(BF, \"preparation_time\")\n",
    "preparation_time.text = \"20 mins\"\n",
    "free_kids = ET.SubElement(BF, \"free_kids\")\n",
    "free_kids.attrib = {\"max\": \"1\"}\n",
    "free_kids.text = \"age under 11\"\n",
    "\n",
    "extra_1 = ET.SubElement(Food, \"extra_1\")\n",
    "extra_1.text = \"smoked salmon\"\n",
    "served_with = ET.SubElement(extra_1, \"served_with\")\n",
    "served_with.text = \"sourdough bread\"\n",
    "\n",
    "extra_2 = ET.SubElement(Food, \"extra_2\")\n",
    "extra_2.text = \"crab cake\"\n",
    "\n",
    "tree = ET.ElementTree(ABC_Cafe)\n",
    "with open(\"ABC_Cafe.xml\", \"wb\") as f:\n",
    "    tree.write(f, encoding=\"UTF-8\", xml_declaration=True)\n"
   ]
  }
 ],
 "metadata": {
  "interpreter": {
   "hash": "f9f85f796d01129d0dd105a088854619f454435301f6ffec2fea96ecbd9be4ac"
  },
  "kernelspec": {
   "display_name": "Python 3.9.5 64-bit",
   "language": "python",
   "name": "python3"
  },
  "language_info": {
   "codemirror_mode": {
    "name": "ipython",
    "version": 3
   },
   "file_extension": ".py",
   "mimetype": "text/x-python",
   "name": "python",
   "nbconvert_exporter": "python",
   "pygments_lexer": "ipython3",
   "version": "3.9.5"
  },
  "orig_nbformat": 4
 },
 "nbformat": 4,
 "nbformat_minor": 2
}
