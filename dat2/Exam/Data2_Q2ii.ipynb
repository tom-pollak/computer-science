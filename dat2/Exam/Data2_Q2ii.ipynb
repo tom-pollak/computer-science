{
 "cells": [
  {
   "cell_type": "code",
   "execution_count": 4,
   "metadata": {},
   "outputs": [],
   "source": [
    "import xml.etree.ElementTree as ET"
   ]
  },
  {
   "cell_type": "code",
   "execution_count": 5,
   "metadata": {},
   "outputs": [
    {
     "name": "stdout",
     "output_type": "stream",
     "text": [
      "(a) Root of XML file\n",
      "<ABC_Cafe><Food><Menu type=\"BFAST\"><BF origin=\"English\"><price>£10</price><preperation_time>10 mins</preperation_time></BF><BF origin=\"Hot English\"><price>£20</price><preparation_time>20 mins</preparation_time><free_kids max=\"1\">age under 11</free_kids></BF></Menu><extra_1>smoked salmon<served_with>sourdough bread</served_with></extra_1><extra_2>crab cake</extra_2></Food></ABC_Cafe>\n"
     ]
    }
   ],
   "source": [
    "tree = ET.parse(\"ABC_Cafe.xml\")\n",
    "root = tree.getroot()\n",
    "print(\"(a) Root of XML file\")\n",
    "print(ET.tostring(root, encoding=\"utf-8\").decode())\n"
   ]
  },
  {
   "cell_type": "code",
   "execution_count": 6,
   "metadata": {},
   "outputs": [
    {
     "name": "stdout",
     "output_type": "stream",
     "text": [
      "(b) free kids text: 'age under 11'\n"
     ]
    }
   ],
   "source": [
    "free_kids_text = root.find(\".//free_kids\").text\n",
    "print(\"(b) free kids text: '%s'\" % free_kids_text)"
   ]
  },
  {
   "cell_type": "code",
   "execution_count": 7,
   "metadata": {},
   "outputs": [
    {
     "name": "stdout",
     "output_type": "stream",
     "text": [
      "(c) modifying sourdough bread element\n"
     ]
    },
    {
     "ename": "SyntaxError",
     "evalue": "invalid predicate (<string>)",
     "output_type": "error",
     "traceback": [
      "Traceback \u001b[0;36m(most recent call last)\u001b[0m:\n",
      "\u001b[0;36m  File \u001b[0;32m\"/usr/lib/python3.9/xml/etree/ElementPath.py\"\u001b[0;36m, line \u001b[0;32m354\u001b[0;36m, in \u001b[0;35miterfind\u001b[0;36m\u001b[0m\n\u001b[0;31m    selector = _cache[cache_key]\u001b[0m\n",
      "\u001b[0;31mKeyError\u001b[0m\u001b[0;31m:\u001b[0m (\".//*[text() ='sourdough bread']\",)\n",
      "\nDuring handling of the above exception, another exception occurred:\n",
      "Traceback \u001b[0;36m(most recent call last)\u001b[0m:\n",
      "  File \u001b[1;32m\"/home/tom/.local/lib/python3.9/site-packages/IPython/core/interactiveshell.py\"\u001b[0m, line \u001b[1;32m3457\u001b[0m, in \u001b[1;35mrun_code\u001b[0m\n    exec(code_obj, self.user_global_ns, self.user_ns)\n",
      "  File \u001b[1;32m\"/tmp/ipykernel_377/4294246277.py\"\u001b[0m, line \u001b[1;32m2\u001b[0m, in \u001b[1;35m<module>\u001b[0m\n    element = root.find(\".//*[text() ='sourdough bread']\")\n",
      "  File \u001b[1;32m\"/usr/lib/python3.9/xml/etree/ElementPath.py\"\u001b[0m, line \u001b[1;32m389\u001b[0m, in \u001b[1;35mfind\u001b[0m\n    return next(iterfind(elem, path, namespaces), None)\n",
      "  File \u001b[1;32m\"/usr/lib/python3.9/xml/etree/ElementPath.py\"\u001b[0m, line \u001b[1;32m368\u001b[0m, in \u001b[1;35miterfind\u001b[0m\n    selector.append(ops[token[0]](next, token))\n",
      "\u001b[0;36m  File \u001b[0;32m\"/usr/lib/python3.9/xml/etree/ElementPath.py\"\u001b[0;36m, line \u001b[0;32m321\u001b[0;36m, in \u001b[0;35mprepare_predicate\u001b[0;36m\u001b[0m\n\u001b[0;31m    raise SyntaxError(\"invalid predicate\")\u001b[0m\n",
      "\u001b[0;36m  File \u001b[0;32m\"<string>\"\u001b[0;36m, line \u001b[0;32munknown\u001b[0m\n\u001b[0;31mSyntaxError\u001b[0m\u001b[0;31m:\u001b[0m invalid predicate\n"
     ]
    }
   ],
   "source": [
    "print(\"(c) modifying sourdough bread element\")\n",
    "element = root.find(\".//*[text() = 'sourdough bread']\")\n",
    "print(element)\n",
    "element.text = \"harrods roquefort bread\""
   ]
  },
  {
   "cell_type": "code",
   "execution_count": null,
   "metadata": {},
   "outputs": [
    {
     "name": "stdout",
     "output_type": "stream",
     "text": [
      "(d) Modified xml:\n",
      "<ABC_Cafe>\n",
      "    <Food>\n",
      "        <Menu type=\"BFAST\">\n",
      "            <BF origin=\"English\">\n",
      "                <price>£10</price>\n",
      "                <preperation_time>10 mins</preperation_time>\n",
      "            </BF>\n",
      "            <BF origin=\"Hot English\">\n",
      "                <price>£20</price>\n",
      "                <preparation_time>20 mins</preparation_time>\n",
      "                <free_kids max=\"1\">age under 11</free_kids>\n",
      "            </BF>\n",
      "        </Menu>\n",
      "        <extra_1>\n",
      "            smoked salmon\n",
      "            <served_with>harrods roquefort bread</served_with>\n",
      "        </extra_1>\n",
      "        <extra_2>crab cake</extra_2>\n",
      "    </Food>\n",
      "</ABC_Cafe>\n"
     ]
    }
   ],
   "source": [
    "print(\"(d) Modified xml:\")\n",
    "print(ET.tostring(root, encoding=\"utf-8\").decode())"
   ]
  }
 ],
 "metadata": {
  "interpreter": {
   "hash": "f9f85f796d01129d0dd105a088854619f454435301f6ffec2fea96ecbd9be4ac"
  },
  "kernelspec": {
   "display_name": "Python 3.9.5 64-bit",
   "language": "python",
   "name": "python3"
  },
  "language_info": {
   "codemirror_mode": {
    "name": "ipython",
    "version": 3
   },
   "file_extension": ".py",
   "mimetype": "text/x-python",
   "name": "python",
   "nbconvert_exporter": "python",
   "pygments_lexer": "ipython3",
   "version": "3.9.5"
  },
  "orig_nbformat": 4
 },
 "nbformat": 4,
 "nbformat_minor": 2
}
