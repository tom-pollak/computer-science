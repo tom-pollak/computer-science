{
 "cells": [
  {
   "cell_type": "code",
   "execution_count": 20,
   "metadata": {},
   "outputs": [],
   "source": [
    "import pandas as pd\n",
    "import scipy.stats as stats\n",
    "from scipy.stats import shapiro\n",
    "\n",
    "df = pd.read_csv(\"../exam-resources/tennis_emma.csv\")\n"
   ]
  },
  {
   "cell_type": "code",
   "execution_count": 16,
   "metadata": {},
   "outputs": [
    {
     "name": "stdout",
     "output_type": "stream",
     "text": [
      "(i) For each of the screenNames: '_TennisCoaching' and 'TelegraphSport' we will use the variable sentPos to test the positive sentiment of the tweet\n",
      "\n"
     ]
    }
   ],
   "source": [
    "print(\n",
    "    \"(i) For each of the screenNames: '_TennisCoaching' and 'TelegraphSport' we will use the variable sentPos to test the positive sentiment of the tweet\\n\"\n",
    ")\n"
   ]
  },
  {
   "cell_type": "code",
   "execution_count": 17,
   "metadata": {},
   "outputs": [
    {
     "name": "stdout",
     "output_type": "stream",
     "text": [
      "(ii) The pvalue of the positive sentiments on the accounts are: 3.5756360095007267e-09 & 5.370682717997788e-11\n",
      "Both of which less than the acceptance level of 0.05, meaning they do not follow a normal distribution, so a non-parametric test is required\n",
      "\n"
     ]
    }
   ],
   "source": [
    "tennis_coaching_tweets = df.query(\"screenName == '_TennisCoaching'\")\n",
    "_, tennis_coaching_pvalue = shapiro(tennis_coaching_tweets.sentPos)\n",
    "\n",
    "telegraph_sport_tweets = df.query(\"screenName == 'TelegraphSport'\")\n",
    "_, telegraph_sport_pvalue = shapiro(telegraph_sport_tweets.sentPos)\n",
    "\n",
    "print(\n",
    "    f\"(ii) The pvalue of the positive sentiments on the accounts are: {tennis_coaching_pvalue} & {telegraph_sport_pvalue}\"\n",
    ")\n",
    "print(\n",
    "    \"Both of which less than the acceptance level of 0.05, meaning they do not follow a normal distribution, so a non-parametric test is required\\n\"\n",
    ")\n"
   ]
  },
  {
   "cell_type": "code",
   "execution_count": 18,
   "metadata": {},
   "outputs": [
    {
     "name": "stdout",
     "output_type": "stream",
     "text": [
      "(iii) I will take the Mann-Whitney test as the two samples are independant\n"
     ]
    }
   ],
   "source": [
    "print(\"(iii) I will take the Mann-Whitney test as the two samples are independant\")\n"
   ]
  },
  {
   "cell_type": "code",
   "execution_count": 27,
   "metadata": {},
   "outputs": [
    {
     "name": "stdout",
     "output_type": "stream",
     "text": [
      "(iv) Significance pvalue: 0.058376674275098295\n"
     ]
    }
   ],
   "source": [
    "_, significance_pvalue = stats.mannwhitneyu(\n",
    "    tennis_coaching_tweets.sentPos, telegraph_sport_tweets.sentPos\n",
    ")\n",
    "\n",
    "print(\"(iv) Significance pvalue: %s\" % significance_pvalue)\n"
   ]
  },
  {
   "cell_type": "code",
   "execution_count": 28,
   "metadata": {},
   "outputs": [
    {
     "name": "stdout",
     "output_type": "stream",
     "text": [
      "(v) Significance pvalue > acceptance level (0.05), therefore the result is not significant\n",
      "(vi) So conclude there is not sufficent evidence to suggest a significant difference in positive sentiment between _TennisCoaching & TelegraphSport\n",
      "(vii) So we accept null hypothesis\n"
     ]
    }
   ],
   "source": [
    "print(\n",
    "    \"(v) Significance pvalue > acceptance level (0.05), therefore the result is not significant\"\n",
    ")\n",
    "print(\n",
    "    \"(vi) So conclude there is not sufficent evidence to suggest a significant difference in positive sentiment between _TennisCoaching & TelegraphSport\"\n",
    ")\n",
    "print(\"(vii) So we accept null hypothesis\")\n"
   ]
  }
 ],
 "metadata": {
  "interpreter": {
   "hash": "f9f85f796d01129d0dd105a088854619f454435301f6ffec2fea96ecbd9be4ac"
  },
  "kernelspec": {
   "display_name": "Python 3.9.5 64-bit",
   "language": "python",
   "name": "python3"
  },
  "language_info": {
   "codemirror_mode": {
    "name": "ipython",
    "version": 3
   },
   "file_extension": ".py",
   "mimetype": "text/x-python",
   "name": "python",
   "nbconvert_exporter": "python",
   "pygments_lexer": "ipython3",
   "version": "3.9.5"
  },
  "orig_nbformat": 4
 },
 "nbformat": 4,
 "nbformat_minor": 2
}
