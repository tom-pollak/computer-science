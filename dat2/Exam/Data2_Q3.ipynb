{
 "cells": [
  {
   "cell_type": "code",
   "execution_count": 257,
   "metadata": {},
   "outputs": [],
   "source": [
    "import pandas as pd\n",
    "from sklearn.linear_model import LogisticRegression\n",
    "from sklearn.model_selection import train_test_split\n",
    "import numpy as np\n"
   ]
  },
  {
   "cell_type": "code",
   "execution_count": 258,
   "metadata": {},
   "outputs": [
    {
     "name": "stdout",
     "output_type": "stream",
     "text": [
      "(ii) Predicted data:\n"
     ]
    },
    {
     "data": {
      "text/html": [
       "<div>\n",
       "<style scoped>\n",
       "    .dataframe tbody tr th:only-of-type {\n",
       "        vertical-align: middle;\n",
       "    }\n",
       "\n",
       "    .dataframe tbody tr th {\n",
       "        vertical-align: top;\n",
       "    }\n",
       "\n",
       "    .dataframe thead th {\n",
       "        text-align: right;\n",
       "    }\n",
       "</style>\n",
       "<table border=\"1\" class=\"dataframe\">\n",
       "  <thead>\n",
       "    <tr style=\"text-align: right;\">\n",
       "      <th></th>\n",
       "      <th>Actual_Class</th>\n",
       "      <th>Predicted Class</th>\n",
       "    </tr>\n",
       "  </thead>\n",
       "  <tbody>\n",
       "    <tr>\n",
       "      <th>0</th>\n",
       "      <td>1</td>\n",
       "      <td>0</td>\n",
       "    </tr>\n",
       "    <tr>\n",
       "      <th>8</th>\n",
       "      <td>0</td>\n",
       "      <td>1</td>\n",
       "    </tr>\n",
       "    <tr>\n",
       "      <th>6</th>\n",
       "      <td>0</td>\n",
       "      <td>0</td>\n",
       "    </tr>\n",
       "    <tr>\n",
       "      <th>14</th>\n",
       "      <td>1</td>\n",
       "      <td>1</td>\n",
       "    </tr>\n",
       "    <tr>\n",
       "      <th>23</th>\n",
       "      <td>0</td>\n",
       "      <td>0</td>\n",
       "    </tr>\n",
       "    <tr>\n",
       "      <th>2</th>\n",
       "      <td>0</td>\n",
       "      <td>0</td>\n",
       "    </tr>\n",
       "    <tr>\n",
       "      <th>12</th>\n",
       "      <td>0</td>\n",
       "      <td>0</td>\n",
       "    </tr>\n",
       "  </tbody>\n",
       "</table>\n",
       "</div>"
      ],
      "text/plain": [
       "    Actual_Class  Predicted Class\n",
       "0              1                0\n",
       "8              0                1\n",
       "6              0                0\n",
       "14             1                1\n",
       "23             0                0\n",
       "2              0                0\n",
       "12             0                0"
      ]
     },
     "execution_count": 258,
     "metadata": {},
     "output_type": "execute_result"
    }
   ],
   "source": [
    "df = pd.read_csv(\"../exam-resources/log_regression_exam.csv\")\n",
    "df.replace({\"F\": 0, \"T\": 1}, inplace=True)\n",
    "X_train, X_test, y_train, y_test = train_test_split(\n",
    "    df[[\"F1\", \"F2\", \"F3\"]], df[[\"Actual_Class\"]], test_size=0.25\n",
    ")\n",
    "\n",
    "logreg = LogisticRegression()\n",
    "logreg = logreg.fit(X_train.values, np.ravel(y_train))\n",
    "y_test[\"Predicted Class\"] = logreg.predict(X_test.values)\n",
    "print(\"(ii) Predicted data:\")\n",
    "y_test\n"
   ]
  },
  {
   "cell_type": "code",
   "execution_count": 259,
   "metadata": {},
   "outputs": [
    {
     "name": "stdout",
     "output_type": "stream",
     "text": [
      "(iii) Accuracy of regression model on test data: 71%\n"
     ]
    }
   ],
   "source": [
    "TP = len(y_test.query(\"Actual_Class == 1 & `Predicted Class` == 1\"))\n",
    "TN = len(y_test.query(\"Actual_Class == 0 & `Predicted Class` == 0\"))\n",
    "FP = len(y_test.query(\"Actual_Class == 0 & `Predicted Class` == 1\"))\n",
    "FN = len(y_test.query(\"Actual_Class == 1 & `Predicted Class` == 0\"))\n",
    "accuracy = (TP + TN) / (TN + FP + FN + TP)\n",
    "print(\"(iii) Accuracy of regression model on test data: %d%%\" % round(accuracy*100))"
   ]
  },
  {
   "cell_type": "code",
   "execution_count": 260,
   "metadata": {},
   "outputs": [
    {
     "name": "stdout",
     "output_type": "stream",
     "text": [
      "(iv) Log regression prediction: 1\n"
     ]
    }
   ],
   "source": [
    "pred_data = pd.Series({'F1': 101, 'F2': 1, 'F3': 0})\n",
    "prediction = logreg.predict([pred_data])[0]\n",
    "print(\"(iv) Log regression prediction: %s\" % prediction)"
   ]
  }
 ],
 "metadata": {
  "interpreter": {
   "hash": "f9f85f796d01129d0dd105a088854619f454435301f6ffec2fea96ecbd9be4ac"
  },
  "kernelspec": {
   "display_name": "Python 3.9.5 64-bit",
   "language": "python",
   "name": "python3"
  },
  "language_info": {
   "codemirror_mode": {
    "name": "ipython",
    "version": 3
   },
   "file_extension": ".py",
   "mimetype": "text/x-python",
   "name": "python",
   "nbconvert_exporter": "python",
   "pygments_lexer": "ipython3",
   "version": "3.9.5"
  },
  "orig_nbformat": 4
 },
 "nbformat": 4,
 "nbformat_minor": 2
}
