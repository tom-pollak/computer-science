{
 "cells": [
  {
   "cell_type": "markdown",
   "metadata": {},
   "source": [
    "# <span style=\"color:blue\">EVCO Practical 2: GAs for classification</span>"
   ]
  },
  {
   "cell_type": "markdown",
   "metadata": {},
   "source": [
    "Simon O'Keefe: simon.okeefe@york.ac.uk\n",
    "\n",
    "Danny Roberts: danny.roberts@york.ac.uk\n",
    "\n",
    "Tianda Sun: tianda.sun@york.ac.uk"
   ]
  },
  {
   "cell_type": "markdown",
   "metadata": {},
   "source": [
    "## <span style=\"color:#0073e6\">Prerequisites</span>"
   ]
  },
  {
   "cell_type": "markdown",
   "metadata": {},
   "source": [
    "Before participating in this practical make sure that you have watched the following:\n",
    "- Code walkthrough 2\n",
    "- Code walkthrough 3"
   ]
  },
  {
   "cell_type": "markdown",
   "metadata": {},
   "source": [
    "## <span style=\"color:#0073e6\">Topics</span>"
   ]
  },
  {
   "cell_type": "markdown",
   "metadata": {},
   "source": [
    "- Exploring data\n",
    "- Cleaning data\n",
    "- Balancing data\n",
    "- Evolving a solution to classify on data"
   ]
  },
  {
   "cell_type": "markdown",
   "metadata": {},
   "source": [
    "## <span style=\"color:#0073e6\">Learning Objectives</span>"
   ]
  },
  {
   "cell_type": "markdown",
   "metadata": {},
   "source": [
    "- To understand the basics of how to explore, clean, and balance data  \n",
    "- To understand the challenges of training on data and making predictions  \n",
    "- To understand the need to define your own representation for the problem with a GA  "
   ]
  },
  {
   "cell_type": "markdown",
   "metadata": {},
   "source": [
    "# <span style=\"color:blue\">Your Task</span>"
   ]
  },
  {
   "cell_type": "markdown",
   "metadata": {},
   "source": [
    "Implement a genetic algorithm to classify different types of iris flowers. The classic dataset contains measurements of iris flowers, along with what type of flower they are. The idea is to classify whether the flower is a Versicolor (0), Setosa (1), or Virginica (2). Classify the flowers from the features in the data. \n",
    "\n",
    "<img src=\"iris.png\" alt=\"Iris flower\">  \n",
    "\n",
    "The approach is similar to that in walkthrough 3, but you should try to do this yourself, giving thought to what decisions are being made as you go through. You can reach to the notebook for walkthrough 3 when you need it.\n",
    "\n",
    "**To keep things simple, you can remove one of the flowers and use a binary regression.**\n",
    "\n",
    "However, if you would like to attempt a Softmax regression, after doing this, here is a good link to find out more:\n",
    "\n",
    "http://rasbt.github.io/mlxtend/user_guide/classifier/SoftmaxRegression/"
   ]
  },
  {
   "cell_type": "markdown",
   "metadata": {},
   "source": [
    "Tips:\n",
    "- Examine the data properly before implementing your algorithm.\n",
    "- Use summary statistics and plots.\n",
    "- Check for missing data and class imbalance.\n",
    "- Explore different operators etc\n",
    "- If you finish, you can find a dataset on Kaggle and have a go at a time-series regression problem (e.g. https://www.kaggle.com/bulentsiyah/for-simple-exercises-time-series-forecasting)."
   ]
  },
  {
   "cell_type": "markdown",
   "metadata": {},
   "source": [
    "## <span style=\"color:#0073e6\">Reading the dataset</span>"
   ]
  },
  {
   "cell_type": "code",
   "execution_count": 3,
   "metadata": {},
   "outputs": [],
   "source": [
    "import numpy as np\n",
    "import pandas as pd\n",
    "from sklearn.datasets import load_iris\n",
    "\n",
    "iris = load_iris()\n",
    "\n",
    "# Convert it into a Pandas dataframe\n",
    "iris_data = pd.DataFrame(data= np.c_[iris['data'], iris['target']],\n",
    "                     columns= iris['feature_names'] + ['target'])"
   ]
  },
  {
   "cell_type": "markdown",
   "metadata": {},
   "source": [
    "## <span style=\"color:#0073e6\">Exploring the dataset</span>"
   ]
  },
  {
   "cell_type": "code",
   "execution_count": null,
   "metadata": {},
   "outputs": [],
   "source": []
  },
  {
   "cell_type": "markdown",
   "metadata": {},
   "source": [
    "# <span style=\"color:blue\">Add your GA code below</span>"
   ]
  },
  {
   "cell_type": "code",
   "execution_count": null,
   "metadata": {},
   "outputs": [],
   "source": []
  },
  {
   "cell_type": "code",
   "execution_count": null,
   "metadata": {},
   "outputs": [],
   "source": []
  },
  {
   "cell_type": "code",
   "execution_count": null,
   "metadata": {},
   "outputs": [],
   "source": []
  },
  {
   "cell_type": "code",
   "execution_count": null,
   "metadata": {},
   "outputs": [],
   "source": []
  },
  {
   "cell_type": "code",
   "execution_count": null,
   "metadata": {},
   "outputs": [],
   "source": []
  },
  {
   "cell_type": "code",
   "execution_count": null,
   "metadata": {},
   "outputs": [],
   "source": []
  },
  {
   "cell_type": "code",
   "execution_count": null,
   "metadata": {},
   "outputs": [],
   "source": []
  },
  {
   "cell_type": "code",
   "execution_count": null,
   "metadata": {},
   "outputs": [],
   "source": []
  },
  {
   "cell_type": "code",
   "execution_count": null,
   "metadata": {},
   "outputs": [],
   "source": []
  }
 ],
 "metadata": {
  "kernelspec": {
   "display_name": "computer-science",
   "language": "python",
   "name": "computer-science"
  },
  "language_info": {
   "codemirror_mode": {
    "name": "ipython",
    "version": 3
   },
   "file_extension": ".py",
   "mimetype": "text/x-python",
   "name": "python",
   "nbconvert_exporter": "python",
   "pygments_lexer": "ipython3",
   "version": "3.10.9"
  }
 },
 "nbformat": 4,
 "nbformat_minor": 4
}
