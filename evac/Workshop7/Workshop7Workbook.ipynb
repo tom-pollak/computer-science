{
 "cells": [
  {
   "cell_type": "markdown",
   "metadata": {},
   "source": [
    "# <span style=\"color:blue\">EVCO Workshop 7: Competitive Coevolution</span>"
   ]
  },
  {
   "cell_type": "markdown",
   "metadata": {},
   "source": [
    "Simon O'Keefe: simon.okeefe@york.ac.uk\n",
    "\n",
    "Danny Roberts: danny.roberts@york.ac.uk\n",
    "\n",
    "Tianda Sun: tianda.sun@york.ac.uk"
   ]
  },
  {
   "cell_type": "markdown",
   "metadata": {},
   "source": [
    "## <span style=\"color:#0073e6\">Learning objectives</span>"
   ]
  },
  {
   "cell_type": "markdown",
   "metadata": {},
   "source": [
    "- To implement a simple competitive coevolutionary algorithm using DEAP\n",
    "- To understand how the populations interact and the impact of changing parameters in each population\n",
    "- Implement a common version of fitness sharing (diversity measure)"
   ]
  },
  {
   "cell_type": "markdown",
   "metadata": {},
   "source": [
    "# <span style=\"color:blue\">Practical Instructions</span>"
   ]
  },
  {
   "cell_type": "markdown",
   "metadata": {},
   "source": [
    "This task takes a toy game to explore competitive evolution in a simplistic domain. The game is called the Matching Game and is a coevolutionary version of the max-ones game. If you want to read more about a coevolutionary algorithm implementing this game, then you can read the paper on the VLE (matchingGame.pdf).\n",
    "\n",
    "In this simple immune system-inspired game, there are two populations: parasites and hosts. Each population is represented by a bit-string. Parasites are rewarded for their number of binary genes that match the corresponding binary genes of hosts, but hosts are rewarded for corresponding genes mismatching with parasites. Games of this type often result in coevolutionary cycling, because hosts chase parasites through solution space.\n",
    "\n",
    "**Fitness function:** Not all genes are always involved in this matching game. For parasites with many 1-alleles, the matching game tends to involve only those genes at which the parasite possesses 1-alleles. For parasites with many 0-alleles, the game tends to involve only those genes at which the parasite possesses 0-alleles. Whether 1-allele gene or 0-allele gene are involved is determined probabilistically. The probability, p, of a game involving matching 1-alleles increases with the total number of 1-alleles, x, that the parasite has such that:\n",
    "\n",
    "<img src=\"equ.png\" alt=\"equation\" width=250>\n",
    "\n",
    "Otherwise the game matches based on only 0-alleles for that parasite and its hpst opponents.\n",
    "\n",
    "Once the game has been decided, the fitness of the host is the number of genes that it mismatches for each individual, and the fitness of the parasite is the number of genes that match for each individual.\n",
    "\n",
    "**If you want to start simpler, you can implement the game with a simple evaluation function based simply on the number of genes matched (for the parasite) or unmatched (for the host), and then move on to this more complicated version.**"
   ]
  },
  {
   "cell_type": "markdown",
   "metadata": {},
   "source": [
    "# <span style=\"color:blue\">Exercise 1: Implement the coevolutionary problem</span>"
   ]
  },
  {
   "cell_type": "markdown",
   "metadata": {},
   "source": [
    "Your task is to implement this game in DEAP. DEAP does not implement parasitic coevolution directly. However, parasitic evolution is simply two evolutionary algorithms running simultaneously, with the fitness of each population linked. So you can implement this using your current knowledge of DEAP. Implement the problem and try to understand the results.\n",
    "\n",
    "**Implementation Details**\n",
    "\n",
    "I suggest using the max-ones code you developed in the first practical as a starting point.\n",
    "- Use two distinct populations (species) of size 50 each (hosts / parasites)\n",
    "- Individuals in each population consist of binary strings containing 100 bits, initialised at random at generation 0.\n",
    "- In each generation, members of the host population are selected to play a set of pair-wise contests against a random sample of 5 opponents from the parasite population.\n",
    "- Each individual has a small probability of a bit-flip mutation with a probability per gene of 0.05 (indpb=0.05) for each population\n",
    "- Use tournament selection with size 6\n",
    "- Run for 150 generations to start with\n",
    "- Unlike standard evolution, you should **not** check to see if an individual has been modified (e.g. remove ‘invalid_ind’ and ‘del mutant.fitness.values’) before assessing their fitness, because relative fitness can change even if they have not been modified. Thus, you always need to reassess fitness.\n",
    "\n",
    "**Things to do:**\n",
    "- To explore the coevolution of the hosts and parasites, plot the average number of 1s in each generation, for each population alongside each other on a graph.\n",
    "- Try giving a high mutation rate (e.g. indpb=0.1) to the parasite, and lower to the host (e.g. indpb=0.01). How does this change the coevolutionary dynamic?\n",
    "- Now reverse those mutation rates, so that the host has a mutational advantage. How does this change the coevolutionary dynamic?"
   ]
  },
  {
   "cell_type": "markdown",
   "metadata": {},
   "source": [
    "## <span style=\"color:#0073e6\">Live plotting</span>"
   ]
  },
  {
   "cell_type": "markdown",
   "metadata": {},
   "source": [
    "As an optional extra, we could plot progress as the code runs. You do not have to do this, and could chose to save progress and plot later too. If you choose to do it, make sure that you import 'display' from IPython first."
   ]
  },
  {
   "cell_type": "code",
   "execution_count": 5,
   "metadata": {},
   "outputs": [],
   "source": [
    "from IPython import display\n",
    "from deap import base, creator, tools, algorithms\n",
    "import numpy as np\n",
    "import matplotlib.pyplot as plt\n",
    "%matplotlib inline"
   ]
  },
  {
   "cell_type": "code",
   "execution_count": 1,
   "metadata": {},
   "outputs": [],
   "source": [
    "import random\n",
    "\n",
    "from deap import base, creator, tools\n",
    "\n",
    "# define the fitness and individual type using the DEAP library's creator module\n",
    "creator.create(\"FitnessMax\", base.Fitness, weights=(1.0,))\n",
    "creator.create(\"Individual\", list, fitness=creator.FitnessMax)\n",
    "\n",
    "# define the toolbox with mutation and selection operators using the DEAP library's base module\n",
    "toolbox = base.Toolbox()\n",
    "\n",
    "def generate_individual(length):\n",
    "    return [random.randint(0, 1) for _ in range(length)]\n",
    "\n",
    "# register the generate individual function as a method of the DEAP toolbox\n",
    "toolbox.register(\"individual\", generate_individual, length=10)\n",
    "toolbox.register(\"population\", tools.initRepeat, list, toolbox.individual)\n",
    "\n",
    "def evaluate_fitness(individual):\n",
    "    return sum(individual),\n",
    "\n",
    "toolbox.register(\"evaluate\", evaluate_fitness)\n",
    "toolbox.register(\"mate\", tools.cxTwoPoint)\n",
    "toolbox.register(\"mutate\", tools.mutFlipBit, indpb=0.05)\n",
    "toolbox.register(\"select\", tools.selTournament, tournsize=3)\n",
    "toolbox.register(\"fitness\")\n"
   ]
  },
  {
   "cell_type": "code",
   "execution_count": 2,
   "metadata": {},
   "outputs": [
    {
     "ename": "AttributeError",
     "evalue": "'list' object has no attribute 'fitness'",
     "output_type": "error",
     "traceback": [
      "\u001b[0;31m---------------------------------------------------------------------------\u001b[0m",
      "\u001b[0;31mAttributeError\u001b[0m                            Traceback (most recent call last)",
      "Cell \u001b[0;32mIn[2], line 11\u001b[0m\n\u001b[1;32m      8\u001b[0m population \u001b[39m=\u001b[39m toolbox\u001b[39m.\u001b[39mpopulation(n\u001b[39m=\u001b[39mpopulation_size)\n\u001b[1;32m     10\u001b[0m \u001b[39mfor\u001b[39;00m individual \u001b[39min\u001b[39;00m population:\n\u001b[0;32m---> 11\u001b[0m     individual\u001b[39m.\u001b[39;49mfitness\u001b[39m.\u001b[39mvalues \u001b[39m=\u001b[39m toolbox\u001b[39m.\u001b[39mevaluate(individual)\n\u001b[1;32m     13\u001b[0m \u001b[39mfor\u001b[39;00m generation \u001b[39min\u001b[39;00m \u001b[39mrange\u001b[39m(num_generations):\n\u001b[1;32m     14\u001b[0m     offspring \u001b[39m=\u001b[39m [toolbox\u001b[39m.\u001b[39mclone(ind) \u001b[39mfor\u001b[39;00m ind \u001b[39min\u001b[39;00m population]\n",
      "\u001b[0;31mAttributeError\u001b[0m: 'list' object has no attribute 'fitness'"
     ]
    }
   ],
   "source": [
    "population_size = 100\n",
    "num_generations = 50\n",
    "crossover_probability = 0.5\n",
    "mutation_probability = 0.2\n",
    "\n",
    "random.seed(42)\n",
    "\n",
    "population = toolbox.population(n=population_size)\n",
    "\n",
    "for individual in population:\n",
    "    individual.fitness.values = toolbox.evaluate(individual)\n",
    "\n",
    "for generation in range(num_generations):\n",
    "    offspring = [toolbox.clone(ind) for ind in population]\n",
    "\n",
    "    for child1, child2 in zip(offspring[::2], offspring[1::2]):\n",
    "        if random.random() < crossover_probability:\n",
    "            toolbox.mate(child1, child2)\n",
    "            del child1.fitness.values\n",
    "            del child2.fitness.values\n",
    "\n",
    "    for mutant in offspring:\n",
    "        if random.random() < mutation_probability:\n",
    "            toolbox.mutate(mutant)\n",
    "            del mutant.fitness.values\n",
    "\n",
    "    invalid_individuals = [ind for ind in offspring if not ind.fitness.valid]\n",
    "    fitness_values = [toolbox.evaluate(ind) for ind in invalid_individuals]\n",
    "    for individual, fitness_value in zip(invalid_individuals, fitness_values):\n",
    "        individual.fitness.values = fitness_value\n",
    "\n",
    "    population[:] = offspring\n",
    "\n",
    "    fits = [ind.fitness.values[0] for ind in population]\n",
    "    print(f\"Generation {generation}: Max fitness = {max(fits)}\")\n",
    "\n",
    "best_individual = tools.selBest(population, k=1)[0]\n",
    "print(f\"\\nBest individual: {best_individual}\\nFitness: {best_individual.fitness.values[0]}\")\n"
   ]
  },
  {
   "cell_type": "markdown",
   "metadata": {},
   "source": [
    "At the end of each generation, within the loop, you can now plot the number of ones for each individual in each species using the code:"
   ]
  },
  {
   "cell_type": "code",
   "execution_count": 3,
   "metadata": {},
   "outputs": [
    {
     "ename": "NameError",
     "evalue": "name 'g' is not defined",
     "output_type": "error",
     "traceback": [
      "\u001b[0;31m---------------------------------------------------------------------------\u001b[0m",
      "\u001b[0;31mNameError\u001b[0m                                 Traceback (most recent call last)",
      "Cell \u001b[0;32mIn[3], line 1\u001b[0m\n\u001b[0;32m----> 1\u001b[0m gen \u001b[39m=\u001b[39m [g] \u001b[39m*\u001b[39m POPSIZE\n\u001b[1;32m      2\u001b[0m host \u001b[39m=\u001b[39m [\u001b[39msum\u001b[39m(x) \u001b[39mfor\u001b[39;00m x \u001b[39min\u001b[39;00m popHost]\n\u001b[1;32m      3\u001b[0m parasite \u001b[39m=\u001b[39m [\u001b[39msum\u001b[39m(x) \u001b[39mfor\u001b[39;00m x \u001b[39min\u001b[39;00m popParasite]\n",
      "\u001b[0;31mNameError\u001b[0m: name 'g' is not defined"
     ]
    }
   ],
   "source": [
    "gen = [g] * POPSIZE\n",
    "host = [sum(x) for x in popHost]\n",
    "parasite = [sum(x) for x in popParasite]\n",
    "plt.scatter( gen, host, color='red', s=15, alpha=0.05)\n",
    "plt.scatter( gen, parasite, color='blue', s=15, alpha=0.05)\n",
    "display.display(plt.gcf())\n",
    "display.clear_output(wait=True)"
   ]
  },
  {
   "cell_type": "markdown",
   "metadata": {},
   "source": [
    "Where g is the current generation, POPSIZE is your population size (assuming equal population sizes for each species here), popHost is your host population and popParasite is your parasite population."
   ]
  },
  {
   "cell_type": "markdown",
   "metadata": {},
   "source": [
    "# <span style=\"color:blue\">Exercise 2: Diversity measures and general strategies</span>"
   ]
  },
  {
   "cell_type": "markdown",
   "metadata": {},
   "source": [
    "You can see that short-term strategies and cycling can occur a lot. This is simply a property of this problem. However, transitivity can be a real issue when it comes to other problems. As you have seen in the lectures, diversity measures can help with not only this, but with evolvability in general (and are particularly important for coevolution and multi-objective evolution).\n",
    "\n",
    "Fitness sharing is a commonly used diversity method that we will implement. Although it will not make much difference for this problem, the intention here is to understand how to implement it for this problem.\n",
    "\n",
    "**Watch the short pre-recorded mini-lecture on fitness sharing (under workshop materials)** where I go into more detail on the method. Here is the pseudocode for how you would implement it here. To calculate the shared fitness for individual i:\n",
    "\n",
    "```\n",
    "alpha = 0.5 \n",
    "sigma = 5\n",
    "\n",
    "res = 0\n",
    "for each individual j in the population \n",
    "    calculate the genotype distance from i to j\n",
    "    if distance < sigma\n",
    "        res += 1 – (distance/sigma)**alpha\n",
    "fitness = (original_fitness / res),    \n",
    "```\n",
    "\n",
    "For our binary genomes, we can calculate the difference between genomes using the Hamming distance, which simply returns the number of positions where the two individuals differ. Below is a Python implementation of Hamming distance between two genotypes (s1 and s2):"
   ]
  },
  {
   "cell_type": "code",
   "execution_count": 2,
   "metadata": {},
   "outputs": [],
   "source": [
    "def hamming(s1, s2):\n",
    "    assert len(s1) == len(s2)\n",
    "    return sum(c1 != c2 for c1, c2 in zip(s1, s2))"
   ]
  },
  {
   "cell_type": "markdown",
   "metadata": {},
   "source": [
    "**Your task:** Implement fitness sharing for both populations."
   ]
  }
 ],
 "metadata": {
  "kernelspec": {
   "display_name": "computer-science",
   "language": "python",
   "name": "computer-science"
  },
  "language_info": {
   "codemirror_mode": {
    "name": "ipython",
    "version": 3
   },
   "file_extension": ".py",
   "mimetype": "text/x-python",
   "name": "python",
   "nbconvert_exporter": "python",
   "pygments_lexer": "ipython3",
   "version": "3.11.1"
  }
 },
 "nbformat": 4,
 "nbformat_minor": 4
}
