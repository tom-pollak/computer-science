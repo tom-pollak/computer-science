{
 "cells": [
  {
   "cell_type": "markdown",
   "metadata": {},
   "source": [
    "# Walkthrough 3: Binary classification"
   ]
  },
  {
   "cell_type": "markdown",
   "metadata": {},
   "source": [
    "## Context"
   ]
  },
  {
   "cell_type": "markdown",
   "metadata": {},
   "source": [
    "This dataset includes measurements of Palmer penguins, along with what species of penguin they are. The idea is to classify whether the penguin is a Chinstrap, Gentoo, or Adélie.\n",
    "<img src=\"penguins.png\" alt=\"Penguins\" width=500>  \n",
    "\n",
    "The dataset consists of 7 columns.\n",
    "\n",
    "- species: penguin species (Chinstrap, Adélie, or Gentoo)  \n",
    "- culmen_length_mm: culmen length (mm)  \n",
    "- culmen_depth_mm: culmen depth (mm)  \n",
    "- flipper_length_mm: flipper length (mm)  \n",
    "- body_mass_g: body mass (g)  \n",
    "- island: island name (Dream, Torgersen, or Biscoe) in the Palmer Archipelago (Antarctica)  \n",
    "- sex: penguin sex  \n",
    "\n",
    "<img src=\"culmen_depth.png\" alt=\"Penguins\" width=400>\n",
    "\n",
    "Artwork by @allison_horst  \n",
    "\n",
    "Horst AM, Hill AP, Gorman KB (2020). palmerpenguins: Palmer Archipelago (Antarctica) penguin data. https://allisonhorst.github.io/palmerpenguins/. doi: 10.5281/zenodo.3960218."
   ]
  },
  {
   "cell_type": "markdown",
   "metadata": {},
   "source": [
    "## Reading the dataset"
   ]
  },
  {
   "cell_type": "code",
   "execution_count": 1,
   "metadata": {},
   "outputs": [],
   "source": [
    "import numpy as np\n",
    "import pandas as pd\n",
    "\n",
    "penguins = pd.read_csv('penguins.csv')"
   ]
  },
  {
   "cell_type": "markdown",
   "metadata": {},
   "source": [
    "We will remove the Chinstrap species for this excercise (unless you want to implement a Softmax regression). "
   ]
  },
  {
   "cell_type": "code",
   "execution_count": 2,
   "metadata": {},
   "outputs": [],
   "source": [
    "penguins = penguins[penguins['species'] != 'Chinstrap']"
   ]
  },
  {
   "cell_type": "markdown",
   "metadata": {},
   "source": [
    "We will also remove the island and sex features/columns for this exercise."
   ]
  },
  {
   "cell_type": "code",
   "execution_count": 3,
   "metadata": {},
   "outputs": [],
   "source": [
    "penguins = penguins.drop(['island'], axis = 1)\n",
    "penguins = penguins.drop(['sex'], axis = 1)"
   ]
  },
  {
   "cell_type": "markdown",
   "metadata": {},
   "source": [
    "## Explore and clean up the data"
   ]
  },
  {
   "cell_type": "markdown",
   "metadata": {},
   "source": [
    "# What we will do here"
   ]
  },
  {
   "cell_type": "markdown",
   "metadata": {},
   "source": [
    "Evolve a solution that is a binary classifier of whether a penguin is a Chinstrap or Gentoo. Remember to check and explore the data before implementing your algorithm."
   ]
  },
  {
   "cell_type": "markdown",
   "metadata": {},
   "source": [
    "# Walkthrough"
   ]
  },
  {
   "cell_type": "code",
   "execution_count": 4,
   "metadata": {
    "scrolled": true
   },
   "outputs": [
    {
     "data": {
      "text/html": [
       "<div>\n",
       "<style scoped>\n",
       "    .dataframe tbody tr th:only-of-type {\n",
       "        vertical-align: middle;\n",
       "    }\n",
       "\n",
       "    .dataframe tbody tr th {\n",
       "        vertical-align: top;\n",
       "    }\n",
       "\n",
       "    .dataframe thead th {\n",
       "        text-align: right;\n",
       "    }\n",
       "</style>\n",
       "<table border=\"1\" class=\"dataframe\">\n",
       "  <thead>\n",
       "    <tr style=\"text-align: right;\">\n",
       "      <th></th>\n",
       "      <th>species</th>\n",
       "      <th>culmen_length_mm</th>\n",
       "      <th>culmen_depth_mm</th>\n",
       "      <th>flipper_length_mm</th>\n",
       "      <th>body_mass_g</th>\n",
       "    </tr>\n",
       "  </thead>\n",
       "  <tbody>\n",
       "    <tr>\n",
       "      <th>0</th>\n",
       "      <td>Adelie</td>\n",
       "      <td>39.1</td>\n",
       "      <td>18.7</td>\n",
       "      <td>181.0</td>\n",
       "      <td>3750.0</td>\n",
       "    </tr>\n",
       "    <tr>\n",
       "      <th>1</th>\n",
       "      <td>Adelie</td>\n",
       "      <td>39.5</td>\n",
       "      <td>17.4</td>\n",
       "      <td>186.0</td>\n",
       "      <td>3800.0</td>\n",
       "    </tr>\n",
       "    <tr>\n",
       "      <th>2</th>\n",
       "      <td>Adelie</td>\n",
       "      <td>40.3</td>\n",
       "      <td>18.0</td>\n",
       "      <td>195.0</td>\n",
       "      <td>3250.0</td>\n",
       "    </tr>\n",
       "    <tr>\n",
       "      <th>3</th>\n",
       "      <td>Adelie</td>\n",
       "      <td>NaN</td>\n",
       "      <td>NaN</td>\n",
       "      <td>NaN</td>\n",
       "      <td>NaN</td>\n",
       "    </tr>\n",
       "    <tr>\n",
       "      <th>4</th>\n",
       "      <td>Adelie</td>\n",
       "      <td>36.7</td>\n",
       "      <td>19.3</td>\n",
       "      <td>193.0</td>\n",
       "      <td>3450.0</td>\n",
       "    </tr>\n",
       "    <tr>\n",
       "      <th>...</th>\n",
       "      <td>...</td>\n",
       "      <td>...</td>\n",
       "      <td>...</td>\n",
       "      <td>...</td>\n",
       "      <td>...</td>\n",
       "    </tr>\n",
       "    <tr>\n",
       "      <th>95</th>\n",
       "      <td>Adelie</td>\n",
       "      <td>40.8</td>\n",
       "      <td>18.9</td>\n",
       "      <td>208.0</td>\n",
       "      <td>4300.0</td>\n",
       "    </tr>\n",
       "    <tr>\n",
       "      <th>96</th>\n",
       "      <td>Adelie</td>\n",
       "      <td>38.1</td>\n",
       "      <td>18.6</td>\n",
       "      <td>190.0</td>\n",
       "      <td>3700.0</td>\n",
       "    </tr>\n",
       "    <tr>\n",
       "      <th>97</th>\n",
       "      <td>Adelie</td>\n",
       "      <td>40.3</td>\n",
       "      <td>18.5</td>\n",
       "      <td>196.0</td>\n",
       "      <td>4350.0</td>\n",
       "    </tr>\n",
       "    <tr>\n",
       "      <th>98</th>\n",
       "      <td>Adelie</td>\n",
       "      <td>33.1</td>\n",
       "      <td>16.1</td>\n",
       "      <td>178.0</td>\n",
       "      <td>2900.0</td>\n",
       "    </tr>\n",
       "    <tr>\n",
       "      <th>99</th>\n",
       "      <td>Adelie</td>\n",
       "      <td>43.2</td>\n",
       "      <td>18.5</td>\n",
       "      <td>192.0</td>\n",
       "      <td>4100.0</td>\n",
       "    </tr>\n",
       "  </tbody>\n",
       "</table>\n",
       "<p>100 rows × 5 columns</p>\n",
       "</div>"
      ],
      "text/plain": [
       "   species  culmen_length_mm  culmen_depth_mm  flipper_length_mm  body_mass_g\n",
       "0   Adelie              39.1             18.7              181.0       3750.0\n",
       "1   Adelie              39.5             17.4              186.0       3800.0\n",
       "2   Adelie              40.3             18.0              195.0       3250.0\n",
       "3   Adelie               NaN              NaN                NaN          NaN\n",
       "4   Adelie              36.7             19.3              193.0       3450.0\n",
       "..     ...               ...              ...                ...          ...\n",
       "95  Adelie              40.8             18.9              208.0       4300.0\n",
       "96  Adelie              38.1             18.6              190.0       3700.0\n",
       "97  Adelie              40.3             18.5              196.0       4350.0\n",
       "98  Adelie              33.1             16.1              178.0       2900.0\n",
       "99  Adelie              43.2             18.5              192.0       4100.0\n",
       "\n",
       "[100 rows x 5 columns]"
      ]
     },
     "execution_count": 4,
     "metadata": {},
     "output_type": "execute_result"
    }
   ],
   "source": [
    "penguins.head(100)"
   ]
  },
  {
   "cell_type": "code",
   "execution_count": 5,
   "metadata": {},
   "outputs": [
    {
     "name": "stdout",
     "output_type": "stream",
     "text": [
      "<class 'pandas.core.frame.DataFrame'>\n",
      "Int64Index: 276 entries, 0 to 343\n",
      "Data columns (total 5 columns):\n",
      " #   Column             Non-Null Count  Dtype  \n",
      "---  ------             --------------  -----  \n",
      " 0   species            276 non-null    object \n",
      " 1   culmen_length_mm   274 non-null    float64\n",
      " 2   culmen_depth_mm    274 non-null    float64\n",
      " 3   flipper_length_mm  274 non-null    float64\n",
      " 4   body_mass_g        274 non-null    float64\n",
      "dtypes: float64(4), object(1)\n",
      "memory usage: 12.9+ KB\n"
     ]
    }
   ],
   "source": [
    "penguins.info()"
   ]
  },
  {
   "cell_type": "code",
   "execution_count": 6,
   "metadata": {},
   "outputs": [
    {
     "data": {
      "text/plain": [
       "Adelie    152\n",
       "Gentoo    124\n",
       "Name: species, dtype: int64"
      ]
     },
     "execution_count": 6,
     "metadata": {},
     "output_type": "execute_result"
    }
   ],
   "source": [
    "penguins.species.value_counts()"
   ]
  },
  {
   "cell_type": "markdown",
   "metadata": {},
   "source": [
    "Looks like the dataset is already reasonably balanced between these two species, but not perfect. We probably don't need to resample here."
   ]
  },
  {
   "cell_type": "code",
   "execution_count": 7,
   "metadata": {},
   "outputs": [],
   "source": [
    "penguins = penguins.replace('Adelie',0).replace('Gentoo',1)\n",
    "penguins = penguins.rename(columns={'species': 'target'})"
   ]
  },
  {
   "cell_type": "code",
   "execution_count": 8,
   "metadata": {},
   "outputs": [
    {
     "data": {
      "text/html": [
       "<div>\n",
       "<style scoped>\n",
       "    .dataframe tbody tr th:only-of-type {\n",
       "        vertical-align: middle;\n",
       "    }\n",
       "\n",
       "    .dataframe tbody tr th {\n",
       "        vertical-align: top;\n",
       "    }\n",
       "\n",
       "    .dataframe thead th {\n",
       "        text-align: right;\n",
       "    }\n",
       "</style>\n",
       "<table border=\"1\" class=\"dataframe\">\n",
       "  <thead>\n",
       "    <tr style=\"text-align: right;\">\n",
       "      <th></th>\n",
       "      <th>target</th>\n",
       "      <th>culmen_length_mm</th>\n",
       "      <th>culmen_depth_mm</th>\n",
       "      <th>flipper_length_mm</th>\n",
       "      <th>body_mass_g</th>\n",
       "    </tr>\n",
       "  </thead>\n",
       "  <tbody>\n",
       "    <tr>\n",
       "      <th>count</th>\n",
       "      <td>276.000000</td>\n",
       "      <td>274.000000</td>\n",
       "      <td>274.000000</td>\n",
       "      <td>274.000000</td>\n",
       "      <td>274.000000</td>\n",
       "    </tr>\n",
       "    <tr>\n",
       "      <th>mean</th>\n",
       "      <td>0.449275</td>\n",
       "      <td>42.702920</td>\n",
       "      <td>16.836131</td>\n",
       "      <td>202.178832</td>\n",
       "      <td>4318.065693</td>\n",
       "    </tr>\n",
       "    <tr>\n",
       "      <th>std</th>\n",
       "      <td>0.498324</td>\n",
       "      <td>5.195566</td>\n",
       "      <td>2.013410</td>\n",
       "      <td>15.047938</td>\n",
       "      <td>835.933105</td>\n",
       "    </tr>\n",
       "    <tr>\n",
       "      <th>min</th>\n",
       "      <td>0.000000</td>\n",
       "      <td>32.100000</td>\n",
       "      <td>13.100000</td>\n",
       "      <td>172.000000</td>\n",
       "      <td>2850.000000</td>\n",
       "    </tr>\n",
       "    <tr>\n",
       "      <th>25%</th>\n",
       "      <td>0.000000</td>\n",
       "      <td>38.350000</td>\n",
       "      <td>15.000000</td>\n",
       "      <td>190.000000</td>\n",
       "      <td>3600.000000</td>\n",
       "    </tr>\n",
       "    <tr>\n",
       "      <th>50%</th>\n",
       "      <td>0.000000</td>\n",
       "      <td>42.000000</td>\n",
       "      <td>17.000000</td>\n",
       "      <td>198.000000</td>\n",
       "      <td>4262.500000</td>\n",
       "    </tr>\n",
       "    <tr>\n",
       "      <th>75%</th>\n",
       "      <td>1.000000</td>\n",
       "      <td>46.675000</td>\n",
       "      <td>18.500000</td>\n",
       "      <td>215.000000</td>\n",
       "      <td>4950.000000</td>\n",
       "    </tr>\n",
       "    <tr>\n",
       "      <th>max</th>\n",
       "      <td>1.000000</td>\n",
       "      <td>59.600000</td>\n",
       "      <td>21.500000</td>\n",
       "      <td>231.000000</td>\n",
       "      <td>6300.000000</td>\n",
       "    </tr>\n",
       "  </tbody>\n",
       "</table>\n",
       "</div>"
      ],
      "text/plain": [
       "           target  culmen_length_mm  culmen_depth_mm  flipper_length_mm  \\\n",
       "count  276.000000        274.000000       274.000000         274.000000   \n",
       "mean     0.449275         42.702920        16.836131         202.178832   \n",
       "std      0.498324          5.195566         2.013410          15.047938   \n",
       "min      0.000000         32.100000        13.100000         172.000000   \n",
       "25%      0.000000         38.350000        15.000000         190.000000   \n",
       "50%      0.000000         42.000000        17.000000         198.000000   \n",
       "75%      1.000000         46.675000        18.500000         215.000000   \n",
       "max      1.000000         59.600000        21.500000         231.000000   \n",
       "\n",
       "       body_mass_g  \n",
       "count   274.000000  \n",
       "mean   4318.065693  \n",
       "std     835.933105  \n",
       "min    2850.000000  \n",
       "25%    3600.000000  \n",
       "50%    4262.500000  \n",
       "75%    4950.000000  \n",
       "max    6300.000000  "
      ]
     },
     "execution_count": 8,
     "metadata": {},
     "output_type": "execute_result"
    }
   ],
   "source": [
    "penguins.describe(include='all')"
   ]
  },
  {
   "cell_type": "markdown",
   "metadata": {},
   "source": [
    "Check for missing data"
   ]
  },
  {
   "cell_type": "code",
   "execution_count": 9,
   "metadata": {},
   "outputs": [
    {
     "data": {
      "text/plain": [
       "target               0\n",
       "culmen_length_mm     2\n",
       "culmen_depth_mm      2\n",
       "flipper_length_mm    2\n",
       "body_mass_g          2\n",
       "dtype: int64"
      ]
     },
     "execution_count": 9,
     "metadata": {},
     "output_type": "execute_result"
    }
   ],
   "source": [
    "penguins.isnull().sum()"
   ]
  },
  {
   "cell_type": "markdown",
   "metadata": {},
   "source": [
    "Looks like there is missing data. We will use a simple imputation procedure to replace the missing data. Here, we only have numeric features and take a basic approach of replacing missing data with the mean of that measurement."
   ]
  },
  {
   "cell_type": "code",
   "execution_count": 10,
   "metadata": {},
   "outputs": [],
   "source": [
    "from sklearn.impute import SimpleImputer\n",
    "\n",
    "imputer = SimpleImputer(missing_values=np.NaN, strategy='mean')\n",
    "penguins.iloc[:,1:] = imputer.fit_transform(penguins.iloc[:,1:])"
   ]
  },
  {
   "cell_type": "code",
   "execution_count": 11,
   "metadata": {},
   "outputs": [
    {
     "data": {
      "text/html": [
       "<div>\n",
       "<style scoped>\n",
       "    .dataframe tbody tr th:only-of-type {\n",
       "        vertical-align: middle;\n",
       "    }\n",
       "\n",
       "    .dataframe tbody tr th {\n",
       "        vertical-align: top;\n",
       "    }\n",
       "\n",
       "    .dataframe thead th {\n",
       "        text-align: right;\n",
       "    }\n",
       "</style>\n",
       "<table border=\"1\" class=\"dataframe\">\n",
       "  <thead>\n",
       "    <tr style=\"text-align: right;\">\n",
       "      <th></th>\n",
       "      <th>target</th>\n",
       "      <th>culmen_length_mm</th>\n",
       "      <th>culmen_depth_mm</th>\n",
       "      <th>flipper_length_mm</th>\n",
       "      <th>body_mass_g</th>\n",
       "    </tr>\n",
       "  </thead>\n",
       "  <tbody>\n",
       "    <tr>\n",
       "      <th>count</th>\n",
       "      <td>276.000000</td>\n",
       "      <td>276.000000</td>\n",
       "      <td>276.000000</td>\n",
       "      <td>276.000000</td>\n",
       "      <td>276.000000</td>\n",
       "    </tr>\n",
       "    <tr>\n",
       "      <th>mean</th>\n",
       "      <td>0.449275</td>\n",
       "      <td>42.702920</td>\n",
       "      <td>16.836131</td>\n",
       "      <td>202.178832</td>\n",
       "      <td>4318.065693</td>\n",
       "    </tr>\n",
       "    <tr>\n",
       "      <th>std</th>\n",
       "      <td>0.498324</td>\n",
       "      <td>5.176639</td>\n",
       "      <td>2.006075</td>\n",
       "      <td>14.993118</td>\n",
       "      <td>832.887802</td>\n",
       "    </tr>\n",
       "    <tr>\n",
       "      <th>min</th>\n",
       "      <td>0.000000</td>\n",
       "      <td>32.100000</td>\n",
       "      <td>13.100000</td>\n",
       "      <td>172.000000</td>\n",
       "      <td>2850.000000</td>\n",
       "    </tr>\n",
       "    <tr>\n",
       "      <th>25%</th>\n",
       "      <td>0.000000</td>\n",
       "      <td>38.450000</td>\n",
       "      <td>15.000000</td>\n",
       "      <td>190.000000</td>\n",
       "      <td>3600.000000</td>\n",
       "    </tr>\n",
       "    <tr>\n",
       "      <th>50%</th>\n",
       "      <td>0.000000</td>\n",
       "      <td>42.050000</td>\n",
       "      <td>17.000000</td>\n",
       "      <td>198.500000</td>\n",
       "      <td>4287.500000</td>\n",
       "    </tr>\n",
       "    <tr>\n",
       "      <th>75%</th>\n",
       "      <td>1.000000</td>\n",
       "      <td>46.625000</td>\n",
       "      <td>18.500000</td>\n",
       "      <td>215.000000</td>\n",
       "      <td>4950.000000</td>\n",
       "    </tr>\n",
       "    <tr>\n",
       "      <th>max</th>\n",
       "      <td>1.000000</td>\n",
       "      <td>59.600000</td>\n",
       "      <td>21.500000</td>\n",
       "      <td>231.000000</td>\n",
       "      <td>6300.000000</td>\n",
       "    </tr>\n",
       "  </tbody>\n",
       "</table>\n",
       "</div>"
      ],
      "text/plain": [
       "           target  culmen_length_mm  culmen_depth_mm  flipper_length_mm  \\\n",
       "count  276.000000        276.000000       276.000000         276.000000   \n",
       "mean     0.449275         42.702920        16.836131         202.178832   \n",
       "std      0.498324          5.176639         2.006075          14.993118   \n",
       "min      0.000000         32.100000        13.100000         172.000000   \n",
       "25%      0.000000         38.450000        15.000000         190.000000   \n",
       "50%      0.000000         42.050000        17.000000         198.500000   \n",
       "75%      1.000000         46.625000        18.500000         215.000000   \n",
       "max      1.000000         59.600000        21.500000         231.000000   \n",
       "\n",
       "       body_mass_g  \n",
       "count   276.000000  \n",
       "mean   4318.065693  \n",
       "std     832.887802  \n",
       "min    2850.000000  \n",
       "25%    3600.000000  \n",
       "50%    4287.500000  \n",
       "75%    4950.000000  \n",
       "max    6300.000000  "
      ]
     },
     "execution_count": 11,
     "metadata": {},
     "output_type": "execute_result"
    }
   ],
   "source": [
    "penguins.describe(include='all')"
   ]
  },
  {
   "cell_type": "code",
   "execution_count": 1,
   "metadata": {},
   "outputs": [
    {
     "ename": "ModuleNotFoundError",
     "evalue": "No module named 'seaborn'",
     "output_type": "error",
     "traceback": [
      "\u001b[0;31m---------------------------------------------------------------------------\u001b[0m",
      "\u001b[0;31mModuleNotFoundError\u001b[0m                       Traceback (most recent call last)",
      "Cell \u001b[0;32mIn[1], line 1\u001b[0m\n\u001b[0;32m----> 1\u001b[0m \u001b[38;5;28;01mimport\u001b[39;00m \u001b[38;5;21;01mseaborn\u001b[39;00m \u001b[38;5;28;01mas\u001b[39;00m \u001b[38;5;21;01msns\u001b[39;00m\n\u001b[1;32m      2\u001b[0m sns\u001b[38;5;241m.\u001b[39mboxplot(data\u001b[38;5;241m=\u001b[39mpenguins\u001b[38;5;241m.\u001b[39miloc[:,\u001b[38;5;241m1\u001b[39m:\u001b[38;5;241m4\u001b[39m], width\u001b[38;5;241m=\u001b[39m\u001b[38;5;241m0.5\u001b[39m)\n",
      "\u001b[0;31mModuleNotFoundError\u001b[0m: No module named 'seaborn'"
     ]
    }
   ],
   "source": [
    "import seaborn as sns\n",
    "sns.boxplot(data=penguins.iloc[:,1:4], width=0.5)"
   ]
  },
  {
   "cell_type": "code",
   "execution_count": 13,
   "metadata": {},
   "outputs": [
    {
     "data": {
      "text/plain": [
       "<matplotlib.axes._subplots.AxesSubplot at 0x7f8efc1c0490>"
      ]
     },
     "execution_count": 13,
     "metadata": {},
     "output_type": "execute_result"
    },
    {
     "data": {
      "image/png": "[encoded data removed]",
      "text/plain": [
       "<Figure size 432x288 with 1 Axes>"
      ]
     },
     "metadata": {
      "needs_background": "light"
     },
     "output_type": "display_data"
    }
   ],
   "source": [
    "sns.boxplot(x=\"target\", y=\"culmen_length_mm\", data=penguins, width=0.5)"
   ]
  },
  {
   "cell_type": "code",
   "execution_count": 14,
   "metadata": {},
   "outputs": [
    {
     "data": {
      "text/plain": [
       "<matplotlib.axes._subplots.AxesSubplot at 0x7f8efc3f3100>"
      ]
     },
     "execution_count": 14,
     "metadata": {},
     "output_type": "execute_result"
    },
    {
     "data": {
      "image/png": "[encoded data removed]",
      "text/plain": [
       "<Figure size 432x288 with 1 Axes>"
      ]
     },
     "metadata": {
      "needs_background": "light"
     },
     "output_type": "display_data"
    }
   ],
   "source": [
    "sns.boxplot(x=\"target\", y=\"culmen_depth_mm\", data=penguins, width=0.5)"
   ]
  },
  {
   "cell_type": "markdown",
   "metadata": {},
   "source": [
    "Note that if you were going to include these figures in a report they would need tidying up first!"
   ]
  },
  {
   "cell_type": "code",
   "execution_count": 15,
   "metadata": {},
   "outputs": [
    {
     "data": {
      "text/plain": [
       "<seaborn.axisgrid.PairGrid at 0x7f8efc7d1b50>"
      ]
     },
     "execution_count": 15,
     "metadata": {},
     "output_type": "execute_result"
    },
    {
     "data": {
      "image/png": "[encoded data removed]",
      "text/plain": [
       "<Figure size 906.375x864 with 20 Axes>"
      ]
     },
     "metadata": {
      "needs_background": "light"
     },
     "output_type": "display_data"
    }
   ],
   "source": [
    "sns.pairplot(penguins, hue=\"target\", height=3,diag_kind=\"hist\")"
   ]
  },
  {
   "cell_type": "markdown",
   "metadata": {},
   "source": [
    "## Prepare the data for our algorithm"
   ]
  },
  {
   "cell_type": "markdown",
   "metadata": {},
   "source": [
    "Divide into target and features"
   ]
  },
  {
   "cell_type": "code",
   "execution_count": 16,
   "metadata": {},
   "outputs": [],
   "source": [
    "X = penguins.drop(labels='target', axis=1)\n",
    "y = penguins['target']"
   ]
  },
  {
   "cell_type": "markdown",
   "metadata": {},
   "source": [
    "We now need to split into train and test sets. For this, we use a stratified split. This tries to keep the same ratio of each target category in the train and test sets. We're doing this because the dataset is small."
   ]
  },
  {
   "cell_type": "code",
   "execution_count": 17,
   "metadata": {},
   "outputs": [],
   "source": [
    "from sklearn.model_selection import StratifiedShuffleSplit\n",
    "\n",
    "ss = StratifiedShuffleSplit(n_splits = 1, test_size=0.3)\n",
    "ss.get_n_splits(penguins)\n",
    "\n",
    "for train_index, test_index in ss.split(X,y):\n",
    "    X_train = X.iloc[train_index]\n",
    "    y_train = y.iloc[train_index]\n",
    "    X_test = X.iloc[test_index]\n",
    "    y_test = y.iloc[test_index]"
   ]
  },
  {
   "cell_type": "code",
   "execution_count": 18,
   "metadata": {},
   "outputs": [
    {
     "data": {
      "text/plain": [
       "0    106\n",
       "1     87\n",
       "Name: target, dtype: int64"
      ]
     },
     "execution_count": 18,
     "metadata": {},
     "output_type": "execute_result"
    }
   ],
   "source": [
    "y_train.value_counts()"
   ]
  },
  {
   "cell_type": "code",
   "execution_count": 19,
   "metadata": {},
   "outputs": [
    {
     "data": {
      "text/plain": [
       "0    46\n",
       "1    37\n",
       "Name: target, dtype: int64"
      ]
     },
     "execution_count": 19,
     "metadata": {},
     "output_type": "execute_result"
    }
   ],
   "source": [
    "y_test.value_counts()"
   ]
  },
  {
   "cell_type": "markdown",
   "metadata": {},
   "source": [
    "You can see that the split keeps a similar ratio of each species in both the training and test sets."
   ]
  },
  {
   "cell_type": "markdown",
   "metadata": {},
   "source": [
    "# Evolutionary algorithm"
   ]
  },
  {
   "cell_type": "code",
   "execution_count": 34,
   "metadata": {},
   "outputs": [],
   "source": [
    "from deap import base\n",
    "from deap import creator\n",
    "from deap import tools\n",
    "import random"
   ]
  },
  {
   "cell_type": "code",
   "execution_count": 35,
   "metadata": {},
   "outputs": [
    {
     "name": "stderr",
     "output_type": "stream",
     "text": [
      "/usr/local/anaconda3/lib/python3.8/site-packages/deap/creator.py:138: RuntimeWarning: A class named 'FitnessMin' has already been created and it will be overwritten. Consider deleting previous creation of that class or rename it.\n",
      "  warnings.warn(\"A class named '{0}' has already been created and it \"\n",
      "/usr/local/anaconda3/lib/python3.8/site-packages/deap/creator.py:138: RuntimeWarning: A class named 'Individual' has already been created and it will be overwritten. Consider deleting previous creation of that class or rename it.\n",
      "  warnings.warn(\"A class named '{0}' has already been created and it \"\n"
     ]
    }
   ],
   "source": [
    "creator.create(\"FitnessMin\", base.Fitness, weights=(-1.0,))\n",
    "creator.create(\"Individual\", list, fitness=creator.FitnessMin)"
   ]
  },
  {
   "cell_type": "code",
   "execution_count": 36,
   "metadata": {},
   "outputs": [],
   "source": [
    "toolbox = base.Toolbox()\n",
    "toolbox.register(\"attr_float\", random.uniform, -1.0, 1.0)\n",
    "toolbox.register(\"individual\", tools.initRepeat, creator.Individual, toolbox.attr_float, 5)\n",
    "toolbox.register(\"population\", tools.initRepeat, list, toolbox.individual)"
   ]
  },
  {
   "cell_type": "markdown",
   "metadata": {},
   "source": [
    "We need to decide on a representation for our individuals, and will use the GA to optimise a regression model. This means that an individual simply represents the weights with which to multiply the features.\n",
    "\n",
    "For continuous features you can capture non-linearities. Which you can do e.g. using polynomials. Here, we will just keep it simple to illustrate the concept.\n",
    "\n",
    "This means that we will need individuals to represent 1 weight for each of the four features in the dataset. It is also a good idea to add an intercept. Thus, individuals will have five genes."
   ]
  },
  {
   "cell_type": "markdown",
   "metadata": {},
   "source": [
    "We need to define a function that gives a classification for an individual, on a given row in the dataset. For that we use a logistic regression. However, because we want a first prediction (0 or 1) rather than probability, we could apply a threshold at 0.5, to make it a binary regression."
   ]
  },
  {
   "cell_type": "code",
   "execution_count": 37,
   "metadata": {},
   "outputs": [],
   "source": [
    "import math\n",
    "\n",
    "def sigmoid(x):\n",
    "  return 1 / (1 + math.exp(-x))\n",
    "\n",
    "def prediction(individual,row):\n",
    "    regr = individual[0] + sum(i * r for i , r in zip(individual[1:4], row ) )\n",
    "    return( float(sigmoid(regr)) )"
   ]
  },
  {
   "cell_type": "markdown",
   "metadata": {},
   "source": [
    "This represents the model:  \n",
    "\n",
    "y = a + x1w1 + x2w2 + x3w3 + x4w4 + x5w5 + x1^2w6 + x2^2w7 + x3^2w8 + x4^2w9\n",
    "y = (sigmoid(y) > 0.5)\n",
    "\n",
    "Where a is the intercept xi is the feature/column and wi is the weight from the individual that we are evolving. "
   ]
  },
  {
   "cell_type": "code",
   "execution_count": 38,
   "metadata": {},
   "outputs": [],
   "source": [
    "\n",
    "def evalAccuracyTrain(individual, X_train, y_train):\n",
    "    y_pred = [None] * X_train.shape[0]\n",
    "    \n",
    "    index = 0\n",
    "    for i, row in X_train.iterrows():\n",
    "        y_pred[index] = prediction(individual,row)\n",
    "        index += 1\n",
    "        \n",
    "    # calculate mean squared difference (using the training set)\n",
    "    diff = (np.array(y_pred) - np.array(y_train)) ** 2\n",
    "    return( sum(diff), )"
   ]
  },
  {
   "cell_type": "markdown",
   "metadata": {},
   "source": [
    "Normally logistic regression does not use mean squared error (commonly used in linear regression) because it makes the landscape have some local optima. However, this will be fine for this problem."
   ]
  },
  {
   "cell_type": "code",
   "execution_count": 39,
   "metadata": {},
   "outputs": [],
   "source": [
    "toolbox.register(\"evaluate\", evalAccuracyTrain)"
   ]
  },
  {
   "cell_type": "markdown",
   "metadata": {},
   "source": [
    "Let's test our evaluation function before we use it"
   ]
  },
  {
   "cell_type": "code",
   "execution_count": 40,
   "metadata": {},
   "outputs": [],
   "source": [
    "import random\n",
    "indv1 = [random.random() for iter in range(5)]"
   ]
  },
  {
   "cell_type": "code",
   "execution_count": 41,
   "metadata": {},
   "outputs": [],
   "source": [
    "y_pred = [None] * penguins.shape[0]"
   ]
  },
  {
   "cell_type": "code",
   "execution_count": 42,
   "metadata": {},
   "outputs": [
    {
     "data": {
      "text/plain": [
       "1.0"
      ]
     },
     "execution_count": 42,
     "metadata": {},
     "output_type": "execute_result"
    }
   ],
   "source": [
    "prediction(indv1,X_train.iloc[50])"
   ]
  },
  {
   "cell_type": "code",
   "execution_count": 43,
   "metadata": {},
   "outputs": [
    {
     "data": {
      "text/plain": [
       "True"
      ]
     },
     "execution_count": 43,
     "metadata": {},
     "output_type": "execute_result"
    }
   ],
   "source": [
    "prediction(indv1,X_train.iloc[50]) > 0.5"
   ]
  },
  {
   "cell_type": "markdown",
   "metadata": {},
   "source": [
    "Let's carry on with the GA"
   ]
  },
  {
   "cell_type": "markdown",
   "metadata": {},
   "source": [
    "Now we register our operators. We are using a per-gene probability of mutation here, and we have 5 genes. So ba careful not to have mutation so high that you can almost always mutate an individual. You need to preserve some of what you have found."
   ]
  },
  {
   "cell_type": "code",
   "execution_count": 30,
   "metadata": {},
   "outputs": [],
   "source": [
    "toolbox.register(\"mutate\", tools.mutGaussian, mu=0.0, sigma=0.4, indpb=0.2)\n",
    "toolbox.register(\"mate\", tools.cxOnePoint)\n",
    "toolbox.register(\"select\", tools.selTournament, tournsize=3)"
   ]
  },
  {
   "cell_type": "code",
   "execution_count": 31,
   "metadata": {},
   "outputs": [],
   "source": [
    "NGEN, CXPB = 30, 0.2\n",
    "pop = toolbox.population(n=200)\n",
    "\n",
    "fitnesses = [toolbox.evaluate(ind, X_train, y_train) for ind in pop]\n",
    "for ind, fit in zip(pop, fitnesses):\n",
    "    ind.fitness.values = fit"
   ]
  },
  {
   "cell_type": "code",
   "execution_count": 32,
   "metadata": {
    "scrolled": true
   },
   "outputs": [
    {
     "name": "stdout",
     "output_type": "stream",
     "text": [
      "-- Generation 0 --\n",
      "Best individual is [0.4180791605930314, 0.9852144717017195, 0.2953910411012355, -0.22335886845965658, 0.23256737858726617], (66.79418346770143,)\n",
      "-- Generation 1 --\n",
      "Best individual is [-0.38251745247870694, -0.08187472321558953, -0.9151754230486888, 0.07718636093969587, -0.9791908784413863], (51.74939366109166,)\n",
      "-- Generation 2 --\n",
      "Best individual is [-0.2710511298635834, 0.14409237606458436, -0.9909539668570004, 0.07042125554937351, 0.3246527671818835], (42.9626894076054,)\n",
      "-- Generation 3 --\n",
      "Best individual is [0.6773123391078035, 0.5671633115795442, -0.3922585057581609, -0.08470422656573218, 0.3625633631968814], (23.657978575515447,)\n",
      "-- Generation 4 --\n",
      "Best individual is [-0.5786523185974225, 0.20397969815309264, -0.7871389330086509, 0.01937397323150103, 0.23256737858726617], (4.987400951826698,)\n",
      "-- Generation 5 --\n",
      "Best individual is [0.32482140635338497, 0.012046825613196421, -1.0086025718473857, 0.07718636093969587, -0.40384458207410423], (2.4157871770329176,)\n",
      "-- Generation 6 --\n",
      "Best individual is [0.32482140635338497, 0.012046825613196421, -1.0086025718473857, 0.07718636093969587, -0.15619422668379151], (2.4157871770329176,)\n",
      "-- Generation 7 --\n",
      "Best individual is [0.32482140635338497, 0.012046825613196421, -1.0086025718473857, 0.07718636093969587, -0.4202144254106219], (2.4157871770329176,)\n",
      "-- Generation 8 --\n",
      "Best individual is [0.32482140635338497, 0.012046825613196421, -1.0086025718473857, 0.07718636093969587, -0.4292452544064873], (2.4157871770329176,)\n",
      "-- Generation 9 --\n",
      "Best individual is [0.32482140635338497, 0.012046825613196421, -1.0086025718473857, 0.07718636093969587, -0.47116967511354757], (2.4157871770329176,)\n",
      "-- Generation 10 --\n",
      "Best individual is [0.32944238926239894, 0.06940229845228796, -1.1437897951095184, 0.07718636093969587, -0.40384458207410423], (1.5710869020126106,)\n",
      "-- Generation 11 --\n",
      "Best individual is [0.32944238926239894, 0.06940229845228796, -1.1437897951095184, 0.07718636093969587, -1.1742041438762825], (1.5710869020126106,)\n",
      "-- Generation 12 --\n",
      "Best individual is [0.32944238926239894, 0.06940229845228796, -1.1437897951095184, 0.07718636093969587, -1.1742041438762825], (1.5710869020126106,)\n",
      "-- Generation 13 --\n",
      "Best individual is [0.48210877491234, 0.34904975805919247, -2.013519818420279, 0.07718636093969587, -0.28694562887077296], (2.2581590493505064,)\n",
      "-- Generation 14 --\n",
      "Best individual is [1.3699814964084693, 0.34904975805919247, -2.013519818420279, 0.07718636093969587, -0.28694562887077296], (1.4746734562187334,)\n",
      "-- Generation 15 --\n",
      "Best individual is [1.3699814964084693, 0.34904975805919247, -2.013519818420279, 0.07718636093969587, -0.28694562887077296], (1.4746734562187334,)\n",
      "-- Generation 16 --\n",
      "Best individual is [1.8476039748169804, 0.34904975805919247, -2.013519818420279, 0.07718636093969587, -0.28694562887077296], (1.1623913863551092,)\n",
      "-- Generation 17 --\n",
      "Best individual is [1.3699814964084693, 0.34904975805919247, -1.9910691751323855, 0.07718636093969587, -0.28694562887077296], (1.2233122384277284,)\n",
      "-- Generation 18 --\n",
      "Best individual is [1.1305697014012477, 0.34904975805919247, -2.013519818420279, 0.09445716377960064, -0.40033503908725127], (1.2655875277569428,)\n",
      "-- Generation 19 --\n",
      "Best individual is [0.4129006495885865, 0.4817058015157484, -1.5218707169983545, 0.01937397323150103, 0.9986749154155778], (0.9742992185879193,)\n",
      "-- Generation 20 --\n",
      "Best individual is [0.4129006495885865, 0.4817058015157484, -1.5218707169983545, 0.01937397323150103, 0.9986749154155778], (0.9742992185879193,)\n",
      "-- Generation 21 --\n",
      "Best individual is [1.1305697014012477, 0.3173708838337458, -2.013519818420279, 0.09445716377960064, 0.7922641089615643], (0.5158489470165026,)\n",
      "-- Generation 22 --\n",
      "Best individual is [1.1305697014012477, 0.3173708838337458, -2.013519818420279, 0.09445716377960064, 0.7922641089615643], (0.5158489470165026,)\n",
      "-- Generation 23 --\n",
      "Best individual is [1.1305697014012477, 0.3173708838337458, -2.013519818420279, 0.09445716377960064, 0.42276714578580155], (0.5158489470165026,)\n",
      "-- Generation 24 --\n",
      "Best individual is [1.1305697014012477, 0.3173708838337458, -2.013519818420279, 0.09445716377960064, 0.7922641089615643], (0.5158489470165026,)\n",
      "-- Generation 25 --\n",
      "Best individual is [1.3676235297432804, 0.34904975805919247, -2.0930865509200647, 0.09445716377960064, 0.7922641089615643], (0.4793698387722511,)\n",
      "-- Generation 26 --\n",
      "Best individual is [0.9498631777220862, 0.32701600177706514, -2.013519818420279, 0.09445716377960064, 0.777658632647126], (0.5076474581839941,)\n",
      "-- Generation 27 --\n",
      "Best individual is [1.0660445424789105, 0.34904975805919247, -2.0930865509200647, 0.09445716377960064, 0.2655729091472466], (0.49403656433580734,)\n",
      "-- Generation 28 --\n",
      "Best individual is [1.4299606061482732, 0.34904975805919247, -2.0930865509200647, 0.09445716377960064, 0.9015802438154715], (0.4847728303601189,)\n",
      "-- Generation 29 --\n",
      "Best individual is [1.0660445424789105, 0.34904975805919247, -2.0930865509200647, 0.09445716377960064, 0.2655729091472466], (0.49403656433580734,)\n"
     ]
    }
   ],
   "source": [
    "for g in range(NGEN):\n",
    "    print(\"-- Generation %i --\" % g)\n",
    "    offspring = toolbox.select(pop, len(pop))\n",
    "    offspring = list(map(toolbox.clone, offspring))\n",
    "\n",
    "    for child1, child2 in zip(offspring[::2], offspring[1::2]):\n",
    "        if random.random() < CXPB:\n",
    "            toolbox.mate(child1, child2)\n",
    "            del child1.fitness.values\n",
    "            del child2.fitness.values\n",
    "\n",
    "    for mutant in offspring:\n",
    "        toolbox.mutate(mutant)\n",
    "        del mutant.fitness.values\n",
    "\n",
    "    invalid_inds = [ind for ind in offspring if not ind.fitness.valid]\n",
    "    fitnesses = [toolbox.evaluate(ind, X_train, y_train) for ind in invalid_inds]\n",
    "    for ind, fit in zip(invalid_inds, fitnesses):\n",
    "        ind.fitness.values = fit    \n",
    "    \n",
    "    best_ind = tools.selBest(pop, 1)[0]\n",
    "    print(\"Best individual is %s, %s\" % (best_ind, best_ind.fitness.values))\n",
    "    pop[:] = offspring"
   ]
  },
  {
   "cell_type": "markdown",
   "metadata": {},
   "source": [
    "# Examine"
   ]
  },
  {
   "cell_type": "code",
   "execution_count": 33,
   "metadata": {},
   "outputs": [
    {
     "name": "stdout",
     "output_type": "stream",
     "text": [
      "Accuracy: 100.00%\n"
     ]
    }
   ],
   "source": [
    "from sklearn.metrics import accuracy_score\n",
    "\n",
    "y_pred = [None] * X_test.shape[0]\n",
    "index = 0\n",
    "for i, row in X_test.iterrows():\n",
    "    y_pred[index] = prediction(best_ind,row)\n",
    "    index += 1\n",
    "\n",
    "y_bin_pred = np.array(y_pred) > 0.5\n",
    "accuracy = accuracy_score(y_test, y_bin_pred)\n",
    "print(\"Accuracy: %.2f%%\" % (accuracy * 100.0))\n"
   ]
  },
  {
   "cell_type": "code",
   "execution_count": null,
   "metadata": {},
   "outputs": [],
   "source": []
  }
 ],
 "metadata": {
  "kernelspec": {
   "display_name": "Python 3 (ipykernel)",
   "language": "python",
   "name": "python3"
  },
  "language_info": {
   "codemirror_mode": {
    "name": "ipython",
    "version": 3
   },
   "file_extension": ".py",
   "mimetype": "text/x-python",
   "name": "python",
   "nbconvert_exporter": "python",
   "pygments_lexer": "ipython3",
   "version": "3.10.9"
  }
 },
 "nbformat": 4,
 "nbformat_minor": 4
}
