{
 "cells": [
  {
   "cell_type": "markdown",
   "metadata": {},
   "source": [
    "# <span style=\"color:blue\">Workshop 5: Rule-Based GP in DEAP</span>"
   ]
  },
  {
   "cell_type": "markdown",
   "metadata": {},
   "source": ["Simon O'Keefe: simon.okeefe@york.ac.uk\n","\n","Danny Roberts: danny.roberts@york.ac.uk\n","\n","Tianda Sun: tianda.sun@york.ac.uk"]
  },
  {
   "cell_type": "markdown",
   "metadata": {},
   "source": [
    "# <span style=\"color:#0073e6\">Topics</span>"
   ]
  },
  {
   "cell_type": "markdown",
   "metadata": {},
   "source": [
    "- Introduction to solving rule-based problems with GP, including an intricate system of functions and resources \n",
    "- Implementing a loosely-typed GP to solve the classic Santa Fe Ant Trail problem\n",
    "- Dealing with bloat"
   ]
  },
  {
   "cell_type": "markdown",
   "metadata": {},
   "source": [
    "# <span style=\"color:#0073e6\">Learning Objectives</span>"
   ]
  },
  {
   "cell_type": "markdown",
   "metadata": {},
   "source": [
    "- Learn how to program a GP to produce rule-based AI\n",
    "- Understand and deal with bloat"
   ]
  },
  {
   "cell_type": "markdown",
   "metadata": {},
   "source": [
    "# <span style=\"color:Blue\">Exercise: Santa Fe Ant Trail Problem</span>"
   ]
  },
  {
   "cell_type": "markdown",
   "metadata": {},
   "source": [
    "# <span style=\"color:#0073e6\">Context</span>"
   ]
  },
  {
   "cell_type": "markdown",
   "metadata": {},
   "source": [
    "The artificial ant problem (or Santa Fe Ant Problem) is a well-studied problem with a simple fitness function. The problem is to devise an agent that can successfully navigate an artificial ant along a trail on a square grid to collect as much food as possible within a maximum number of moves (here 600). You can see a visualization of the problem here: \n",
    "https://www.youtube.com/watch?v=BKF7pGw8qbY"
   ]
  },
  {
   "cell_type": "markdown",
   "metadata": {},
   "source": [
    "# <span style=\"color:#0073e6\">Map Setup</span>"
   ]
  },
  {
   "cell_type": "markdown",
   "metadata": {},
   "source": [
    "Make sure that you have the file santafe_trail.txt in the same folder as the notebook. This text file includes the map for the ants to solve. Open the map in a text editor. You can see that empty cells are represented with periods and food is represented with a hash. There is only one map to work with here, but you can create your own varitions of this in your text editor."
   ]
  },
  {
   "cell_type": "markdown",
   "metadata": {},
   "source": [
    "# <span style=\"color:#0073e6\">The Ant Class</span>"
   ]
  },
  {
   "cell_type": "markdown",
   "metadata": {},
   "source": [
    "In the code, an ant will follow the instructions provided to it from an individual (an evolved decision tree) evolved by GP. So there is a single ant agent that is used to evaluate your individuals, but a population of individuals that use the ant for evaluation.  A basic way to evaluate fitness is simply looking at how much a particular ant has eaten (ant.eaten), which is implemented here."
   ]
  },
  {
   "cell_type": "markdown",
   "metadata": {},
   "source": [
    "An ant can navigate based on three operations:\n",
    "- Move_Forward\t- Move the ant forward one square\n",
    "- Turn_Right\t\t- Turn the ant to the right 90 degrees\n",
    "- Turn_Left\t\t- Turn the ant to the left 90 degrees.\n",
    "\n",
    "These three commands therefore part of the terminal set in a GP. Each of these operations is assumed to take one time unit to execute.\n",
    "\n",
    "The sensing function if_food_ahead looks into the square the ant is currently facing and then executes one of its two arguments depending upon whether that square contains food or is empty. Two other functions, Prog2 and Prog3, are provided. These take two and three arguments respectively which are executed in sequence. These three functions are therefore also part of the primitive set."
   ]
  },
  {
   "cell_type": "markdown",
   "metadata": {},
   "source": [
    "# <span style=\"color:Blue\">Exercise 1: Implement the GP</span>"
   ]
  },
  {
   "cell_type": "markdown",
   "metadata": {},
   "source": [
    "1. Go through the code below and try to understand what it the ant is doing and how the problem works.\n",
    "2. Code the genetic programming algorithm to find a solution (as in previous examples).\n",
    "3. The best solution in terms of number of food items eaten is 89 for this problem. Can you improve the performance of your algorithm? Be sure to also output your final best solution as tree for examination."
   ]
  },
  {
   "cell_type": "markdown",
   "metadata": {},
   "source": [
    "# <span style=\"color:#0073e6\">Ant Code</span>"
   ]
  },
  {
   "cell_type": "code",
   "execution_count": 1,
   "metadata": {},
   "outputs": [],
   "source": [
    "import copy\n",
    "import random\n",
    "import numpy\n",
    "import pygraphviz as pgv\n",
    "from functools import partial\n",
    "\n",
    "from deap import base\n",
    "from deap import creator\n",
    "from deap import tools\n",
    "from deap import gp"
   ]
  },
  {
   "cell_type": "code",
   "execution_count": 2,
   "metadata": {},
   "outputs": [],
   "source": [
    "class AntSimulator(object):\n",
    "    direction = [\"north\",\"east\",\"south\",\"west\"]\n",
    "    dir_row = [1, 0, -1, 0]\n",
    "    dir_col = [0, 1, 0, -1]\n",
    "    \n",
    "    def __init__(self, max_moves):\n",
    "        self.max_moves = max_moves\n",
    "        self.moves = 0\n",
    "        self.eaten = 0\n",
    "        self.routine = None\n",
    "        \n",
    "    def _reset(self):\n",
    "        self.row = self.row_start \n",
    "        self.col = self.col_start \n",
    "        self.dir = 1\n",
    "        self.moves = 0  \n",
    "        self.eaten = 0\n",
    "        self.matrix_exc = copy.deepcopy(self.matrix)\n",
    "\n",
    "    @property\n",
    "    def position(self):\n",
    "        return (self.row, self.col, self.direction[self.dir])\n",
    "            \n",
    "    def turn_left(self): \n",
    "        if self.moves < self.max_moves:\n",
    "            self.moves += 1\n",
    "            self.dir = (self.dir - 1) % 4\n",
    "\n",
    "    def turn_right(self):\n",
    "        if self.moves < self.max_moves:\n",
    "            self.moves += 1    \n",
    "            self.dir = (self.dir + 1) % 4\n",
    "        \n",
    "    def move_forward(self):\n",
    "        if self.moves < self.max_moves:\n",
    "            self.moves += 1\n",
    "            self.row = (self.row + self.dir_row[self.dir]) % self.matrix_row\n",
    "            self.col = (self.col + self.dir_col[self.dir]) % self.matrix_col\n",
    "            if self.matrix_exc[self.row][self.col] == \"food\":\n",
    "                self.eaten += 1\n",
    "            self.matrix_exc[self.row][self.col] = \"passed\"\n",
    "\n",
    "    def sense_food(self):\n",
    "        ahead_row = (self.row + self.dir_row[self.dir]) % self.matrix_row\n",
    "        ahead_col = (self.col + self.dir_col[self.dir]) % self.matrix_col        \n",
    "        return self.matrix_exc[ahead_row][ahead_col] == \"food\"\n",
    "   \n",
    "    def if_food_ahead(self, out1, out2):\n",
    "        return partial(if_then_else, self.sense_food, out1, out2)\n",
    "   \n",
    "    def run(self,routine):\n",
    "        self._reset()\n",
    "        while self.moves < self.max_moves:\n",
    "            routine()\n",
    "    \n",
    "    def parse_matrix(self, matrix):\n",
    "        self.matrix = list()\n",
    "        for i, line in enumerate(matrix):\n",
    "            self.matrix.append(list())\n",
    "            for j, col in enumerate(line):\n",
    "                if col == \"#\":\n",
    "                    self.matrix[-1].append(\"food\")\n",
    "                elif col == \".\":\n",
    "                    self.matrix[-1].append(\"empty\")\n",
    "                elif col == \"S\":\n",
    "                    self.matrix[-1].append(\"empty\")\n",
    "                    self.row_start = self.row = i\n",
    "                    self.col_start = self.col = j\n",
    "                    self.dir = 1\n",
    "        self.matrix_row = len(self.matrix)\n",
    "        self.matrix_col = len(self.matrix[0])\n",
    "        self.matrix_exc = copy.deepcopy(self.matrix)"
   ]
  },
  {
   "cell_type": "code",
   "execution_count": 3,
   "metadata": {},
   "outputs": [],
   "source": [
    "ant = AntSimulator(600)\n",
    "\n",
    "with  open(\"santafe_trail.txt\") as trail_file:\n",
    "    ant.parse_matrix(trail_file)"
   ]
  },
  {
   "cell_type": "markdown",
   "metadata": {},
   "source": [
    "# <span style=\"color:Blue\">You need to decide on your GP below</span>"
   ]
  },
  {
   "cell_type": "markdown",
   "metadata": {},
   "source": [
    "We now need to define our primitive set. I see a lot of mistakes when defining the \"Main\" function here. That is because the ant uses information from the environment, and students add these as arguments. However, if you look at the code, the ant object directly accesses the environment, and it is not passed to the evolved function as an argment. As such, we have zero arguments here. However, you could modify the code to pass the arguments, if you liked, and then would need to modify it here."
   ]
  },
  {
   "cell_type": "markdown",
   "metadata": {},
   "source": [
    "Don't forget that here you might need to define and register progs (allowing multiple functions to connect together) and your own functions (e.g. if_then_else). No cheating and registering pre-programmed behaviour, though!\n",
    "\n",
    "Your terminals are the ant behaviour. So for example:\n",
    "> pset.addTerminal(ant.move_forward)"
   ]
  },
  {
   "cell_type": "markdown",
   "metadata": {},
   "source": [
    "## <span style=\"color:#0073e6\">Add your primitives and terminals here</span>"
   ]
  },
  {
   "cell_type": "code",
   "execution_count": 4,
   "metadata": {},
   "outputs": [],
   "source": [
    "pset = gp.PrimitiveSet(\"MAIN\", 0)"
   ]
  },
  {
   "cell_type": "code",
   "execution_count": 5,
   "metadata": {},
   "outputs": [],
   "source": [
    "def progn(*args):\n",
    "    for arg in args:\n",
    "        arg()\n",
    "\n",
    "def prog2(out1, out2): \n",
    "    return partial(progn,out1,out2)\n",
    "\n",
    "def prog3(out1, out2, out3):     \n",
    "    return partial(progn,out1,out2,out3)\n",
    "\n",
    "def if_then_else(condition, out1, out2):\n",
    "    out1() if condition() else out2()\n",
    "\n",
    "pset.addPrimitive(ant.if_food_ahead, 2)\n",
    "pset.addPrimitive(prog2, 2)\n",
    "pset.addPrimitive(prog3, 3)\n",
    "pset.addTerminal(ant.move_forward)\n",
    "pset.addTerminal(ant.turn_left)\n",
    "pset.addTerminal(ant.turn_right)"
   ]
  },
  {
   "cell_type": "markdown",
   "metadata": {},
   "source": [
    "## <span style=\"color:#0073e6\">Register your individuals, fitness and operators here</span>"
   ]
  },
  {
   "cell_type": "code",
   "execution_count": 6,
   "metadata": {},
   "outputs": [],
   "source": [
    "creator.create(\"FitnessMax\", base.Fitness, weights=(1.0,))\n",
    "creator.create(\"Individual\", gp.PrimitiveTree, fitness=creator.FitnessMax)"
   ]
  },
  {
   "cell_type": "code",
   "execution_count": 7,
   "metadata": {},
   "outputs": [],
   "source": [
    "toolbox = base.Toolbox()\n",
    "toolbox.register(\"expr_init\", gp.genFull, pset=pset, min_=1, max_=2)\n",
    "toolbox.register(\"individual\", tools.initIterate, creator.Individual, toolbox.expr_init)\n",
    "toolbox.register(\"population\", tools.initRepeat, list, toolbox.individual)"
   ]
  },
  {
   "cell_type": "code",
   "execution_count": 8,
   "metadata": {},
   "outputs": [],
   "source": [
    "#toolbox.register(\"select\", tools.selTournament, tournsize=7)\n",
    "toolbox.register(\"select\", tools.selDoubleTournament, fitness_size = 7, parsimony_size = 1.4, fitness_first = True, fit_attr='fitness' )\n",
    "toolbox.register(\"mate\", gp.cxOnePoint)\n",
    "toolbox.register(\"expr_mut\", gp.genFull, min_=0, max_=3)\n",
    "toolbox.register(\"mutate\", gp.mutUniform, expr=toolbox.expr_mut, pset=pset)\n",
    "# Try parsimony_size = 1.8"
   ]
  },
  {
   "cell_type": "markdown",
   "metadata": {},
   "source": [
    "## <span style=\"color:#0073e6\">Evaluation functions</span>"
   ]
  },
  {
   "cell_type": "code",
   "execution_count": 9,
   "metadata": {},
   "outputs": [],
   "source": [
    "#def evalArtificialAntBloatPenalty(individual):\n",
    "#    routine = gp.compile(individual, pset)\n",
    "#    ant.run(routine)\n",
    "#    return ant.eaten - (individual.height)**2.0,\n",
    "\n",
    "def evalArtificialAnt(individual):\n",
    "    routine = gp.compile(individual, pset)\n",
    "    ant.run(routine)\n",
    "    return ant.eaten,\n",
    "\n",
    "toolbox.register(\"evaluate\", evalArtificialAnt)"
   ]
  },
  {
   "cell_type": "markdown",
   "metadata": {},
   "source": [
    "## <span style=\"color:#0073e6\">Register some stats</span>"
   ]
  },
  {
   "cell_type": "code",
   "execution_count": 10,
   "metadata": {},
   "outputs": [],
   "source": [
    "stats_fit = tools.Statistics(lambda ind: ind.fitness.values)\n",
    "stats_size = tools.Statistics(len)\n",
    "stats = tools.MultiStatistics(fitness=stats_fit, size=stats_size)\n",
    "stats.register(\"avg\", numpy.mean)\n",
    "stats.register(\"std\", numpy.std)\n",
    "stats.register(\"min\", numpy.min)\n",
    "stats.register(\"max\", numpy.max)"
   ]
  },
  {
   "cell_type": "markdown",
   "metadata": {},
   "source": [
    "## <span style=\"color:#0073e6\">Main body</span>"
   ]
  },
  {
   "cell_type": "code",
   "execution_count": 11,
   "metadata": {
    "scrolled": true
   },
   "outputs": [
    {
     "name": "stdout",
     "output_type": "stream",
     "text": [
      "-- Generation 0 --\n",
      "-- End of evolution --\n",
      "-- Generation 1 --\n",
      "-- End of evolution --\n",
      "-- Generation 2 --\n",
      "-- End of evolution --\n",
      "-- Generation 3 --\n",
      "-- End of evolution --\n",
      "-- Generation 4 --\n",
      "-- End of evolution --\n",
      "-- Generation 5 --\n",
      "-- End of evolution --\n",
      "-- Generation 6 --\n",
      "-- End of evolution --\n",
      "-- Generation 7 --\n",
      "-- End of evolution --\n",
      "-- Generation 8 --\n",
      "-- End of evolution --\n",
      "-- Generation 9 --\n",
      "-- End of evolution --\n",
      "-- Generation 10 --\n",
      "-- End of evolution --\n",
      "-- Generation 11 --\n",
      "-- End of evolution --\n",
      "-- Generation 12 --\n",
      "-- End of evolution --\n",
      "-- Generation 13 --\n",
      "-- End of evolution --\n",
      "-- Generation 14 --\n",
      "-- End of evolution --\n",
      "-- Generation 15 --\n",
      "-- End of evolution --\n",
      "-- Generation 16 --\n",
      "-- End of evolution --\n",
      "-- Generation 17 --\n",
      "-- End of evolution --\n",
      "-- Generation 18 --\n",
      "-- End of evolution --\n",
      "-- Generation 19 --\n",
      "-- End of evolution --\n",
      "-- Generation 20 --\n",
      "-- End of evolution --\n",
      "-- Generation 21 --\n",
      "-- End of evolution --\n",
      "-- Generation 22 --\n",
      "-- End of evolution --\n",
      "-- Generation 23 --\n",
      "-- End of evolution --\n",
      "-- Generation 24 --\n",
      "-- End of evolution --\n",
      "-- Generation 25 --\n",
      "-- End of evolution --\n",
      "-- Generation 26 --\n",
      "-- End of evolution --\n",
      "-- Generation 27 --\n",
      "-- End of evolution --\n",
      "-- Generation 28 --\n",
      "-- End of evolution --\n",
      "-- Generation 29 --\n",
      "-- End of evolution --\n",
      "-- Generation 30 --\n",
      "-- End of evolution --\n",
      "-- Generation 31 --\n",
      "-- End of evolution --\n",
      "-- Generation 32 --\n",
      "-- End of evolution --\n",
      "-- Generation 33 --\n",
      "-- End of evolution --\n",
      "-- Generation 34 --\n",
      "-- End of evolution --\n",
      "-- Generation 35 --\n",
      "-- End of evolution --\n",
      "-- Generation 36 --\n",
      "-- End of evolution --\n",
      "-- Generation 37 --\n",
      "-- End of evolution --\n",
      "-- Generation 38 --\n",
      "-- End of evolution --\n",
      "-- Generation 39 --\n",
      "-- End of evolution --\n",
      "-- Generation 40 --\n",
      "-- End of evolution --\n",
      "-- Generation 41 --\n",
      "-- End of evolution --\n",
      "-- Generation 42 --\n",
      "-- End of evolution --\n",
      "-- Generation 43 --\n",
      "-- End of evolution --\n",
      "-- Generation 44 --\n",
      "-- End of evolution --\n",
      "-- Generation 45 --\n",
      "-- End of evolution --\n",
      "-- Generation 46 --\n",
      "-- End of evolution --\n",
      "-- Generation 47 --\n",
      "-- End of evolution --\n",
      "-- Generation 48 --\n",
      "-- End of evolution --\n",
      "-- Generation 49 --\n",
      "-- End of evolution --\n",
      "-- Generation 50 --\n",
      "-- End of evolution --\n",
      "-- Generation 51 --\n",
      "-- End of evolution --\n",
      "-- Generation 52 --\n",
      "-- End of evolution --\n",
      "-- Generation 53 --\n",
      "-- End of evolution --\n",
      "-- Generation 54 --\n",
      "-- End of evolution --\n",
      "-- Generation 55 --\n",
      "-- End of evolution --\n",
      "-- Generation 56 --\n",
      "-- End of evolution --\n",
      "-- Generation 57 --\n",
      "-- End of evolution --\n",
      "-- Generation 58 --\n",
      "-- End of evolution --\n",
      "-- Generation 59 --\n",
      "-- End of evolution --\n",
      "-- Generation 60 --\n",
      "-- End of evolution --\n",
      "-- Generation 61 --\n",
      "-- End of evolution --\n",
      "-- Generation 62 --\n",
      "-- End of evolution --\n",
      "-- Generation 63 --\n",
      "-- End of evolution --\n",
      "-- Generation 64 --\n",
      "-- End of evolution --\n",
      "-- Generation 65 --\n",
      "-- End of evolution --\n",
      "-- Generation 66 --\n",
      "-- End of evolution --\n",
      "-- Generation 67 --\n",
      "-- End of evolution --\n",
      "-- Generation 68 --\n",
      "-- End of evolution --\n",
      "-- Generation 69 --\n",
      "-- End of evolution --\n",
      "-- Generation 70 --\n",
      "-- End of evolution --\n",
      "-- Generation 71 --\n",
      "-- End of evolution --\n",
      "-- Generation 72 --\n",
      "-- End of evolution --\n",
      "-- Generation 73 --\n",
      "-- End of evolution --\n",
      "-- Generation 74 --\n",
      "-- End of evolution --\n",
      "-- Generation 75 --\n",
      "-- End of evolution --\n",
      "-- Generation 76 --\n",
      "-- End of evolution --\n",
      "-- Generation 77 --\n",
      "-- End of evolution --\n",
      "-- Generation 78 --\n",
      "-- End of evolution --\n",
      "-- Generation 79 --\n",
      "-- End of evolution --\n",
      "-- Generation 80 --\n",
      "-- End of evolution --\n",
      "-- Generation 81 --\n",
      "-- End of evolution --\n",
      "-- Generation 82 --\n",
      "-- End of evolution --\n",
      "-- Generation 83 --\n",
      "-- End of evolution --\n",
      "-- Generation 84 --\n",
      "-- End of evolution --\n",
      "-- Generation 85 --\n",
      "-- End of evolution --\n",
      "-- Generation 86 --\n",
      "-- End of evolution --\n",
      "-- Generation 87 --\n",
      "-- End of evolution --\n",
      "-- Generation 88 --\n",
      "-- End of evolution --\n",
      "-- Generation 89 --\n",
      "-- End of evolution --\n",
      "-- Generation 90 --\n",
      "-- End of evolution --\n",
      "-- Generation 91 --\n",
      "-- End of evolution --\n",
      "-- Generation 92 --\n",
      "-- End of evolution --\n",
      "-- Generation 93 --\n",
      "-- End of evolution --\n",
      "-- Generation 94 --\n",
      "-- End of evolution --\n",
      "-- Generation 95 --\n",
      "-- End of evolution --\n",
      "-- Generation 96 --\n",
      "-- End of evolution --\n",
      "-- Generation 97 --\n",
      "-- End of evolution --\n",
      "-- Generation 98 --\n",
      "-- End of evolution --\n",
      "-- Generation 99 --\n",
      "-- End of evolution --\n",
      "-- Generation 100 --\n",
      "-- End of evolution --\n",
      "-- Generation 101 --\n",
      "-- End of evolution --\n",
      "-- Generation 102 --\n",
      "-- End of evolution --\n",
      "-- Generation 103 --\n",
      "-- End of evolution --\n",
      "-- Generation 104 --\n",
      "-- End of evolution --\n",
      "-- Generation 105 --\n",
      "-- End of evolution --\n",
      "-- Generation 106 --\n",
      "-- End of evolution --\n",
      "-- Generation 107 --\n",
      "-- End of evolution --\n",
      "-- Generation 108 --\n",
      "-- End of evolution --\n",
      "-- Generation 109 --\n",
      "-- End of evolution --\n",
      "-- Generation 110 --\n",
      "-- End of evolution --\n",
      "-- Generation 111 --\n",
      "-- End of evolution --\n",
      "-- Generation 112 --\n",
      "-- End of evolution --\n",
      "-- Generation 113 --\n",
      "-- End of evolution --\n",
      "-- Generation 114 --\n",
      "-- End of evolution --\n",
      "-- Generation 115 --\n",
      "-- End of evolution --\n",
      "-- Generation 116 --\n",
      "-- End of evolution --\n",
      "-- Generation 117 --\n",
      "-- End of evolution --\n",
      "-- Generation 118 --\n",
      "-- End of evolution --\n",
      "-- Generation 119 --\n",
      "-- End of evolution --\n",
      "-- Generation 120 --\n",
      "-- End of evolution --\n",
      "-- Generation 121 --\n",
      "-- End of evolution --\n",
      "-- Generation 122 --\n",
      "-- End of evolution --\n",
      "-- Generation 123 --\n",
      "-- End of evolution --\n",
      "-- Generation 124 --\n",
      "-- End of evolution --\n",
      "-- Generation 125 --\n",
      "-- End of evolution --\n",
      "-- Generation 126 --\n",
      "-- End of evolution --\n",
      "-- Generation 127 --\n",
      "-- End of evolution --\n",
      "-- Generation 128 --\n",
      "-- End of evolution --\n",
      "-- Generation 129 --\n",
      "-- End of evolution --\n",
      "-- Generation 130 --\n",
      "-- End of evolution --\n",
      "-- Generation 131 --\n",
      "-- End of evolution --\n",
      "-- Generation 132 --\n",
      "-- End of evolution --\n",
      "-- Generation 133 --\n",
      "-- End of evolution --\n",
      "-- Generation 134 --\n",
      "-- End of evolution --\n",
      "-- Generation 135 --\n",
      "-- End of evolution --\n",
      "-- Generation 136 --\n",
      "-- End of evolution --\n",
      "-- Generation 137 --\n",
      "-- End of evolution --\n",
      "-- Generation 138 --\n",
      "-- End of evolution --\n",
      "-- Generation 139 --\n",
      "-- End of evolution --\n",
      "-- Generation 140 --\n",
      "-- End of evolution --\n",
      "-- Generation 141 --\n",
      "-- End of evolution --\n",
      "-- Generation 142 --\n",
      "-- End of evolution --\n",
      "-- Generation 143 --\n",
      "-- End of evolution --\n",
      "-- Generation 144 --\n",
      "-- End of evolution --\n",
      "-- Generation 145 --\n",
      "-- End of evolution --\n",
      "-- Generation 146 --\n",
      "-- End of evolution --\n",
      "-- Generation 147 --\n",
      "-- End of evolution --\n",
      "-- Generation 148 --\n",
      "-- End of evolution --\n",
      "-- Generation 149 --\n",
      "-- End of evolution --\n",
      "-- Generation 150 --\n",
      "-- End of evolution --\n",
      "-- Generation 151 --\n",
      "-- End of evolution --\n",
      "-- Generation 152 --\n",
      "-- End of evolution --\n",
      "-- Generation 153 --\n",
      "-- End of evolution --\n",
      "-- Generation 154 --\n",
      "-- End of evolution --\n",
      "-- Generation 155 --\n",
      "-- End of evolution --\n",
      "-- Generation 156 --\n",
      "-- End of evolution --\n",
      "-- Generation 157 --\n",
      "-- End of evolution --\n",
      "-- Generation 158 --\n",
      "-- End of evolution --\n",
      "-- Generation 159 --\n",
      "-- End of evolution --\n",
      "-- Generation 160 --\n",
      "-- End of evolution --\n",
      "-- Generation 161 --\n",
      "-- End of evolution --\n",
      "-- Generation 162 --\n",
      "-- End of evolution --\n",
      "-- Generation 163 --\n",
      "-- End of evolution --\n",
      "-- Generation 164 --\n",
      "-- End of evolution --\n",
      "-- Generation 165 --\n",
      "-- End of evolution --\n",
      "-- Generation 166 --\n",
      "-- End of evolution --\n",
      "-- Generation 167 --\n",
      "-- End of evolution --\n",
      "-- Generation 168 --\n",
      "-- End of evolution --\n",
      "-- Generation 169 --\n",
      "-- End of evolution --\n",
      "-- Generation 170 --\n",
      "-- End of evolution --\n",
      "-- Generation 171 --\n",
      "-- End of evolution --\n",
      "-- Generation 172 --\n",
      "-- End of evolution --\n",
      "-- Generation 173 --\n",
      "-- End of evolution --\n",
      "-- Generation 174 --\n",
      "-- End of evolution --\n",
      "-- Generation 175 --\n",
      "-- End of evolution --\n",
      "-- Generation 176 --\n",
      "-- End of evolution --\n",
      "-- Generation 177 --\n",
      "-- End of evolution --\n",
      "-- Generation 178 --\n",
      "-- End of evolution --\n",
      "-- Generation 179 --\n",
      "-- End of evolution --\n",
      "-- Generation 180 --\n",
      "-- End of evolution --\n",
      "-- Generation 181 --\n",
      "-- End of evolution --\n",
      "-- Generation 182 --\n",
      "-- End of evolution --\n",
      "-- Generation 183 --\n",
      "-- End of evolution --\n",
      "-- Generation 184 --\n",
      "-- End of evolution --\n",
      "-- Generation 185 --\n",
      "-- End of evolution --\n",
      "-- Generation 186 --\n",
      "-- End of evolution --\n",
      "-- Generation 187 --\n",
      "-- End of evolution --\n",
      "-- Generation 188 --\n",
      "-- End of evolution --\n",
      "-- Generation 189 --\n",
      "-- End of evolution --\n",
      "-- Generation 190 --\n"
     ]
    },
    {
     "name": "stdout",
     "output_type": "stream",
     "text": [
      "-- End of evolution --\n",
      "-- Generation 191 --\n",
      "-- End of evolution --\n",
      "-- Generation 192 --\n",
      "-- End of evolution --\n",
      "-- Generation 193 --\n",
      "-- End of evolution --\n",
      "-- Generation 194 --\n",
      "-- End of evolution --\n",
      "-- Generation 195 --\n",
      "-- End of evolution --\n",
      "-- Generation 196 --\n",
      "-- End of evolution --\n",
      "-- Generation 197 --\n",
      "-- End of evolution --\n",
      "-- Generation 198 --\n",
      "-- End of evolution --\n",
      "-- Generation 199 --\n",
      "-- End of evolution --\n"
     ]
    }
   ],
   "source": [
    "logbook = tools.Logbook()\n",
    "pop = toolbox.population(n=500) #\n",
    "\n",
    "NGEN, CXPB, MUTPB = 200, 0.2, 0.2\n",
    "\n",
    "fitnesses = list(map(toolbox.evaluate, pop))\n",
    "for ind, fit in zip(pop, fitnesses):\n",
    "    ind.fitness.values = fit\n",
    "\n",
    "for g in range(NGEN):\n",
    "    print(\"-- Generation %i --\" % g)\n",
    "   \n",
    "    offspring = toolbox.select(pop, len(pop))\n",
    "    offspring = list(map(toolbox.clone, offspring))\n",
    "\n",
    "    for child1, child2 in zip(offspring[::2], offspring[1::2]):\n",
    "        if random.random() < CXPB:\n",
    "            toolbox.mate(child1, child2)\n",
    "            del child1.fitness.values\n",
    "            del child2.fitness.values\n",
    "\n",
    "    for mutant in offspring:\n",
    "        if random.random() < MUTPB:\n",
    "            toolbox.mutate(mutant)\n",
    "            del mutant.fitness.values\n",
    "\n",
    "    invalid_ind = [ind for ind in offspring if not ind.fitness.valid]\n",
    "    fitnesses = map(toolbox.evaluate, invalid_ind)\n",
    "    for ind, fit in zip(invalid_ind, fitnesses):\n",
    "        ind.fitness.values = fit\n",
    "\n",
    "    Neval = len(invalid_ind)\n",
    "\n",
    "    pop[:] = offspring\n",
    "    \n",
    "    record = stats.compile(pop)\n",
    "\n",
    "    logbook.record(gen=g, evals=Neval, **record)\n",
    "\n",
    "    print(\"-- End of evolution --\")"
   ]
  },
  {
   "cell_type": "markdown",
   "metadata": {},
   "source": [
    "## <span style=\"color:#0073e6\">Basic plots</span>"
   ]
  },
  {
   "cell_type": "code",
   "execution_count": 12,
   "metadata": {},
   "outputs": [
    {
     "data": {
      "text/plain": [
       "Text(0, 0.5, 'Fitness')"
      ]
     },
     "execution_count": 12,
     "metadata": {},
     "output_type": "execute_result"
    },
    {
     "data": {
      "image/png": "[encoded data removed]",
      "text/plain": [
       "<Figure size 432x288 with 1 Axes>"
      ]
     },
     "metadata": {
      "needs_background": "light"
     },
     "output_type": "display_data"
    }
   ],
   "source": [
    "import matplotlib.pyplot as plt\n",
    "%matplotlib inline\n",
    "\n",
    "gen = logbook.chapters['fitness'].select(\"gen\")\n",
    "_min = logbook.chapters['fitness'].select(\"min\")\n",
    "_max = logbook.chapters['fitness'].select(\"max\")\n",
    "avgs = logbook.chapters['fitness'].select(\"avg\")\n",
    "stds = logbook.chapters['fitness'].select(\"std\")\n",
    "\n",
    "plt.rc('axes', labelsize=14)\n",
    "plt.rc('xtick', labelsize=14)\n",
    "plt.rc('ytick', labelsize=14) \n",
    "plt.rc('legend', fontsize=14)\n",
    "\n",
    "fig, ax1 = plt.subplots()\n",
    "line1 = ax1.plot(gen, avgs)\n",
    "ax1.set_xlabel(\"Generation\")\n",
    "ax1.set_ylabel(\"Fitness\")\n",
    "\n",
    "#line2 = ax1.plot(gen, _min)\n",
    "#line3 = ax1.plot(gen, _max)"
   ]
  },
  {
   "cell_type": "markdown",
   "metadata": {},
   "source": [
    "# <span style=\"color:#0073e6\">Examine the best individual</span>"
   ]
  },
  {
   "cell_type": "code",
   "execution_count": 13,
   "metadata": {},
   "outputs": [
    {
     "name": "stdout",
     "output_type": "stream",
     "text": [
      "if_food_ahead(prog3(prog3(move_forward, move_forward, move_forward), prog3(move_forward, turn_left, move_forward), if_food_ahead(prog2(prog2(turn_left, move_forward), turn_left), turn_right)), prog3(turn_right, move_forward, turn_left))\n"
     ]
    }
   ],
   "source": [
    "indv = tools.selBest(pop, 1)[0]\n",
    "print(indv)"
   ]
  },
  {
   "cell_type": "code",
   "execution_count": 14,
   "metadata": {},
   "outputs": [
    {
     "data": {
      "text/plain": [
       "(68,)"
      ]
     },
     "execution_count": 14,
     "metadata": {},
     "output_type": "execute_result"
    }
   ],
   "source": [
    "toolbox.evaluate(indv)"
   ]
  },
  {
   "cell_type": "code",
   "execution_count": 15,
   "metadata": {},
   "outputs": [],
   "source": [
    "nodes, edges, labels = gp.graph(indv)\n",
    "\n",
    "tree = pgv.AGraph()\n",
    "tree.add_nodes_from(nodes)\n",
    "tree.add_edges_from(edges)\n",
    "tree.layout(prog=\"dot\")\n",
    "\n",
    "for i in nodes:\n",
    "    n = tree.get_node(i)\n",
    "    n.attr[\"label\"] = labels[i]"
   ]
  },
  {
   "cell_type": "code",
   "execution_count": 16,
   "metadata": {},
   "outputs": [
    {
     "data": {
      "image/png": "[encoded data removed]",
      "text/plain": [
       "<IPython.core.display.Image object>"
      ]
     },
     "execution_count": 16,
     "metadata": {},
     "output_type": "execute_result"
    }
   ],
   "source": [
    "from IPython.display import Image\n",
    "\n",
    "treePlot = tree.draw(format='png', prog='dot')\n",
    "Image(treePlot)"
   ]
  },
  {
   "cell_type": "markdown",
   "metadata": {},
   "source": [
    "# <span style=\"color:Blue\">Exercise 2: Dealing with Bloat</span>"
   ]
  },
  {
   "cell_type": "markdown",
   "metadata": {},
   "source": [
    "You should see from plotting the tree of the best individual, that there is bloat. Let's examine how to deal with this."
   ]
  },
  {
   "cell_type": "markdown",
   "metadata": {},
   "source": [
    "1. Try a crude modification to the evaluation function to add a ‘parsimony penalty’. This is a penality that increases as a function of the height of the tree ( individual.height ).\n",
    "2. Now remove the bloat penalty. If parsimony penalties like this are not done carefully for some problems, it could give undesirable results. Instead implement a double tournament. Go to the DEAP library reference (https://deap.readthedocs.io/en/master/api/index.html) and look for the selection operator selDoubleTournament(). This will vastly help you to contain bloat in a better manner. Implement this, and play with the parameters a little. Then have a look at the final tree structure compared to before. This is also explained in the lecture."
   ]
  },
  {
   "cell_type": "markdown",
   "metadata": {},
   "source": [
    "## <span style=\"color:Blue\">A note on the maximum tree depth in DEAP</span>"
   ]
  },
  {
   "cell_type": "markdown",
   "metadata": {},
   "source": [
    "Since DEAP uses the Python parser to compile the code represented by the trees, it inherits from its limitations. The most commonly encountered restriction is the parsing stack limit. The Python interpreter parser stack limit is usually fixed between 92 and 99. This means that an expression can at most be composed of 91 succeeding primitives. In other words, a tree can have a maximum depth of 91 in DEAP."
   ]
  }
 ],
 "metadata": {
  "kernelspec": {
   "display_name": "Python 3",
   "language": "python",
   "name": "python3"
  },
  "language_info": {
   "codemirror_mode": {
    "name": "ipython",
    "version": 3
   },
   "file_extension": ".py",
   "mimetype": "text/x-python",
   "name": "python",
   "nbconvert_exporter": "python",
   "pygments_lexer": "ipython3",
   "version": "3.8.3"
  }
 },
 "nbformat": 4,
 "nbformat_minor": 4
}
