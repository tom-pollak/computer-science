{
 "cells": [
  {
   "cell_type": "code",
   "execution_count": 1,
   "metadata": {
    "colab": {
     "base_uri": "https://localhost:8080/"
    },
    "id": "ZQGczqQd9cVt",
    "outputId": "e33e9ef5-be18-46de-a1bc-9fc969325837"
   },
   "outputs": [
    {
     "name": "stdout",
     "output_type": "stream",
     "text": [
      "['bread', 'butter', 'beans', 'cheese']\n",
      "['bread', 'butter', 'cheese', 'beans']\n",
      "['bread', 'beans', 'butter', 'cheese']\n",
      "['bread', 'beans', 'cheese', 'butter']\n",
      "['bread', 'cheese', 'beans', 'butter']\n",
      "['bread', 'cheese', 'butter', 'beans']\n",
      "['butter', 'bread', 'beans', 'cheese']\n",
      "['butter', 'bread', 'cheese', 'beans']\n",
      "['butter', 'beans', 'bread', 'cheese']\n",
      "['butter', 'beans', 'cheese', 'bread']\n",
      "['butter', 'cheese', 'beans', 'bread']\n",
      "['butter', 'cheese', 'bread', 'beans']\n",
      "['beans', 'butter', 'bread', 'cheese']\n",
      "['beans', 'butter', 'cheese', 'bread']\n",
      "['beans', 'bread', 'butter', 'cheese']\n",
      "['beans', 'bread', 'cheese', 'butter']\n",
      "['beans', 'cheese', 'bread', 'butter']\n",
      "['beans', 'cheese', 'butter', 'bread']\n",
      "['cheese', 'butter', 'beans', 'bread']\n",
      "['cheese', 'butter', 'bread', 'beans']\n",
      "['cheese', 'beans', 'butter', 'bread']\n",
      "['cheese', 'beans', 'bread', 'butter']\n",
      "['cheese', 'bread', 'beans', 'butter']\n",
      "['cheese', 'bread', 'butter', 'beans']\n"
     ]
    }
   ],
   "source": [
    "# Python program to print all permutations with\n",
    "# duplicates allowed\n",
    " \n",
    " \n",
    "# Function to print permutations of a list\n",
    "# This function takes three parameters:\n",
    "# 1. List a\n",
    "# 2. Left index l\n",
    "# 3. Right index r\n",
    "def perm(a, l, r):\n",
    "    if l==r:\n",
    "        print(a)\n",
    "    else:\n",
    "        for i in range(l,r+1):\n",
    "            a[l], a[i] = a[i], a[l]\n",
    "            perm(a, l+1, r)\n",
    "            a[l], a[i] = a[i], a[l] # backtrack\n",
    " \n",
    "# Driver program to test the above function\n",
    "Lst = ['bread','butter','beans','cheese']\n",
    "n = len(Lst)\n",
    "perm(Lst, 0, n-1)\n",
    " \n",
    "# Based on code by Bhavya Jain"
   ]
  }
 ],
 "metadata": {
  "colab": {
   "name": "Backtracking",
   "provenance": []
  },
  "kernelspec": {
   "display_name": "Python 3",
   "language": "python",
   "name": "python3"
  },
  "language_info": {
   "codemirror_mode": {
    "name": "ipython",
    "version": 3
   },
   "file_extension": ".py",
   "mimetype": "text/x-python",
   "name": "python",
   "nbconvert_exporter": "python",
   "pygments_lexer": "ipython3",
   "version": "3.8.5"
  }
 },
 "nbformat": 4,
 "nbformat_minor": 1
}
