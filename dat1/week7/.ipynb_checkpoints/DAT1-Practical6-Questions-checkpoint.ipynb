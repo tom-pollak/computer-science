{
 "cells": [
  {
   "cell_type": "markdown",
   "metadata": {
    "id": "kV24DAQJwimv"
   },
   "source": [
    "# DATA 1 Practical 6\n",
    "\n",
    "Simos Gerasimou\n",
    "\n",
    "\n",
    "## A Data Journey Through The Titanic\n",
    "\n",
    "On April 15, 1912, during her maiden voyage from Southampton to New York, the widely considered “unsinkable” RMS Titanic sank after colliding with an iceberg ([Wikipedia](https://en.wikipedia.org/wiki/RMS_Titanic)). As it was considered “unsinkable”, the Titanic did not carry enough lifeboats for everyone onboard, resulting in the death of 1502 out of 2224 passengers and crew.\n",
    "\n",
    "**DataVision** has been commissioned by Her Majesty The Queen to investigate the conditions in which people survived and whether this was because of luck or whether some groups were more likely to survive than others. If discrimination due to gender or socio-economic class is identified, the Queen intends to use this information to change the cruise policies accordinly. \n",
    "\n",
    "#### Your tasks are to explore this dataset and generade some actionable knowledge. \n",
    "\n",
    "\n",
    "#### This Jupyter Notebook will be presented to  the House of Commons  who have limited knowledge about data science. So, your findings should be complemented by a suitable justification explaining what you observe and, when applicable, what does this observation  mean and, possibly, why it occurs.\n",
    "\n",
    "* For each question (task) a description is provided accompanied (most of the time) by two cells: one for writing the Python code and another for providing the justification. Feel free to add more cells if you feel they are needed, but keep the cells corresponding to the same question close by.\n",
    "\n",
    "#### Note: You are advised to use Pandas. For the visualisation, you can use Pandas, Matplotlib or Seaborn.\n",
    "\n",
    "To answer these exercises, you should first read:\n",
    "\n",
    "(1)  Chapter 3: Dapa Manipulation with Pandas from the Python Data Science Handbook** (https://jakevdp.github.io/PythonDataScienceHandbook/03.00-introduction-to-pandas.html)\n",
    "\n",
    "(2) Chapter 4: Visualization with Matplotlib (https://jakevdp.github.io/PythonDataScienceHandbook/04.00-introduction-to-matplotlib.html)\n",
    "\n",
    "\n",
    "\n",
    "* Seaborn API: https://seaborn.pydata.org/api.html\n",
    "\n",
    "***"
   ]
  },
  {
   "cell_type": "markdown",
   "metadata": {
    "id": "iShbV1mtwim6"
   },
   "source": [
    "### Part 1: Reading dataset\n",
    "\n",
    "\n",
    "The Titanic dataset is available on VLE (look for titanicFull.csv in the Practicals section)\n",
    "\n",
    "Before doing the tasks below, you may want to explore the dataset using a spreadsheet editor (e.g., Excel) to get a high-level view of the dataset.\n",
    "\n",
    "**T1) Load the Titanic dataset using Pandas**\n",
    "\n",
    "**Note**: You have to download the dataset on your local machine and then load it onto the Jupyter Notebook"
   ]
  },
  {
   "cell_type": "code",
   "execution_count": 1,
   "metadata": {
    "id": "rmIPL4IUwim8"
   },
   "outputs": [],
   "source": [
    "import pandas as pd \n",
    "import numpy as np\n",
    "import seaborn as sns\n",
    "import matplotlib.pyplot as plt\n",
    "\n",
    "df = pd.read_csv('titanicFull.csv')"
   ]
  },
  {
   "cell_type": "markdown",
   "metadata": {
    "id": "XUHLphn2wim_"
   },
   "source": [
    "***\n",
    "\n",
    "### Part 2: Cleaning the dataset\n",
    "\n",
    "**T2i) Print the first 4 records of the dataset**"
   ]
  },
  {
   "cell_type": "code",
   "execution_count": 2,
   "metadata": {
    "id": "dIKF54rGwinA"
   },
   "outputs": [
    {
     "data": {
      "text/html": [
       "<div>\n",
       "<style scoped>\n",
       "    .dataframe tbody tr th:only-of-type {\n",
       "        vertical-align: middle;\n",
       "    }\n",
       "\n",
       "    .dataframe tbody tr th {\n",
       "        vertical-align: top;\n",
       "    }\n",
       "\n",
       "    .dataframe thead th {\n",
       "        text-align: right;\n",
       "    }\n",
       "</style>\n",
       "<table border=\"1\" class=\"dataframe\">\n",
       "  <thead>\n",
       "    <tr style=\"text-align: right;\">\n",
       "      <th></th>\n",
       "      <th>pclass</th>\n",
       "      <th>survived</th>\n",
       "      <th>name</th>\n",
       "      <th>sex</th>\n",
       "      <th>age</th>\n",
       "      <th>sibsp</th>\n",
       "      <th>parch</th>\n",
       "      <th>ticket</th>\n",
       "      <th>fare</th>\n",
       "      <th>cabin</th>\n",
       "      <th>embarked</th>\n",
       "    </tr>\n",
       "  </thead>\n",
       "  <tbody>\n",
       "    <tr>\n",
       "      <th>0</th>\n",
       "      <td>1</td>\n",
       "      <td>1</td>\n",
       "      <td>Allen, Miss. Elisabeth Walton</td>\n",
       "      <td>female</td>\n",
       "      <td>29.00</td>\n",
       "      <td>0</td>\n",
       "      <td>0</td>\n",
       "      <td>24160</td>\n",
       "      <td>211.3375</td>\n",
       "      <td>B5</td>\n",
       "      <td>S</td>\n",
       "    </tr>\n",
       "    <tr>\n",
       "      <th>1</th>\n",
       "      <td>1</td>\n",
       "      <td>1</td>\n",
       "      <td>Allison, Master. Hudson Trevor</td>\n",
       "      <td>male</td>\n",
       "      <td>0.92</td>\n",
       "      <td>1</td>\n",
       "      <td>2</td>\n",
       "      <td>113781</td>\n",
       "      <td>151.5500</td>\n",
       "      <td>C22 C26</td>\n",
       "      <td>S</td>\n",
       "    </tr>\n",
       "    <tr>\n",
       "      <th>2</th>\n",
       "      <td>1</td>\n",
       "      <td>0</td>\n",
       "      <td>Allison, Miss. Helen Loraine</td>\n",
       "      <td>female</td>\n",
       "      <td>2.00</td>\n",
       "      <td>1</td>\n",
       "      <td>2</td>\n",
       "      <td>113781</td>\n",
       "      <td>151.5500</td>\n",
       "      <td>C22 C26</td>\n",
       "      <td>S</td>\n",
       "    </tr>\n",
       "    <tr>\n",
       "      <th>3</th>\n",
       "      <td>1</td>\n",
       "      <td>0</td>\n",
       "      <td>Allison, Mr. Hudson Joshua Creighton</td>\n",
       "      <td>male</td>\n",
       "      <td>30.00</td>\n",
       "      <td>1</td>\n",
       "      <td>2</td>\n",
       "      <td>113781</td>\n",
       "      <td>151.5500</td>\n",
       "      <td>C22 C26</td>\n",
       "      <td>S</td>\n",
       "    </tr>\n",
       "  </tbody>\n",
       "</table>\n",
       "</div>"
      ],
      "text/plain": [
       "   pclass  survived                                  name     sex    age  \\\n",
       "0       1         1         Allen, Miss. Elisabeth Walton  female  29.00   \n",
       "1       1         1        Allison, Master. Hudson Trevor    male   0.92   \n",
       "2       1         0          Allison, Miss. Helen Loraine  female   2.00   \n",
       "3       1         0  Allison, Mr. Hudson Joshua Creighton    male  30.00   \n",
       "\n",
       "   sibsp  parch  ticket      fare    cabin embarked  \n",
       "0      0      0   24160  211.3375       B5        S  \n",
       "1      1      2  113781  151.5500  C22 C26        S  \n",
       "2      1      2  113781  151.5500  C22 C26        S  \n",
       "3      1      2  113781  151.5500  C22 C26        S  "
      ]
     },
     "execution_count": 2,
     "metadata": {},
     "output_type": "execute_result"
    }
   ],
   "source": [
    "df.head(4)"
   ]
  },
  {
   "cell_type": "markdown",
   "metadata": {
    "id": "CWvp1eYsyIHF"
   },
   "source": [
    "**T2ii) Print the last 6 records of the dataset**"
   ]
  },
  {
   "cell_type": "code",
   "execution_count": 3,
   "metadata": {
    "id": "ToGRzpWsyGIp"
   },
   "outputs": [
    {
     "data": {
      "text/html": [
       "<div>\n",
       "<style scoped>\n",
       "    .dataframe tbody tr th:only-of-type {\n",
       "        vertical-align: middle;\n",
       "    }\n",
       "\n",
       "    .dataframe tbody tr th {\n",
       "        vertical-align: top;\n",
       "    }\n",
       "\n",
       "    .dataframe thead th {\n",
       "        text-align: right;\n",
       "    }\n",
       "</style>\n",
       "<table border=\"1\" class=\"dataframe\">\n",
       "  <thead>\n",
       "    <tr style=\"text-align: right;\">\n",
       "      <th></th>\n",
       "      <th>pclass</th>\n",
       "      <th>survived</th>\n",
       "      <th>name</th>\n",
       "      <th>sex</th>\n",
       "      <th>age</th>\n",
       "      <th>sibsp</th>\n",
       "      <th>parch</th>\n",
       "      <th>ticket</th>\n",
       "      <th>fare</th>\n",
       "      <th>cabin</th>\n",
       "      <th>embarked</th>\n",
       "    </tr>\n",
       "  </thead>\n",
       "  <tbody>\n",
       "    <tr>\n",
       "      <th>1303</th>\n",
       "      <td>3</td>\n",
       "      <td>0</td>\n",
       "      <td>Yousseff, Mr. Gerious</td>\n",
       "      <td>male</td>\n",
       "      <td>NaN</td>\n",
       "      <td>0</td>\n",
       "      <td>0</td>\n",
       "      <td>2627</td>\n",
       "      <td>14.4583</td>\n",
       "      <td>NaN</td>\n",
       "      <td>C</td>\n",
       "    </tr>\n",
       "    <tr>\n",
       "      <th>1304</th>\n",
       "      <td>3</td>\n",
       "      <td>0</td>\n",
       "      <td>Zabour, Miss. Hileni</td>\n",
       "      <td>female</td>\n",
       "      <td>14.5</td>\n",
       "      <td>1</td>\n",
       "      <td>0</td>\n",
       "      <td>2665</td>\n",
       "      <td>14.4542</td>\n",
       "      <td>NaN</td>\n",
       "      <td>C</td>\n",
       "    </tr>\n",
       "    <tr>\n",
       "      <th>1305</th>\n",
       "      <td>3</td>\n",
       "      <td>0</td>\n",
       "      <td>Zabour, Miss. Thamine</td>\n",
       "      <td>female</td>\n",
       "      <td>NaN</td>\n",
       "      <td>1</td>\n",
       "      <td>0</td>\n",
       "      <td>2665</td>\n",
       "      <td>14.4542</td>\n",
       "      <td>NaN</td>\n",
       "      <td>C</td>\n",
       "    </tr>\n",
       "    <tr>\n",
       "      <th>1306</th>\n",
       "      <td>3</td>\n",
       "      <td>0</td>\n",
       "      <td>Zakarian, Mr. Mapriededer</td>\n",
       "      <td>male</td>\n",
       "      <td>26.5</td>\n",
       "      <td>0</td>\n",
       "      <td>0</td>\n",
       "      <td>2656</td>\n",
       "      <td>7.2250</td>\n",
       "      <td>NaN</td>\n",
       "      <td>C</td>\n",
       "    </tr>\n",
       "    <tr>\n",
       "      <th>1307</th>\n",
       "      <td>3</td>\n",
       "      <td>0</td>\n",
       "      <td>Zakarian, Mr. Ortin</td>\n",
       "      <td>male</td>\n",
       "      <td>27.0</td>\n",
       "      <td>0</td>\n",
       "      <td>0</td>\n",
       "      <td>2670</td>\n",
       "      <td>7.2250</td>\n",
       "      <td>NaN</td>\n",
       "      <td>C</td>\n",
       "    </tr>\n",
       "    <tr>\n",
       "      <th>1308</th>\n",
       "      <td>3</td>\n",
       "      <td>0</td>\n",
       "      <td>Zimmerman, Mr. Leo</td>\n",
       "      <td>male</td>\n",
       "      <td>29.0</td>\n",
       "      <td>0</td>\n",
       "      <td>0</td>\n",
       "      <td>315082</td>\n",
       "      <td>7.8750</td>\n",
       "      <td>NaN</td>\n",
       "      <td>S</td>\n",
       "    </tr>\n",
       "  </tbody>\n",
       "</table>\n",
       "</div>"
      ],
      "text/plain": [
       "      pclass  survived                       name     sex   age  sibsp  parch  \\\n",
       "1303       3         0      Yousseff, Mr. Gerious    male   NaN      0      0   \n",
       "1304       3         0       Zabour, Miss. Hileni  female  14.5      1      0   \n",
       "1305       3         0      Zabour, Miss. Thamine  female   NaN      1      0   \n",
       "1306       3         0  Zakarian, Mr. Mapriededer    male  26.5      0      0   \n",
       "1307       3         0        Zakarian, Mr. Ortin    male  27.0      0      0   \n",
       "1308       3         0         Zimmerman, Mr. Leo    male  29.0      0      0   \n",
       "\n",
       "      ticket     fare cabin embarked  \n",
       "1303    2627  14.4583   NaN        C  \n",
       "1304    2665  14.4542   NaN        C  \n",
       "1305    2665  14.4542   NaN        C  \n",
       "1306    2656   7.2250   NaN        C  \n",
       "1307    2670   7.2250   NaN        C  \n",
       "1308  315082   7.8750   NaN        S  "
      ]
     },
     "execution_count": 3,
     "metadata": {},
     "output_type": "execute_result"
    }
   ],
   "source": [
    "df.tail(6)"
   ]
  },
  {
   "cell_type": "markdown",
   "metadata": {
    "id": "-PUneqDNwinH"
   },
   "source": [
    "**T3) Get general info about the dataset**"
   ]
  },
  {
   "cell_type": "code",
   "execution_count": 4,
   "metadata": {
    "id": "4_KXpJ5AwinH"
   },
   "outputs": [
    {
     "name": "stdout",
     "output_type": "stream",
     "text": [
      "<class 'pandas.core.frame.DataFrame'>\n",
      "RangeIndex: 1309 entries, 0 to 1308\n",
      "Data columns (total 11 columns):\n",
      " #   Column    Non-Null Count  Dtype  \n",
      "---  ------    --------------  -----  \n",
      " 0   pclass    1309 non-null   int64  \n",
      " 1   survived  1309 non-null   int64  \n",
      " 2   name      1309 non-null   object \n",
      " 3   sex       1309 non-null   object \n",
      " 4   age       1046 non-null   float64\n",
      " 5   sibsp     1309 non-null   int64  \n",
      " 6   parch     1309 non-null   int64  \n",
      " 7   ticket    1309 non-null   object \n",
      " 8   fare      1308 non-null   float64\n",
      " 9   cabin     295 non-null    object \n",
      " 10  embarked  1307 non-null   object \n",
      "dtypes: float64(2), int64(4), object(5)\n",
      "memory usage: 112.6+ KB\n"
     ]
    }
   ],
   "source": [
    "df.info()"
   ]
  },
  {
   "cell_type": "markdown",
   "metadata": {
    "id": "LP6mFyy3winJ"
   },
   "source": [
    "**T4) Explore the dataset and try to understand the meaning of each variable (column). Identify which variables are categorical and which are numerical.**\n",
    "\n",
    "**Note**: Inferring the meaning of variables 'Pclass', 'SibSp', 'Parch' could be challenging; think of what is missing from the dataset and what types of people were travelling on the Titanic. If you find it more difficult, the answer is at the end of this notebook"
   ]
  },
  {
   "cell_type": "code",
   "execution_count": null,
   "metadata": {
    "id": "g20Nt3ZOwinK"
   },
   "outputs": [],
   "source": []
  },
  {
   "cell_type": "markdown",
   "metadata": {
    "id": "AQk0CJtRwinL"
   },
   "source": [
    "**T5) Get the shape of the dataframe**"
   ]
  },
  {
   "cell_type": "code",
   "execution_count": 5,
   "metadata": {
    "id": "4-eMH1zFwinO"
   },
   "outputs": [
    {
     "data": {
      "text/plain": [
       "(1309, 11)"
      ]
     },
     "execution_count": 5,
     "metadata": {},
     "output_type": "execute_result"
    }
   ],
   "source": [
    "df.shape"
   ]
  },
  {
   "cell_type": "markdown",
   "metadata": {
    "id": "r71faaJCwinQ"
   },
   "source": [
    "**T6) Get the name of the columns for the dataframe**"
   ]
  },
  {
   "cell_type": "code",
   "execution_count": 6,
   "metadata": {
    "id": "ViBfkXXrwinS"
   },
   "outputs": [
    {
     "data": {
      "text/plain": [
       "Index(['pclass', 'survived', 'name', 'sex', 'age', 'sibsp', 'parch', 'ticket',\n",
       "       'fare', 'cabin', 'embarked'],\n",
       "      dtype='object')"
      ]
     },
     "execution_count": 6,
     "metadata": {},
     "output_type": "execute_result"
    }
   ],
   "source": [
    "df.columns"
   ]
  },
  {
   "cell_type": "markdown",
   "metadata": {
    "id": "ao4aKaOQwinT"
   },
   "source": [
    "**T7) Do you think the columns (variables) need to be more readable? In particular, those that you might have found difficult to understand in T4**"
   ]
  },
  {
   "cell_type": "code",
   "execution_count": 7,
   "metadata": {
    "id": "MIqSbMPFwinU"
   },
   "outputs": [],
   "source": [
    "df.rename(columns={'pclass': 'class', 'sibsp': 'parents', 'parch': 'children'}, inplace=True)"
   ]
  },
  {
   "cell_type": "markdown",
   "metadata": {
    "id": "iOTaqUp4winU"
   },
   "source": [
    "**T8) Are there any duplicated records?**"
   ]
  },
  {
   "cell_type": "code",
   "execution_count": 8,
   "metadata": {
    "id": "jn7kiPk1winV"
   },
   "outputs": [
    {
     "data": {
      "text/html": [
       "<div>\n",
       "<style scoped>\n",
       "    .dataframe tbody tr th:only-of-type {\n",
       "        vertical-align: middle;\n",
       "    }\n",
       "\n",
       "    .dataframe tbody tr th {\n",
       "        vertical-align: top;\n",
       "    }\n",
       "\n",
       "    .dataframe thead th {\n",
       "        text-align: right;\n",
       "    }\n",
       "</style>\n",
       "<table border=\"1\" class=\"dataframe\">\n",
       "  <thead>\n",
       "    <tr style=\"text-align: right;\">\n",
       "      <th></th>\n",
       "      <th>class</th>\n",
       "      <th>survived</th>\n",
       "      <th>name</th>\n",
       "      <th>sex</th>\n",
       "      <th>age</th>\n",
       "      <th>parents</th>\n",
       "      <th>children</th>\n",
       "      <th>ticket</th>\n",
       "      <th>fare</th>\n",
       "      <th>cabin</th>\n",
       "      <th>embarked</th>\n",
       "    </tr>\n",
       "  </thead>\n",
       "  <tbody>\n",
       "  </tbody>\n",
       "</table>\n",
       "</div>"
      ],
      "text/plain": [
       "Empty DataFrame\n",
       "Columns: [class, survived, name, sex, age, parents, children, ticket, fare, cabin, embarked]\n",
       "Index: []"
      ]
     },
     "execution_count": 8,
     "metadata": {},
     "output_type": "execute_result"
    }
   ],
   "source": [
    "df[df.duplicated()]"
   ]
  },
  {
   "cell_type": "markdown",
   "metadata": {
    "id": "HnWvzNGYwinW"
   },
   "source": [
    "**T9) Copy the dataset so that you manipulate the copied dataset and leave the original unaffected**\n",
    "\n",
    "**Hint**: Check the pandas documentation for help on how to copy the dataframe"
   ]
  },
  {
   "cell_type": "code",
   "execution_count": 9,
   "metadata": {
    "id": "UK8sXx9JwinX"
   },
   "outputs": [],
   "source": [
    "df_cp = df.copy(deep=True)"
   ]
  },
  {
   "cell_type": "markdown",
   "metadata": {
    "id": "7BQPH4YiwinY"
   },
   "source": [
    "**T10) Create a new dataframe in which**\n",
    "* **a Missing variable (column) indicates the number of missing data for each variable in the titanic dataset**\n",
    "* **a Percentage variable indicates the percentage of the missing data over the size of the titanic dataset**\n",
    "\n",
    "**Print the records in this new dataframe sorted in descending order**"
   ]
  },
  {
   "cell_type": "code",
   "execution_count": 10,
   "metadata": {
    "id": "JxkcNsAIwinZ"
   },
   "outputs": [
    {
     "data": {
      "text/plain": [
       "class          0\n",
       "survived       0\n",
       "name           0\n",
       "sex            0\n",
       "age          263\n",
       "parents        0\n",
       "children       0\n",
       "ticket         0\n",
       "fare           1\n",
       "cabin       1014\n",
       "embarked       2\n",
       "dtype: int64"
      ]
     },
     "execution_count": 10,
     "metadata": {},
     "output_type": "execute_result"
    }
   ],
   "source": [
    "df_cp.isna().sum()"
   ]
  },
  {
   "cell_type": "markdown",
   "metadata": {
    "id": "s4tV7izywinb"
   },
   "source": [
    "**T11) What should we do with the variable with the highest number of missing data. Consider the amount of missing data compared to the total number of available data.**"
   ]
  },
  {
   "cell_type": "code",
   "execution_count": 11,
   "metadata": {
    "id": "0MmFgIQowinb"
   },
   "outputs": [],
   "source": [
    "df_cp.drop(columns='cabin', inplace=True)"
   ]
  },
  {
   "cell_type": "markdown",
   "metadata": {
    "id": "G8c6doK8winc"
   },
   "source": [
    "**T12) Impute the categorical variable (just one) with the mode value**\n"
   ]
  },
  {
   "cell_type": "code",
   "execution_count": 12,
   "metadata": {
    "id": "-qoDbNNFwine"
   },
   "outputs": [],
   "source": [
    "df_cp.embarked.fillna(df_cp.embarked.mode()[0], inplace=True)"
   ]
  },
  {
   "cell_type": "markdown",
   "metadata": {
    "id": "YJwMWxefwinf"
   },
   "source": [
    "**T13i) Plot the histogram of the numeric variable with the largest number of missing data so as to determine the best value to fill in the missing data. Add suitable title and axis names.**\n",
    "\n",
    "**Note: You may want to use the native Pandas visualisation, matplotlib or seaborn**\n",
    "\n",
    "**Hint**: Check the relevant section from the Python Data Science Handbook (https://jakevdp.github.io/PythonDataScienceHandbook/04.05-histograms-and-binnings.html) or the Pandas documentation (https://pandas.pydata.org/pandas-docs/stable/reference/api/pandas.DataFrame.plot.hist.html)"
   ]
  },
  {
   "cell_type": "code",
   "execution_count": 13,
   "metadata": {
    "id": "HXQx78O-ICLz"
   },
   "outputs": [
    {
     "data": {
      "text/plain": [
       "0       29.00\n",
       "1        0.92\n",
       "2        2.00\n",
       "3       30.00\n",
       "4       25.00\n",
       "        ...  \n",
       "1304    14.50\n",
       "1305      NaN\n",
       "1306    26.50\n",
       "1307    27.00\n",
       "1308    29.00\n",
       "Name: age, Length: 1309, dtype: float64"
      ]
     },
     "execution_count": 13,
     "metadata": {},
     "output_type": "execute_result"
    }
   ],
   "source": [
    "#plt.hist(df_cp.age, bins=20)\n",
    "df_cp.age"
   ]
  },
  {
   "cell_type": "markdown",
   "metadata": {
    "id": "tXWOUl3Mwinh"
   },
   "source": [
    "**T13ii) Impute the numeric variable (just one) with an appropriate value**\n",
    "\n",
    "* What value does it make sense to impute for this variable?\n"
   ]
  },
  {
   "cell_type": "code",
   "execution_count": 14,
   "metadata": {
    "id": "u6C_pF_rwini"
   },
   "outputs": [],
   "source": [
    "df_cp.age.fillna(df_cp.age.mode()[0], inplace=True)"
   ]
  },
  {
   "cell_type": "markdown",
   "metadata": {
    "id": "qCF3DhY89Us6"
   },
   "source": [
    "**T13iii) Plot the histogram again for the variable from task T13 after imputation and observe how the distribution has changed.**"
   ]
  },
  {
   "cell_type": "code",
   "execution_count": 15,
   "metadata": {
    "id": "arQA1Mss9hbE"
   },
   "outputs": [
    {
     "data": {
      "text/plain": [
       "(array([ 51.,  21.,  22.,  40., 114., 423., 128., 122.,  97.,  64.,  51.,\n",
       "         57.,  38.,  27.,  21.,  20.,   5.,   5.,   2.,   1.]),\n",
       " array([ 0.17  ,  4.1615,  8.153 , 12.1445, 16.136 , 20.1275, 24.119 ,\n",
       "        28.1105, 32.102 , 36.0935, 40.085 , 44.0765, 48.068 , 52.0595,\n",
       "        56.051 , 60.0425, 64.034 , 68.0255, 72.017 , 76.0085, 80.    ]),\n",
       " <BarContainer object of 20 artists>)"
      ]
     },
     "execution_count": 15,
     "metadata": {},
     "output_type": "execute_result"
    },
    {
     "data": {
      "image/png": "[encoded data removed]",
      "text/plain": [
       "<Figure size 432x288 with 1 Axes>"
      ]
     },
     "metadata": {
      "needs_background": "light"
     },
     "output_type": "display_data"
    }
   ],
   "source": [
    "plt.hist(df_cp.age, bins=20)"
   ]
  },
  {
   "cell_type": "markdown",
   "metadata": {
    "id": "ILKMISMv31Am"
   },
   "source": [
    "**T14) What should you do about the missing value (one) of the final variable? Select the best imputation strategy and apply it**\n",
    "\n",
    "**Hint:** You may want to consider additional factors and use a more sophisticated imputation strategy"
   ]
  },
  {
   "cell_type": "code",
   "execution_count": 16,
   "metadata": {
    "id": "0-vrP4Ch4Rh_"
   },
   "outputs": [],
   "source": [
    "df_cp.fare.fillna(0, inplace=True)"
   ]
  },
  {
   "cell_type": "markdown",
   "metadata": {
    "id": "degfQun2ImKo"
   },
   "source": [
    "**T15i) Save the cleaned dataframe as a csv file with name \"titanicClean.csv\"**\n",
    "\n",
    "**Hint: Check the Pandas to_csv function**"
   ]
  },
  {
   "cell_type": "code",
   "execution_count": 17,
   "metadata": {
    "id": "7yT9x83IIw21"
   },
   "outputs": [],
   "source": [
    "df_cp.to_csv('titanicClean.csv')"
   ]
  },
  {
   "cell_type": "markdown",
   "metadata": {
    "id": "tbF7KvIiI3ss"
   },
   "source": [
    "**T15ii) Load the cleaned dataset into a new dataframe**"
   ]
  },
  {
   "cell_type": "code",
   "execution_count": 18,
   "metadata": {
    "id": "48IsS8R2I3Xu"
   },
   "outputs": [],
   "source": [
    "df_clean = pd.read_csv('titanicClean.csv')"
   ]
  },
  {
   "cell_type": "markdown",
   "metadata": {
    "id": "BhTCKfTXXcrK"
   },
   "source": [
    "***\n",
    "\n",
    "### Part 3: Analysing the dataset"
   ]
  },
  {
   "cell_type": "markdown",
   "metadata": {
    "id": "oK_WEXU-winj"
   },
   "source": [
    "**T16) Get some descriptive statistics for the dataset selecting only the variables for which the descriptive statistics make sense**"
   ]
  },
  {
   "cell_type": "code",
   "execution_count": 19,
   "metadata": {
    "id": "0XkLltM6wink"
   },
   "outputs": [
    {
     "data": {
      "text/html": [
       "<div>\n",
       "<style scoped>\n",
       "    .dataframe tbody tr th:only-of-type {\n",
       "        vertical-align: middle;\n",
       "    }\n",
       "\n",
       "    .dataframe tbody tr th {\n",
       "        vertical-align: top;\n",
       "    }\n",
       "\n",
       "    .dataframe thead th {\n",
       "        text-align: right;\n",
       "    }\n",
       "</style>\n",
       "<table border=\"1\" class=\"dataframe\">\n",
       "  <thead>\n",
       "    <tr style=\"text-align: right;\">\n",
       "      <th></th>\n",
       "      <th>Unnamed: 0</th>\n",
       "      <th>class</th>\n",
       "      <th>survived</th>\n",
       "      <th>age</th>\n",
       "      <th>parents</th>\n",
       "      <th>children</th>\n",
       "      <th>fare</th>\n",
       "    </tr>\n",
       "  </thead>\n",
       "  <tbody>\n",
       "    <tr>\n",
       "      <th>count</th>\n",
       "      <td>1309.000000</td>\n",
       "      <td>1309.000000</td>\n",
       "      <td>1309.000000</td>\n",
       "      <td>1309.000000</td>\n",
       "      <td>1309.000000</td>\n",
       "      <td>1309.000000</td>\n",
       "      <td>1309.000000</td>\n",
       "    </tr>\n",
       "    <tr>\n",
       "      <th>mean</th>\n",
       "      <td>654.000000</td>\n",
       "      <td>2.294882</td>\n",
       "      <td>0.381971</td>\n",
       "      <td>28.699519</td>\n",
       "      <td>0.498854</td>\n",
       "      <td>0.385027</td>\n",
       "      <td>33.270043</td>\n",
       "    </tr>\n",
       "    <tr>\n",
       "      <th>std</th>\n",
       "      <td>378.020061</td>\n",
       "      <td>0.837836</td>\n",
       "      <td>0.486055</td>\n",
       "      <td>13.097097</td>\n",
       "      <td>1.041658</td>\n",
       "      <td>0.865560</td>\n",
       "      <td>51.747063</td>\n",
       "    </tr>\n",
       "    <tr>\n",
       "      <th>min</th>\n",
       "      <td>0.000000</td>\n",
       "      <td>1.000000</td>\n",
       "      <td>0.000000</td>\n",
       "      <td>0.170000</td>\n",
       "      <td>0.000000</td>\n",
       "      <td>0.000000</td>\n",
       "      <td>0.000000</td>\n",
       "    </tr>\n",
       "    <tr>\n",
       "      <th>25%</th>\n",
       "      <td>327.000000</td>\n",
       "      <td>2.000000</td>\n",
       "      <td>0.000000</td>\n",
       "      <td>22.000000</td>\n",
       "      <td>0.000000</td>\n",
       "      <td>0.000000</td>\n",
       "      <td>7.895800</td>\n",
       "    </tr>\n",
       "    <tr>\n",
       "      <th>50%</th>\n",
       "      <td>654.000000</td>\n",
       "      <td>3.000000</td>\n",
       "      <td>0.000000</td>\n",
       "      <td>24.000000</td>\n",
       "      <td>0.000000</td>\n",
       "      <td>0.000000</td>\n",
       "      <td>14.454200</td>\n",
       "    </tr>\n",
       "    <tr>\n",
       "      <th>75%</th>\n",
       "      <td>981.000000</td>\n",
       "      <td>3.000000</td>\n",
       "      <td>1.000000</td>\n",
       "      <td>35.000000</td>\n",
       "      <td>1.000000</td>\n",
       "      <td>0.000000</td>\n",
       "      <td>31.275000</td>\n",
       "    </tr>\n",
       "    <tr>\n",
       "      <th>max</th>\n",
       "      <td>1308.000000</td>\n",
       "      <td>3.000000</td>\n",
       "      <td>1.000000</td>\n",
       "      <td>80.000000</td>\n",
       "      <td>8.000000</td>\n",
       "      <td>9.000000</td>\n",
       "      <td>512.329200</td>\n",
       "    </tr>\n",
       "  </tbody>\n",
       "</table>\n",
       "</div>"
      ],
      "text/plain": [
       "        Unnamed: 0        class     survived          age      parents  \\\n",
       "count  1309.000000  1309.000000  1309.000000  1309.000000  1309.000000   \n",
       "mean    654.000000     2.294882     0.381971    28.699519     0.498854   \n",
       "std     378.020061     0.837836     0.486055    13.097097     1.041658   \n",
       "min       0.000000     1.000000     0.000000     0.170000     0.000000   \n",
       "25%     327.000000     2.000000     0.000000    22.000000     0.000000   \n",
       "50%     654.000000     3.000000     0.000000    24.000000     0.000000   \n",
       "75%     981.000000     3.000000     1.000000    35.000000     1.000000   \n",
       "max    1308.000000     3.000000     1.000000    80.000000     8.000000   \n",
       "\n",
       "          children         fare  \n",
       "count  1309.000000  1309.000000  \n",
       "mean      0.385027    33.270043  \n",
       "std       0.865560    51.747063  \n",
       "min       0.000000     0.000000  \n",
       "25%       0.000000     7.895800  \n",
       "50%       0.000000    14.454200  \n",
       "75%       0.000000    31.275000  \n",
       "max       9.000000   512.329200  "
      ]
     },
     "execution_count": 19,
     "metadata": {},
     "output_type": "execute_result"
    }
   ],
   "source": [
    "df_clean.describe()"
   ]
  },
  {
   "cell_type": "markdown",
   "metadata": {
    "id": "2Tp8OBlRwinm"
   },
   "source": [
    "**T17i) For each passenger, find out how many family members she/he has in total and store this information as a new variable in the dataframe**"
   ]
  },
  {
   "cell_type": "code",
   "execution_count": 20,
   "metadata": {
    "id": "xbrMiwNdwinn"
   },
   "outputs": [
    {
     "data": {
      "text/html": [
       "<div>\n",
       "<style scoped>\n",
       "    .dataframe tbody tr th:only-of-type {\n",
       "        vertical-align: middle;\n",
       "    }\n",
       "\n",
       "    .dataframe tbody tr th {\n",
       "        vertical-align: top;\n",
       "    }\n",
       "\n",
       "    .dataframe thead th {\n",
       "        text-align: right;\n",
       "    }\n",
       "</style>\n",
       "<table border=\"1\" class=\"dataframe\">\n",
       "  <thead>\n",
       "    <tr style=\"text-align: right;\">\n",
       "      <th></th>\n",
       "      <th>Unnamed: 0</th>\n",
       "      <th>class</th>\n",
       "      <th>survived</th>\n",
       "      <th>name</th>\n",
       "      <th>sex</th>\n",
       "      <th>age</th>\n",
       "      <th>parents</th>\n",
       "      <th>children</th>\n",
       "      <th>ticket</th>\n",
       "      <th>fare</th>\n",
       "      <th>embarked</th>\n",
       "      <th>relatives</th>\n",
       "    </tr>\n",
       "  </thead>\n",
       "  <tbody>\n",
       "    <tr>\n",
       "      <th>0</th>\n",
       "      <td>0</td>\n",
       "      <td>1</td>\n",
       "      <td>1</td>\n",
       "      <td>Allen, Miss. Elisabeth Walton</td>\n",
       "      <td>female</td>\n",
       "      <td>29.00</td>\n",
       "      <td>0</td>\n",
       "      <td>0</td>\n",
       "      <td>24160</td>\n",
       "      <td>211.3375</td>\n",
       "      <td>S</td>\n",
       "      <td>0</td>\n",
       "    </tr>\n",
       "    <tr>\n",
       "      <th>1</th>\n",
       "      <td>1</td>\n",
       "      <td>1</td>\n",
       "      <td>1</td>\n",
       "      <td>Allison, Master. Hudson Trevor</td>\n",
       "      <td>male</td>\n",
       "      <td>0.92</td>\n",
       "      <td>1</td>\n",
       "      <td>2</td>\n",
       "      <td>113781</td>\n",
       "      <td>151.5500</td>\n",
       "      <td>S</td>\n",
       "      <td>3</td>\n",
       "    </tr>\n",
       "    <tr>\n",
       "      <th>2</th>\n",
       "      <td>2</td>\n",
       "      <td>1</td>\n",
       "      <td>0</td>\n",
       "      <td>Allison, Miss. Helen Loraine</td>\n",
       "      <td>female</td>\n",
       "      <td>2.00</td>\n",
       "      <td>1</td>\n",
       "      <td>2</td>\n",
       "      <td>113781</td>\n",
       "      <td>151.5500</td>\n",
       "      <td>S</td>\n",
       "      <td>3</td>\n",
       "    </tr>\n",
       "    <tr>\n",
       "      <th>3</th>\n",
       "      <td>3</td>\n",
       "      <td>1</td>\n",
       "      <td>0</td>\n",
       "      <td>Allison, Mr. Hudson Joshua Creighton</td>\n",
       "      <td>male</td>\n",
       "      <td>30.00</td>\n",
       "      <td>1</td>\n",
       "      <td>2</td>\n",
       "      <td>113781</td>\n",
       "      <td>151.5500</td>\n",
       "      <td>S</td>\n",
       "      <td>3</td>\n",
       "    </tr>\n",
       "    <tr>\n",
       "      <th>4</th>\n",
       "      <td>4</td>\n",
       "      <td>1</td>\n",
       "      <td>0</td>\n",
       "      <td>Allison, Mrs. Hudson J C (Bessie Waldo Daniels)</td>\n",
       "      <td>female</td>\n",
       "      <td>25.00</td>\n",
       "      <td>1</td>\n",
       "      <td>2</td>\n",
       "      <td>113781</td>\n",
       "      <td>151.5500</td>\n",
       "      <td>S</td>\n",
       "      <td>3</td>\n",
       "    </tr>\n",
       "    <tr>\n",
       "      <th>...</th>\n",
       "      <td>...</td>\n",
       "      <td>...</td>\n",
       "      <td>...</td>\n",
       "      <td>...</td>\n",
       "      <td>...</td>\n",
       "      <td>...</td>\n",
       "      <td>...</td>\n",
       "      <td>...</td>\n",
       "      <td>...</td>\n",
       "      <td>...</td>\n",
       "      <td>...</td>\n",
       "      <td>...</td>\n",
       "    </tr>\n",
       "    <tr>\n",
       "      <th>1304</th>\n",
       "      <td>1304</td>\n",
       "      <td>3</td>\n",
       "      <td>0</td>\n",
       "      <td>Zabour, Miss. Hileni</td>\n",
       "      <td>female</td>\n",
       "      <td>14.50</td>\n",
       "      <td>1</td>\n",
       "      <td>0</td>\n",
       "      <td>2665</td>\n",
       "      <td>14.4542</td>\n",
       "      <td>C</td>\n",
       "      <td>1</td>\n",
       "    </tr>\n",
       "    <tr>\n",
       "      <th>1305</th>\n",
       "      <td>1305</td>\n",
       "      <td>3</td>\n",
       "      <td>0</td>\n",
       "      <td>Zabour, Miss. Thamine</td>\n",
       "      <td>female</td>\n",
       "      <td>24.00</td>\n",
       "      <td>1</td>\n",
       "      <td>0</td>\n",
       "      <td>2665</td>\n",
       "      <td>14.4542</td>\n",
       "      <td>C</td>\n",
       "      <td>1</td>\n",
       "    </tr>\n",
       "    <tr>\n",
       "      <th>1306</th>\n",
       "      <td>1306</td>\n",
       "      <td>3</td>\n",
       "      <td>0</td>\n",
       "      <td>Zakarian, Mr. Mapriededer</td>\n",
       "      <td>male</td>\n",
       "      <td>26.50</td>\n",
       "      <td>0</td>\n",
       "      <td>0</td>\n",
       "      <td>2656</td>\n",
       "      <td>7.2250</td>\n",
       "      <td>C</td>\n",
       "      <td>0</td>\n",
       "    </tr>\n",
       "    <tr>\n",
       "      <th>1307</th>\n",
       "      <td>1307</td>\n",
       "      <td>3</td>\n",
       "      <td>0</td>\n",
       "      <td>Zakarian, Mr. Ortin</td>\n",
       "      <td>male</td>\n",
       "      <td>27.00</td>\n",
       "      <td>0</td>\n",
       "      <td>0</td>\n",
       "      <td>2670</td>\n",
       "      <td>7.2250</td>\n",
       "      <td>C</td>\n",
       "      <td>0</td>\n",
       "    </tr>\n",
       "    <tr>\n",
       "      <th>1308</th>\n",
       "      <td>1308</td>\n",
       "      <td>3</td>\n",
       "      <td>0</td>\n",
       "      <td>Zimmerman, Mr. Leo</td>\n",
       "      <td>male</td>\n",
       "      <td>29.00</td>\n",
       "      <td>0</td>\n",
       "      <td>0</td>\n",
       "      <td>315082</td>\n",
       "      <td>7.8750</td>\n",
       "      <td>S</td>\n",
       "      <td>0</td>\n",
       "    </tr>\n",
       "  </tbody>\n",
       "</table>\n",
       "<p>1309 rows × 12 columns</p>\n",
       "</div>"
      ],
      "text/plain": [
       "      Unnamed: 0  class  survived  \\\n",
       "0              0      1         1   \n",
       "1              1      1         1   \n",
       "2              2      1         0   \n",
       "3              3      1         0   \n",
       "4              4      1         0   \n",
       "...          ...    ...       ...   \n",
       "1304        1304      3         0   \n",
       "1305        1305      3         0   \n",
       "1306        1306      3         0   \n",
       "1307        1307      3         0   \n",
       "1308        1308      3         0   \n",
       "\n",
       "                                                 name     sex    age  parents  \\\n",
       "0                       Allen, Miss. Elisabeth Walton  female  29.00        0   \n",
       "1                      Allison, Master. Hudson Trevor    male   0.92        1   \n",
       "2                        Allison, Miss. Helen Loraine  female   2.00        1   \n",
       "3                Allison, Mr. Hudson Joshua Creighton    male  30.00        1   \n",
       "4     Allison, Mrs. Hudson J C (Bessie Waldo Daniels)  female  25.00        1   \n",
       "...                                               ...     ...    ...      ...   \n",
       "1304                             Zabour, Miss. Hileni  female  14.50        1   \n",
       "1305                            Zabour, Miss. Thamine  female  24.00        1   \n",
       "1306                        Zakarian, Mr. Mapriededer    male  26.50        0   \n",
       "1307                              Zakarian, Mr. Ortin    male  27.00        0   \n",
       "1308                               Zimmerman, Mr. Leo    male  29.00        0   \n",
       "\n",
       "      children  ticket      fare embarked  relatives  \n",
       "0            0   24160  211.3375        S          0  \n",
       "1            2  113781  151.5500        S          3  \n",
       "2            2  113781  151.5500        S          3  \n",
       "3            2  113781  151.5500        S          3  \n",
       "4            2  113781  151.5500        S          3  \n",
       "...        ...     ...       ...      ...        ...  \n",
       "1304         0    2665   14.4542        C          1  \n",
       "1305         0    2665   14.4542        C          1  \n",
       "1306         0    2656    7.2250        C          0  \n",
       "1307         0    2670    7.2250        C          0  \n",
       "1308         0  315082    7.8750        S          0  \n",
       "\n",
       "[1309 rows x 12 columns]"
      ]
     },
     "execution_count": 20,
     "metadata": {},
     "output_type": "execute_result"
    }
   ],
   "source": [
    "df_clean['relatives'] = df_clean.parents + df_clean.children\n",
    "df_clean"
   ]
  },
  {
   "cell_type": "markdown",
   "metadata": {
    "id": "gcyoZXSo_J24"
   },
   "source": [
    "**T17ii) Print the records for the family with surname \"Palsson\" and confirm that the result from task T17i is correct**"
   ]
  },
  {
   "cell_type": "code",
   "execution_count": 56,
   "metadata": {
    "id": "gfF97y5Z_JKu"
   },
   "outputs": [
    {
     "data": {
      "text/html": [
       "<div>\n",
       "<style scoped>\n",
       "    .dataframe tbody tr th:only-of-type {\n",
       "        vertical-align: middle;\n",
       "    }\n",
       "\n",
       "    .dataframe tbody tr th {\n",
       "        vertical-align: top;\n",
       "    }\n",
       "\n",
       "    .dataframe thead th {\n",
       "        text-align: right;\n",
       "    }\n",
       "</style>\n",
       "<table border=\"1\" class=\"dataframe\">\n",
       "  <thead>\n",
       "    <tr style=\"text-align: right;\">\n",
       "      <th></th>\n",
       "      <th>Unnamed: 0</th>\n",
       "      <th>class</th>\n",
       "      <th>survived</th>\n",
       "      <th>name</th>\n",
       "      <th>sex</th>\n",
       "      <th>age</th>\n",
       "      <th>parents</th>\n",
       "      <th>children</th>\n",
       "      <th>ticket</th>\n",
       "      <th>fare</th>\n",
       "      <th>embarked</th>\n",
       "      <th>relatives</th>\n",
       "    </tr>\n",
       "  </thead>\n",
       "  <tbody>\n",
       "    <tr>\n",
       "      <th>1096</th>\n",
       "      <td>1096</td>\n",
       "      <td>3</td>\n",
       "      <td>0</td>\n",
       "      <td>Palsson, Master. Gosta Leonard</td>\n",
       "      <td>male</td>\n",
       "      <td>2.0</td>\n",
       "      <td>3</td>\n",
       "      <td>1</td>\n",
       "      <td>349909</td>\n",
       "      <td>21.075</td>\n",
       "      <td>S</td>\n",
       "      <td>4</td>\n",
       "    </tr>\n",
       "    <tr>\n",
       "      <th>1097</th>\n",
       "      <td>1097</td>\n",
       "      <td>3</td>\n",
       "      <td>0</td>\n",
       "      <td>Palsson, Master. Paul Folke</td>\n",
       "      <td>male</td>\n",
       "      <td>6.0</td>\n",
       "      <td>3</td>\n",
       "      <td>1</td>\n",
       "      <td>349909</td>\n",
       "      <td>21.075</td>\n",
       "      <td>S</td>\n",
       "      <td>4</td>\n",
       "    </tr>\n",
       "    <tr>\n",
       "      <th>1098</th>\n",
       "      <td>1098</td>\n",
       "      <td>3</td>\n",
       "      <td>0</td>\n",
       "      <td>Palsson, Miss. Stina Viola</td>\n",
       "      <td>female</td>\n",
       "      <td>3.0</td>\n",
       "      <td>3</td>\n",
       "      <td>1</td>\n",
       "      <td>349909</td>\n",
       "      <td>21.075</td>\n",
       "      <td>S</td>\n",
       "      <td>4</td>\n",
       "    </tr>\n",
       "    <tr>\n",
       "      <th>1099</th>\n",
       "      <td>1099</td>\n",
       "      <td>3</td>\n",
       "      <td>0</td>\n",
       "      <td>Palsson, Miss. Torborg Danira</td>\n",
       "      <td>female</td>\n",
       "      <td>8.0</td>\n",
       "      <td>3</td>\n",
       "      <td>1</td>\n",
       "      <td>349909</td>\n",
       "      <td>21.075</td>\n",
       "      <td>S</td>\n",
       "      <td>4</td>\n",
       "    </tr>\n",
       "    <tr>\n",
       "      <th>1100</th>\n",
       "      <td>1100</td>\n",
       "      <td>3</td>\n",
       "      <td>0</td>\n",
       "      <td>Palsson, Mrs. Nils (Alma Cornelia Berglund)</td>\n",
       "      <td>female</td>\n",
       "      <td>29.0</td>\n",
       "      <td>0</td>\n",
       "      <td>4</td>\n",
       "      <td>349909</td>\n",
       "      <td>21.075</td>\n",
       "      <td>S</td>\n",
       "      <td>4</td>\n",
       "    </tr>\n",
       "  </tbody>\n",
       "</table>\n",
       "</div>"
      ],
      "text/plain": [
       "      Unnamed: 0  class  survived  \\\n",
       "1096        1096      3         0   \n",
       "1097        1097      3         0   \n",
       "1098        1098      3         0   \n",
       "1099        1099      3         0   \n",
       "1100        1100      3         0   \n",
       "\n",
       "                                             name     sex   age  parents  \\\n",
       "1096               Palsson, Master. Gosta Leonard    male   2.0        3   \n",
       "1097                  Palsson, Master. Paul Folke    male   6.0        3   \n",
       "1098                   Palsson, Miss. Stina Viola  female   3.0        3   \n",
       "1099                Palsson, Miss. Torborg Danira  female   8.0        3   \n",
       "1100  Palsson, Mrs. Nils (Alma Cornelia Berglund)  female  29.0        0   \n",
       "\n",
       "      children  ticket    fare embarked  relatives  \n",
       "1096         1  349909  21.075        S          4  \n",
       "1097         1  349909  21.075        S          4  \n",
       "1098         1  349909  21.075        S          4  \n",
       "1099         1  349909  21.075        S          4  \n",
       "1100         4  349909  21.075        S          4  "
      ]
     },
     "execution_count": 56,
     "metadata": {},
     "output_type": "execute_result"
    }
   ],
   "source": [
    "# yes correct as not including themselves\n",
    "df_clean.query(\"name.str.contains('Palsson')\")"
   ]
  },
  {
   "cell_type": "markdown",
   "metadata": {
    "id": "6J1X_vQqwinn"
   },
   "source": [
    "**T18): Find out and print the details of the biggest family on board**\n",
    "\n",
    "**Hint: You may want to check https://en.wikipedia.org/wiki/Passengers_of_the_Titanic or https://titanicfacts.net/titanic-passenger-list**\n",
    "\n",
    "Also read: https://en.wikipedia.org/wiki/Passengers_of_the_Titanic#Third_class"
   ]
  },
  {
   "cell_type": "code",
   "execution_count": 61,
   "metadata": {
    "id": "A6TR2qp3wino",
    "scrolled": true
   },
   "outputs": [
    {
     "data": {
      "text/html": [
       "<div>\n",
       "<style scoped>\n",
       "    .dataframe tbody tr th:only-of-type {\n",
       "        vertical-align: middle;\n",
       "    }\n",
       "\n",
       "    .dataframe tbody tr th {\n",
       "        vertical-align: top;\n",
       "    }\n",
       "\n",
       "    .dataframe thead th {\n",
       "        text-align: right;\n",
       "    }\n",
       "</style>\n",
       "<table border=\"1\" class=\"dataframe\">\n",
       "  <thead>\n",
       "    <tr style=\"text-align: right;\">\n",
       "      <th></th>\n",
       "      <th>Unnamed: 0</th>\n",
       "      <th>class</th>\n",
       "      <th>survived</th>\n",
       "      <th>name</th>\n",
       "      <th>sex</th>\n",
       "      <th>age</th>\n",
       "      <th>parents</th>\n",
       "      <th>children</th>\n",
       "      <th>ticket</th>\n",
       "      <th>fare</th>\n",
       "      <th>embarked</th>\n",
       "      <th>relatives</th>\n",
       "    </tr>\n",
       "  </thead>\n",
       "  <tbody>\n",
       "    <tr>\n",
       "      <th>1170</th>\n",
       "      <td>1170</td>\n",
       "      <td>3</td>\n",
       "      <td>0</td>\n",
       "      <td>Sage, Master. Thomas Henry</td>\n",
       "      <td>male</td>\n",
       "      <td>24.0</td>\n",
       "      <td>8</td>\n",
       "      <td>2</td>\n",
       "      <td>CA. 2343</td>\n",
       "      <td>69.55</td>\n",
       "      <td>S</td>\n",
       "      <td>10</td>\n",
       "    </tr>\n",
       "    <tr>\n",
       "      <th>1171</th>\n",
       "      <td>1171</td>\n",
       "      <td>3</td>\n",
       "      <td>0</td>\n",
       "      <td>Sage, Master. William Henry</td>\n",
       "      <td>male</td>\n",
       "      <td>14.5</td>\n",
       "      <td>8</td>\n",
       "      <td>2</td>\n",
       "      <td>CA. 2343</td>\n",
       "      <td>69.55</td>\n",
       "      <td>S</td>\n",
       "      <td>10</td>\n",
       "    </tr>\n",
       "    <tr>\n",
       "      <th>1172</th>\n",
       "      <td>1172</td>\n",
       "      <td>3</td>\n",
       "      <td>0</td>\n",
       "      <td>Sage, Miss. Ada</td>\n",
       "      <td>female</td>\n",
       "      <td>24.0</td>\n",
       "      <td>8</td>\n",
       "      <td>2</td>\n",
       "      <td>CA. 2343</td>\n",
       "      <td>69.55</td>\n",
       "      <td>S</td>\n",
       "      <td>10</td>\n",
       "    </tr>\n",
       "    <tr>\n",
       "      <th>1173</th>\n",
       "      <td>1173</td>\n",
       "      <td>3</td>\n",
       "      <td>0</td>\n",
       "      <td>Sage, Miss. Constance Gladys</td>\n",
       "      <td>female</td>\n",
       "      <td>24.0</td>\n",
       "      <td>8</td>\n",
       "      <td>2</td>\n",
       "      <td>CA. 2343</td>\n",
       "      <td>69.55</td>\n",
       "      <td>S</td>\n",
       "      <td>10</td>\n",
       "    </tr>\n",
       "    <tr>\n",
       "      <th>1174</th>\n",
       "      <td>1174</td>\n",
       "      <td>3</td>\n",
       "      <td>0</td>\n",
       "      <td>Sage, Miss. Dorothy Edith \"Dolly\"</td>\n",
       "      <td>female</td>\n",
       "      <td>24.0</td>\n",
       "      <td>8</td>\n",
       "      <td>2</td>\n",
       "      <td>CA. 2343</td>\n",
       "      <td>69.55</td>\n",
       "      <td>S</td>\n",
       "      <td>10</td>\n",
       "    </tr>\n",
       "    <tr>\n",
       "      <th>1175</th>\n",
       "      <td>1175</td>\n",
       "      <td>3</td>\n",
       "      <td>0</td>\n",
       "      <td>Sage, Miss. Stella Anna</td>\n",
       "      <td>female</td>\n",
       "      <td>24.0</td>\n",
       "      <td>8</td>\n",
       "      <td>2</td>\n",
       "      <td>CA. 2343</td>\n",
       "      <td>69.55</td>\n",
       "      <td>S</td>\n",
       "      <td>10</td>\n",
       "    </tr>\n",
       "    <tr>\n",
       "      <th>1176</th>\n",
       "      <td>1176</td>\n",
       "      <td>3</td>\n",
       "      <td>0</td>\n",
       "      <td>Sage, Mr. Douglas Bullen</td>\n",
       "      <td>male</td>\n",
       "      <td>24.0</td>\n",
       "      <td>8</td>\n",
       "      <td>2</td>\n",
       "      <td>CA. 2343</td>\n",
       "      <td>69.55</td>\n",
       "      <td>S</td>\n",
       "      <td>10</td>\n",
       "    </tr>\n",
       "    <tr>\n",
       "      <th>1177</th>\n",
       "      <td>1177</td>\n",
       "      <td>3</td>\n",
       "      <td>0</td>\n",
       "      <td>Sage, Mr. Frederick</td>\n",
       "      <td>male</td>\n",
       "      <td>24.0</td>\n",
       "      <td>8</td>\n",
       "      <td>2</td>\n",
       "      <td>CA. 2343</td>\n",
       "      <td>69.55</td>\n",
       "      <td>S</td>\n",
       "      <td>10</td>\n",
       "    </tr>\n",
       "    <tr>\n",
       "      <th>1178</th>\n",
       "      <td>1178</td>\n",
       "      <td>3</td>\n",
       "      <td>0</td>\n",
       "      <td>Sage, Mr. George John Jr</td>\n",
       "      <td>male</td>\n",
       "      <td>24.0</td>\n",
       "      <td>8</td>\n",
       "      <td>2</td>\n",
       "      <td>CA. 2343</td>\n",
       "      <td>69.55</td>\n",
       "      <td>S</td>\n",
       "      <td>10</td>\n",
       "    </tr>\n",
       "    <tr>\n",
       "      <th>1179</th>\n",
       "      <td>1179</td>\n",
       "      <td>3</td>\n",
       "      <td>0</td>\n",
       "      <td>Sage, Mr. John George</td>\n",
       "      <td>male</td>\n",
       "      <td>24.0</td>\n",
       "      <td>1</td>\n",
       "      <td>9</td>\n",
       "      <td>CA. 2343</td>\n",
       "      <td>69.55</td>\n",
       "      <td>S</td>\n",
       "      <td>10</td>\n",
       "    </tr>\n",
       "    <tr>\n",
       "      <th>1180</th>\n",
       "      <td>1180</td>\n",
       "      <td>3</td>\n",
       "      <td>0</td>\n",
       "      <td>Sage, Mrs. John (Annie Bullen)</td>\n",
       "      <td>female</td>\n",
       "      <td>24.0</td>\n",
       "      <td>1</td>\n",
       "      <td>9</td>\n",
       "      <td>CA. 2343</td>\n",
       "      <td>69.55</td>\n",
       "      <td>S</td>\n",
       "      <td>10</td>\n",
       "    </tr>\n",
       "  </tbody>\n",
       "</table>\n",
       "</div>"
      ],
      "text/plain": [
       "      Unnamed: 0  class  survived                               name     sex  \\\n",
       "1170        1170      3         0         Sage, Master. Thomas Henry    male   \n",
       "1171        1171      3         0        Sage, Master. William Henry    male   \n",
       "1172        1172      3         0                    Sage, Miss. Ada  female   \n",
       "1173        1173      3         0       Sage, Miss. Constance Gladys  female   \n",
       "1174        1174      3         0  Sage, Miss. Dorothy Edith \"Dolly\"  female   \n",
       "1175        1175      3         0            Sage, Miss. Stella Anna  female   \n",
       "1176        1176      3         0           Sage, Mr. Douglas Bullen    male   \n",
       "1177        1177      3         0                Sage, Mr. Frederick    male   \n",
       "1178        1178      3         0           Sage, Mr. George John Jr    male   \n",
       "1179        1179      3         0              Sage, Mr. John George    male   \n",
       "1180        1180      3         0     Sage, Mrs. John (Annie Bullen)  female   \n",
       "\n",
       "       age  parents  children    ticket   fare embarked  relatives  \n",
       "1170  24.0        8         2  CA. 2343  69.55        S         10  \n",
       "1171  14.5        8         2  CA. 2343  69.55        S         10  \n",
       "1172  24.0        8         2  CA. 2343  69.55        S         10  \n",
       "1173  24.0        8         2  CA. 2343  69.55        S         10  \n",
       "1174  24.0        8         2  CA. 2343  69.55        S         10  \n",
       "1175  24.0        8         2  CA. 2343  69.55        S         10  \n",
       "1176  24.0        8         2  CA. 2343  69.55        S         10  \n",
       "1177  24.0        8         2  CA. 2343  69.55        S         10  \n",
       "1178  24.0        8         2  CA. 2343  69.55        S         10  \n",
       "1179  24.0        1         9  CA. 2343  69.55        S         10  \n",
       "1180  24.0        1         9  CA. 2343  69.55        S         10  "
      ]
     },
     "execution_count": 61,
     "metadata": {},
     "output_type": "execute_result"
    }
   ],
   "source": [
    "#surnames = df_clean.name.apply(lambda x: x.split(',')[0])\n",
    "#df_clean.groupby(lambda x: surnames[x]).mean()\n",
    "\n",
    "surname = df_clean.iloc[df_clean.relatives.idxmax()]['name'].split(',')[0]\n",
    "df_clean.query(\"name.str.split(pat=',').str[0] == @surname\")"
   ]
  },
  {
   "cell_type": "markdown",
   "metadata": {
    "id": "PZHejf2mwinx"
   },
   "source": [
    "**T19i) How was the ticket fare for class 1 distributed? Generate a boxplot and investigate whether there are any interesting insights**\n",
    "\n",
    "**Hint**: You may want to check: https://pandas.pydata.org/pandas-docs/stable/reference/api/pandas.DataFrame.boxplot.html"
   ]
  },
  {
   "cell_type": "code",
   "execution_count": 23,
   "metadata": {
    "id": "EvTRglKiLo-l"
   },
   "outputs": [
    {
     "data": {
      "text/plain": [
       "<AxesSubplot:>"
      ]
     },
     "execution_count": 23,
     "metadata": {},
     "output_type": "execute_result"
    },
    {
     "data": {
      "image/png": "[encoded data removed]",
      "text/plain": [
       "<Figure size 432x288 with 1 Axes>"
      ]
     },
     "metadata": {
      "needs_background": "light"
     },
     "output_type": "display_data"
    }
   ],
   "source": [
    "first = df_clean[df_clean['class'] == 1]\n",
    "first.boxplot(column='fare')"
   ]
  },
  {
   "cell_type": "markdown",
   "metadata": {
    "id": "qXmGbrimEyfp"
   },
   "source": [
    "**T19ii) Do you see any weird fare values? Check if there are any outliers for the ticket fares of class 1 using the standard deviation method.**"
   ]
  },
  {
   "cell_type": "code",
   "execution_count": 24,
   "metadata": {
    "id": "U-isW7-kEx_y"
   },
   "outputs": [
    {
     "data": {
      "text/html": [
       "<div>\n",
       "<style scoped>\n",
       "    .dataframe tbody tr th:only-of-type {\n",
       "        vertical-align: middle;\n",
       "    }\n",
       "\n",
       "    .dataframe tbody tr th {\n",
       "        vertical-align: top;\n",
       "    }\n",
       "\n",
       "    .dataframe thead th {\n",
       "        text-align: right;\n",
       "    }\n",
       "</style>\n",
       "<table border=\"1\" class=\"dataframe\">\n",
       "  <thead>\n",
       "    <tr style=\"text-align: right;\">\n",
       "      <th></th>\n",
       "      <th>Unnamed: 0</th>\n",
       "      <th>class</th>\n",
       "      <th>survived</th>\n",
       "      <th>name</th>\n",
       "      <th>sex</th>\n",
       "      <th>age</th>\n",
       "      <th>parents</th>\n",
       "      <th>children</th>\n",
       "      <th>ticket</th>\n",
       "      <th>fare</th>\n",
       "      <th>embarked</th>\n",
       "      <th>relatives</th>\n",
       "    </tr>\n",
       "  </thead>\n",
       "  <tbody>\n",
       "    <tr>\n",
       "      <th>35</th>\n",
       "      <td>35</td>\n",
       "      <td>1</td>\n",
       "      <td>1</td>\n",
       "      <td>Bowen, Miss. Grace Scott</td>\n",
       "      <td>female</td>\n",
       "      <td>45.0</td>\n",
       "      <td>0</td>\n",
       "      <td>0</td>\n",
       "      <td>PC 17608</td>\n",
       "      <td>262.3750</td>\n",
       "      <td>C</td>\n",
       "      <td>0</td>\n",
       "    </tr>\n",
       "    <tr>\n",
       "      <th>49</th>\n",
       "      <td>49</td>\n",
       "      <td>1</td>\n",
       "      <td>1</td>\n",
       "      <td>Cardeza, Mr. Thomas Drake Martinez</td>\n",
       "      <td>male</td>\n",
       "      <td>36.0</td>\n",
       "      <td>0</td>\n",
       "      <td>1</td>\n",
       "      <td>PC 17755</td>\n",
       "      <td>512.3292</td>\n",
       "      <td>C</td>\n",
       "      <td>1</td>\n",
       "    </tr>\n",
       "    <tr>\n",
       "      <th>50</th>\n",
       "      <td>50</td>\n",
       "      <td>1</td>\n",
       "      <td>1</td>\n",
       "      <td>Cardeza, Mrs. James Warburton Martinez (Charlo...</td>\n",
       "      <td>female</td>\n",
       "      <td>58.0</td>\n",
       "      <td>0</td>\n",
       "      <td>1</td>\n",
       "      <td>PC 17755</td>\n",
       "      <td>512.3292</td>\n",
       "      <td>C</td>\n",
       "      <td>1</td>\n",
       "    </tr>\n",
       "    <tr>\n",
       "      <th>66</th>\n",
       "      <td>66</td>\n",
       "      <td>1</td>\n",
       "      <td>1</td>\n",
       "      <td>Chaudanson, Miss. Victorine</td>\n",
       "      <td>female</td>\n",
       "      <td>36.0</td>\n",
       "      <td>0</td>\n",
       "      <td>0</td>\n",
       "      <td>PC 17608</td>\n",
       "      <td>262.3750</td>\n",
       "      <td>C</td>\n",
       "      <td>0</td>\n",
       "    </tr>\n",
       "    <tr>\n",
       "      <th>111</th>\n",
       "      <td>111</td>\n",
       "      <td>1</td>\n",
       "      <td>1</td>\n",
       "      <td>Fortune, Miss. Alice Elizabeth</td>\n",
       "      <td>female</td>\n",
       "      <td>24.0</td>\n",
       "      <td>3</td>\n",
       "      <td>2</td>\n",
       "      <td>19950</td>\n",
       "      <td>263.0000</td>\n",
       "      <td>S</td>\n",
       "      <td>5</td>\n",
       "    </tr>\n",
       "    <tr>\n",
       "      <th>112</th>\n",
       "      <td>112</td>\n",
       "      <td>1</td>\n",
       "      <td>1</td>\n",
       "      <td>Fortune, Miss. Ethel Flora</td>\n",
       "      <td>female</td>\n",
       "      <td>28.0</td>\n",
       "      <td>3</td>\n",
       "      <td>2</td>\n",
       "      <td>19950</td>\n",
       "      <td>263.0000</td>\n",
       "      <td>S</td>\n",
       "      <td>5</td>\n",
       "    </tr>\n",
       "    <tr>\n",
       "      <th>113</th>\n",
       "      <td>113</td>\n",
       "      <td>1</td>\n",
       "      <td>1</td>\n",
       "      <td>Fortune, Miss. Mabel Helen</td>\n",
       "      <td>female</td>\n",
       "      <td>23.0</td>\n",
       "      <td>3</td>\n",
       "      <td>2</td>\n",
       "      <td>19950</td>\n",
       "      <td>263.0000</td>\n",
       "      <td>S</td>\n",
       "      <td>5</td>\n",
       "    </tr>\n",
       "    <tr>\n",
       "      <th>114</th>\n",
       "      <td>114</td>\n",
       "      <td>1</td>\n",
       "      <td>0</td>\n",
       "      <td>Fortune, Mr. Charles Alexander</td>\n",
       "      <td>male</td>\n",
       "      <td>19.0</td>\n",
       "      <td>3</td>\n",
       "      <td>2</td>\n",
       "      <td>19950</td>\n",
       "      <td>263.0000</td>\n",
       "      <td>S</td>\n",
       "      <td>5</td>\n",
       "    </tr>\n",
       "    <tr>\n",
       "      <th>115</th>\n",
       "      <td>115</td>\n",
       "      <td>1</td>\n",
       "      <td>0</td>\n",
       "      <td>Fortune, Mr. Mark</td>\n",
       "      <td>male</td>\n",
       "      <td>64.0</td>\n",
       "      <td>1</td>\n",
       "      <td>4</td>\n",
       "      <td>19950</td>\n",
       "      <td>263.0000</td>\n",
       "      <td>S</td>\n",
       "      <td>5</td>\n",
       "    </tr>\n",
       "    <tr>\n",
       "      <th>116</th>\n",
       "      <td>116</td>\n",
       "      <td>1</td>\n",
       "      <td>1</td>\n",
       "      <td>Fortune, Mrs. Mark (Mary McDougald)</td>\n",
       "      <td>female</td>\n",
       "      <td>60.0</td>\n",
       "      <td>1</td>\n",
       "      <td>4</td>\n",
       "      <td>19950</td>\n",
       "      <td>263.0000</td>\n",
       "      <td>S</td>\n",
       "      <td>5</td>\n",
       "    </tr>\n",
       "    <tr>\n",
       "      <th>183</th>\n",
       "      <td>183</td>\n",
       "      <td>1</td>\n",
       "      <td>1</td>\n",
       "      <td>Lesurer, Mr. Gustave J</td>\n",
       "      <td>male</td>\n",
       "      <td>35.0</td>\n",
       "      <td>0</td>\n",
       "      <td>0</td>\n",
       "      <td>PC 17755</td>\n",
       "      <td>512.3292</td>\n",
       "      <td>C</td>\n",
       "      <td>0</td>\n",
       "    </tr>\n",
       "    <tr>\n",
       "      <th>249</th>\n",
       "      <td>249</td>\n",
       "      <td>1</td>\n",
       "      <td>1</td>\n",
       "      <td>Ryerson, Master. John Borie</td>\n",
       "      <td>male</td>\n",
       "      <td>13.0</td>\n",
       "      <td>2</td>\n",
       "      <td>2</td>\n",
       "      <td>PC 17608</td>\n",
       "      <td>262.3750</td>\n",
       "      <td>C</td>\n",
       "      <td>4</td>\n",
       "    </tr>\n",
       "    <tr>\n",
       "      <th>250</th>\n",
       "      <td>250</td>\n",
       "      <td>1</td>\n",
       "      <td>1</td>\n",
       "      <td>Ryerson, Miss. Emily Borie</td>\n",
       "      <td>female</td>\n",
       "      <td>18.0</td>\n",
       "      <td>2</td>\n",
       "      <td>2</td>\n",
       "      <td>PC 17608</td>\n",
       "      <td>262.3750</td>\n",
       "      <td>C</td>\n",
       "      <td>4</td>\n",
       "    </tr>\n",
       "    <tr>\n",
       "      <th>251</th>\n",
       "      <td>251</td>\n",
       "      <td>1</td>\n",
       "      <td>1</td>\n",
       "      <td>Ryerson, Miss. Susan Parker \"Suzette\"</td>\n",
       "      <td>female</td>\n",
       "      <td>21.0</td>\n",
       "      <td>2</td>\n",
       "      <td>2</td>\n",
       "      <td>PC 17608</td>\n",
       "      <td>262.3750</td>\n",
       "      <td>C</td>\n",
       "      <td>4</td>\n",
       "    </tr>\n",
       "    <tr>\n",
       "      <th>252</th>\n",
       "      <td>252</td>\n",
       "      <td>1</td>\n",
       "      <td>0</td>\n",
       "      <td>Ryerson, Mr. Arthur Larned</td>\n",
       "      <td>male</td>\n",
       "      <td>61.0</td>\n",
       "      <td>1</td>\n",
       "      <td>3</td>\n",
       "      <td>PC 17608</td>\n",
       "      <td>262.3750</td>\n",
       "      <td>C</td>\n",
       "      <td>4</td>\n",
       "    </tr>\n",
       "    <tr>\n",
       "      <th>253</th>\n",
       "      <td>253</td>\n",
       "      <td>1</td>\n",
       "      <td>1</td>\n",
       "      <td>Ryerson, Mrs. Arthur Larned (Emily Maria Borie)</td>\n",
       "      <td>female</td>\n",
       "      <td>48.0</td>\n",
       "      <td>1</td>\n",
       "      <td>3</td>\n",
       "      <td>PC 17608</td>\n",
       "      <td>262.3750</td>\n",
       "      <td>C</td>\n",
       "      <td>4</td>\n",
       "    </tr>\n",
       "    <tr>\n",
       "      <th>302</th>\n",
       "      <td>302</td>\n",
       "      <td>1</td>\n",
       "      <td>1</td>\n",
       "      <td>Ward, Miss. Anna</td>\n",
       "      <td>female</td>\n",
       "      <td>35.0</td>\n",
       "      <td>0</td>\n",
       "      <td>0</td>\n",
       "      <td>PC 17755</td>\n",
       "      <td>512.3292</td>\n",
       "      <td>C</td>\n",
       "      <td>0</td>\n",
       "    </tr>\n",
       "  </tbody>\n",
       "</table>\n",
       "</div>"
      ],
      "text/plain": [
       "     Unnamed: 0  class  survived  \\\n",
       "35           35      1         1   \n",
       "49           49      1         1   \n",
       "50           50      1         1   \n",
       "66           66      1         1   \n",
       "111         111      1         1   \n",
       "112         112      1         1   \n",
       "113         113      1         1   \n",
       "114         114      1         0   \n",
       "115         115      1         0   \n",
       "116         116      1         1   \n",
       "183         183      1         1   \n",
       "249         249      1         1   \n",
       "250         250      1         1   \n",
       "251         251      1         1   \n",
       "252         252      1         0   \n",
       "253         253      1         1   \n",
       "302         302      1         1   \n",
       "\n",
       "                                                  name     sex   age  parents  \\\n",
       "35                            Bowen, Miss. Grace Scott  female  45.0        0   \n",
       "49                  Cardeza, Mr. Thomas Drake Martinez    male  36.0        0   \n",
       "50   Cardeza, Mrs. James Warburton Martinez (Charlo...  female  58.0        0   \n",
       "66                         Chaudanson, Miss. Victorine  female  36.0        0   \n",
       "111                     Fortune, Miss. Alice Elizabeth  female  24.0        3   \n",
       "112                         Fortune, Miss. Ethel Flora  female  28.0        3   \n",
       "113                         Fortune, Miss. Mabel Helen  female  23.0        3   \n",
       "114                     Fortune, Mr. Charles Alexander    male  19.0        3   \n",
       "115                                  Fortune, Mr. Mark    male  64.0        1   \n",
       "116                Fortune, Mrs. Mark (Mary McDougald)  female  60.0        1   \n",
       "183                             Lesurer, Mr. Gustave J    male  35.0        0   \n",
       "249                        Ryerson, Master. John Borie    male  13.0        2   \n",
       "250                         Ryerson, Miss. Emily Borie  female  18.0        2   \n",
       "251              Ryerson, Miss. Susan Parker \"Suzette\"  female  21.0        2   \n",
       "252                         Ryerson, Mr. Arthur Larned    male  61.0        1   \n",
       "253    Ryerson, Mrs. Arthur Larned (Emily Maria Borie)  female  48.0        1   \n",
       "302                                   Ward, Miss. Anna  female  35.0        0   \n",
       "\n",
       "     children    ticket      fare embarked  relatives  \n",
       "35          0  PC 17608  262.3750        C          0  \n",
       "49          1  PC 17755  512.3292        C          1  \n",
       "50          1  PC 17755  512.3292        C          1  \n",
       "66          0  PC 17608  262.3750        C          0  \n",
       "111         2     19950  263.0000        S          5  \n",
       "112         2     19950  263.0000        S          5  \n",
       "113         2     19950  263.0000        S          5  \n",
       "114         2     19950  263.0000        S          5  \n",
       "115         4     19950  263.0000        S          5  \n",
       "116         4     19950  263.0000        S          5  \n",
       "183         0  PC 17755  512.3292        C          0  \n",
       "249         2  PC 17608  262.3750        C          4  \n",
       "250         2  PC 17608  262.3750        C          4  \n",
       "251         2  PC 17608  262.3750        C          4  \n",
       "252         3  PC 17608  262.3750        C          4  \n",
       "253         3  PC 17608  262.3750        C          4  \n",
       "302         0  PC 17755  512.3292        C          0  "
      ]
     },
     "execution_count": 24,
     "metadata": {},
     "output_type": "execute_result"
    }
   ],
   "source": [
    "first = df_clean[df_clean['class'] == 1]\n",
    "mean = first.fare.mean()\n",
    "std = first.fare.std()\n",
    "first.query('fare < @mean - 2*@std | fare > @mean + 2*@std')"
   ]
  },
  {
   "cell_type": "markdown",
   "metadata": {
    "id": "DfSnDjQYOATY"
   },
   "source": [
    "**T19iii) Print the information for those passengers**\n",
    "\n",
    "You can read the interesting story of the passengers and their families at:\n",
    "- https://www.encyclopedia-titanica.org/titanic-survivor/charlotte-cardeza.html\n",
    "- https://www.encyclopedia-titanica.org/titanic-survivor/annie-moore-ward.html\n"
   ]
  },
  {
   "cell_type": "code",
   "execution_count": 25,
   "metadata": {
    "id": "VOtEI_cdOGkh"
   },
   "outputs": [],
   "source": [
    "#Write your answer here\n"
   ]
  },
  {
   "cell_type": "markdown",
   "metadata": {
    "id": "5AKAmMTywino"
   },
   "source": [
    "**T20) Given that Titanic stopped in three ports (C = Cherbourg, Q = Queenstown, S = Southampton) before departing from the UK, can we identify any patterns regarding the ports at which passengers embarked on the Titanic? Produce a bar plot to illustrate this**\n",
    "\n",
    "**Hint:** You may want to check: https://pandas.pydata.org/pandas-docs/stable/reference/api/pandas.DataFrame.plot.bar.html"
   ]
  },
  {
   "cell_type": "code",
   "execution_count": 26,
   "metadata": {
    "id": "_1ZqwcWcQCfb"
   },
   "outputs": [
    {
     "data": {
      "text/plain": [
       "embarked\n",
       "C    62.336267\n",
       "Q    12.409012\n",
       "S    27.503697\n",
       "Name: fare, dtype: float64"
      ]
     },
     "execution_count": 26,
     "metadata": {},
     "output_type": "execute_result"
    }
   ],
   "source": [
    "df_clean.groupby('embarked').fare.mean()"
   ]
  },
  {
   "cell_type": "markdown",
   "metadata": {
    "id": "RsmCLDVdwin-"
   },
   "source": [
    "### Brain Teaser\n",
    "**Generate a new column 'Title' that includes the title of each passenger and has only the following entries:**\n",
    "* Master, Miss, Mr, Mss \n",
    "\n",
    "where\n",
    "* Miss includes also Mlle and Ms\n",
    "* Mme includes also Mrs\n",
    "* all the remaining titles become Rare"
   ]
  },
  {
   "cell_type": "code",
   "execution_count": 27,
   "metadata": {
    "id": "Wa51iqb1win_"
   },
   "outputs": [
    {
     "ename": "NameError",
     "evalue": "name 'dfClean' is not defined",
     "output_type": "error",
     "traceback": [
      "\u001b[0;31m---------------------------------------------------------------------------\u001b[0m",
      "\u001b[0;31mNameError\u001b[0m                                 Traceback (most recent call last)",
      "\u001b[0;32m<ipython-input-27-e8995ccf04c6>\u001b[0m in \u001b[0;36m<module>\u001b[0;34m\u001b[0m\n\u001b[1;32m      1\u001b[0m \u001b[0;32mimport\u001b[0m \u001b[0mre\u001b[0m\u001b[0;34m\u001b[0m\u001b[0;34m\u001b[0m\u001b[0m\n\u001b[0;32m----> 2\u001b[0;31m \u001b[0mdf_clean\u001b[0m\u001b[0;34m[\u001b[0m\u001b[0;34m'title'\u001b[0m\u001b[0;34m]\u001b[0m \u001b[0;34m=\u001b[0m \u001b[0mdfClean\u001b[0m\u001b[0;34m.\u001b[0m\u001b[0mname\u001b[0m\u001b[0;34m.\u001b[0m\u001b[0mapply\u001b[0m\u001b[0;34m(\u001b[0m\u001b[0;32mlambda\u001b[0m \u001b[0mx\u001b[0m\u001b[0;34m:\u001b[0m \u001b[0mre\u001b[0m\u001b[0;34m.\u001b[0m\u001b[0mfindall\u001b[0m\u001b[0;34m(\u001b[0m\u001b[0;34mr\"[\\w]+\"\u001b[0m\u001b[0;34m,\u001b[0m \u001b[0mx\u001b[0m\u001b[0;34m)\u001b[0m\u001b[0;34m[\u001b[0m\u001b[0;36m1\u001b[0m\u001b[0;34m]\u001b[0m\u001b[0;34m)\u001b[0m\u001b[0;34m\u001b[0m\u001b[0;34m\u001b[0m\u001b[0m\n\u001b[0m\u001b[1;32m      3\u001b[0m \u001b[0mdf_clean\u001b[0m\u001b[0;34m.\u001b[0m\u001b[0mtitle\u001b[0m\u001b[0;34m\u001b[0m\u001b[0;34m\u001b[0m\u001b[0m\n",
      "\u001b[0;31mNameError\u001b[0m: name 'dfClean' is not defined"
     ]
    }
   ],
   "source": [
    "import re\n",
    "df_clean['title'] = dfClean.name.apply(lambda x: re.findall(r\"[\\w]+\", x)[1])\n",
    "df_clean.title"
   ]
  },
  {
   "cell_type": "code",
   "execution_count": null,
   "metadata": {
    "id": "xpppXTAHwioC"
   },
   "outputs": [],
   "source": [
    "# Answers to T4\n",
    "# - Pclass     Ticket class \n",
    "# - SibSp      # of siblings/spouses aboard the Titanic\n",
    "# - Parch      # of parents / children aboard the Titanic"
   ]
  }
 ],
 "metadata": {
  "colab": {
   "collapsed_sections": [],
   "name": "DAT1-Practical6-Questions.ipynb",
   "provenance": []
  },
  "kernelspec": {
   "display_name": "Python 3",
   "language": "python",
   "name": "python3"
  },
  "language_info": {
   "codemirror_mode": {
    "name": "ipython",
    "version": 3
   },
   "file_extension": ".py",
   "mimetype": "text/x-python",
   "name": "python",
   "nbconvert_exporter": "python",
   "pygments_lexer": "ipython3",
   "version": "3.8.5"
  }
 },
 "nbformat": 4,
 "nbformat_minor": 1
}
