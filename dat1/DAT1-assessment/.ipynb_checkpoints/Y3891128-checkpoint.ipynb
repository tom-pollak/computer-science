{
 "cells": [
  {
   "cell_type": "markdown",
   "metadata": {},
   "source": [
    "## Question 1: Data Science Process (25 marks)\n",
    "\n",
    "EnergiseMe is a Yorkshire company which, since its establishment in 1974 in York, UK, produces and trades natural energy drinks in more than 50 countries worldwide. Compared to the typical energy drinks on the market (e.g., Monster, Red Bull), the products of EnergiseMe offer equivalent amounts of energy (hence providing mental and physical stimulation), but without the heaps of sugar, artificial sweeteners and colourings. Some of its most well-known products are LukoMade, Tiger Matcha and GojiBeri. \n",
    "\n",
    "EnergiseMe has produced a new natural energy drink named PowerHerb, whose main ingredients are Indian gooseberry, green coffee, and green tea. Initial tests carried out using a small number of tasters have shown promising results. Based on these results, EnergiseMe is considering to proceed with producing.\n",
    "\n",
    "During a planning meeting that involved key stakeholders of the company, including the heads of the Marketing and Customer Service departments, the lead of Product Design team, the head of the Product Line team, and, you, as the head of the Data Science team, the following opinions were raised:\n",
    "\n",
    "* \"Since we are a Yorkshire-based company, the launch of our new product PowerHerb should happen here in York. Doing this will give a boost to York's economy\".\n",
    "\n",
    "* \"As a company that produces natural energy drinks, we should produce a PowerHerb Zero Sugar and a PowerHerb with stevia (a natural sweetener). Each product's variant should come in two different flavours (e.g., berries and orange) to satisfy our customer base\".\n",
    "\n",
    "* \"Since Indian gooseberry is one of the main ingredients of PowerHerb and this ingredient is particularly famous in Asia, we should consider producing and selling PowerHerb in Asia too\".\n",
    "\n",
    "* \"Although Brexit has already taken place and additional taxes will be imposed on our products imported in certain European countries, we should not change our pricing policy and should keep the price of our new product at a maximum 10% higher than all our other products. Although we will have a smaller profit, PowerHerb would have more chance of penetrating the European market\".\n",
    "\n",
    "Despite these opinions looking plausible, the CEO of EnergiseMe has given you £20000 (as a budget) and one month to investigate these ideas and establish their validity by implementing a data science project.\n",
    "\n",
    "**(i)\t[20 marks]** Using no more than **three** sentences for each data science lifecycle step, describe how you would implement this project to provide conclusive answers regarding the validity of these ideas. You can use examples, fictional data or plots to explain your arguments. \n",
    "\n",
    "**(ii) [5 marks]** Provide details of **two** ethics-related concerns that should be considered when carrying out this data science project. Use no more than **two** sentences per ethical concern."
   ]
  },
  {
   "cell_type": "markdown",
   "metadata": {},
   "source": [
    "### (i)\n",
    "\n",
    "#### Identify Question\n",
    "\n",
    "- Launch new product PowerHerb in York\n",
    "    - Success: boost york local economy\n",
    "\n",
    "- Add new lines zero sugar, sweetener\n",
    "    - come with flavours: berries, orange\n",
    "    - Success: customers happy with new healthy options and flavours\n",
    "\n",
    "- Expand company to Asian markets (Indian gooseberry)\n",
    "    - Success: penetration in Asian market using Indian gooseberry ingredients\n",
    "\n",
    "- Should only increase price of new product by max 10% more than other products, despite higher costs\n",
    "    - Success: penertration of European market using lower prices\n",
    "    \n",
    "#### Data collection\n",
    "\n",
    "- Historical product sales by region (York, Asia, Europe)\n",
    "\n",
    "- Customer surveys on new products and flavours (also ingredients - Indian gooseberry)\n",
    "\n",
    "- Profit generated from each market (especially Europe with higher costs)\n",
    "\n",
    "- Prices of other competing drinks and customer satisfaction relative to competition (also by region)\n",
    "\n",
    "#### Data processing\n",
    "\n",
    "- Check surveys and customer interactions to make sure they provide complete data\n",
    "    - Format all user data into a easily readable format (e.g. csv)\n",
    "    - Large sample size with a range of demographics to get a fair consensus\n",
    "\n",
    "- Sort data by region to analyze\n",
    "\n",
    "#### Data exploration\n",
    "\n",
    "- \n",
    "\n",
    "#### Data modelling & analysis\n",
    "\n",
    "#### Data communication"
   ]
  },
  {
   "cell_type": "markdown",
   "metadata": {},
   "source": [
    "***"
   ]
  },
  {
   "cell_type": "markdown",
   "metadata": {},
   "source": [
    "## Question2: Data Analysis [25 marks]\n",
    "\n",
    "The Yorkshire BeeKeepers Association collects data for the honey produced by its members each year and the average price per kilo (KG) for which the honey was sold to distribution companies. This data is available in the file named \"honeyProduction.csv\".\n",
    "\n",
    "You should use the dataset named \"honeyProduction.csv\" and answer the following data questions using Python 3, Pandas, NumPy and Matplotlib."
   ]
  },
  {
   "cell_type": "markdown",
   "metadata": {},
   "source": [
    "**(i) [5 marks]** Compute measures of central tendency (mean, median) and dispersion (range, standard deviation.) Also, for each variable calculate its interquartile range. You **must** show your calculations. You **must not** use the describe() function of Pandas for the calculations but you **may** use it to check your results."
   ]
  },
  {
   "cell_type": "code",
   "execution_count": 1,
   "metadata": {},
   "outputs": [
    {
     "name": "stdout",
     "output_type": "stream",
     "text": [
      "Production mean: 1011.4815999999998 Price mean: 0.5932\n"
     ]
    }
   ],
   "source": [
    "import pandas as pd\n",
    "import numpy as np\n",
    "import matplotlib.pyplot as plt\n",
    "\n",
    "df = pd.read_csv('honeyProduction.csv')\n",
    "print(f\"Production mean: {df.Production.mean()} Price mean: {df.Price.mean()}\")"
   ]
  },
  {
   "cell_type": "code",
   "execution_count": 2,
   "metadata": {},
   "outputs": [
    {
     "name": "stdout",
     "output_type": "stream",
     "text": [
      "Production median: 1012.22 Price median: 0.59\n"
     ]
    }
   ],
   "source": [
    "print(f\"Production median: {df.Production.median()} Price median: {df.Price.median()}\")"
   ]
  },
  {
   "cell_type": "code",
   "execution_count": 3,
   "metadata": {},
   "outputs": [
    {
     "name": "stdout",
     "output_type": "stream",
     "text": [
      "Production range: 7.259999999999991 Price range: 0.49\n"
     ]
    }
   ],
   "source": [
    "print(f\"Production range: {max(df.Production) - min(df.Production)} Price range: {max(df.Price) - min(df.Price)}\")"
   ]
  },
  {
   "cell_type": "code",
   "execution_count": 4,
   "metadata": {},
   "outputs": [
    {
     "name": "stdout",
     "output_type": "stream",
     "text": [
      "Production std dev: 2.873799285498789 Price std dev: 0.15899999999999997\n"
     ]
    }
   ],
   "source": [
    "print(f\"Production std dev: {df.Production.std()} Price std dev: {df.Price.std()}\")"
   ]
  },
  {
   "cell_type": "code",
   "execution_count": 5,
   "metadata": {},
   "outputs": [
    {
     "name": "stdout",
     "output_type": "stream",
     "text": [
      "Production IQR: 5.8799999999999955 Price IQR: 0.25999999999999995\n"
     ]
    }
   ],
   "source": [
    "print(f\"Production IQR: {df.Production.quantile(.75) - df.Production.quantile(.25)} Price IQR: {df.Price.quantile(.75) - df.Price.quantile(.25)}\")"
   ]
  },
  {
   "cell_type": "markdown",
   "metadata": {},
   "source": [
    "**(ii) [2 marks]** Calculate the Pearson’s and Spearman's correlation coefficients between Production and Price."
   ]
  },
  {
   "cell_type": "code",
   "execution_count": 6,
   "metadata": {},
   "outputs": [
    {
     "name": "stdout",
     "output_type": "stream",
     "text": [
      "Pearson coefficient: 0.5526300346568886, Spearman coefficient: 0.5755536833252046\n"
     ]
    }
   ],
   "source": [
    "pear, spear = df.Production.corr(df.Price, method='pearson'), df.Production.corr(df.Price, method='spearman')\n",
    "print(f\"Pearson coefficient: {pear}, Spearman coefficient: {spear}\")"
   ]
  },
  {
   "cell_type": "markdown",
   "metadata": {},
   "source": [
    "**(iii) [3 marks]** Visualise the dataset as a scatter plot using the Matplotlib library in Python. The plot should be complemented with suitable axis legends and title."
   ]
  },
  {
   "cell_type": "code",
   "execution_count": 7,
   "metadata": {},
   "outputs": [
    {
     "data": {
      "image/png": "[encoded data removed]",
      "text/plain": [
       "<Figure size 432x288 with 1 Axes>"
      ]
     },
     "metadata": {
      "needs_background": "light"
     },
     "output_type": "display_data"
    }
   ],
   "source": [
    "X = df.Production.values.reshape(-1, 1)\n",
    "\n",
    "plt.title(\"Honey Price v Production\")\n",
    "plt.xlabel(\"Production\")\n",
    "plt.ylabel(\"Price (£)\")\n",
    "plt.scatter(X, df.Price)\n",
    "plt.show()"
   ]
  },
  {
   "cell_type": "markdown",
   "metadata": {},
   "source": [
    "**(iv) [5 marks]** Using Python and scikit-learn, generate the simple linear regression model for the dataset. Also, report the linear regression equation. Finally, plot the corresponding regression model on the scatter plot generated in (iii)."
   ]
  },
  {
   "cell_type": "code",
   "execution_count": 8,
   "metadata": {},
   "outputs": [
    {
     "data": {
      "image/png": "[encoded data removed]",
      "text/plain": [
       "<Figure size 432x288 with 1 Axes>"
      ]
     },
     "metadata": {
      "needs_background": "light"
     },
     "output_type": "display_data"
    }
   ],
   "source": [
    "from sklearn import linear_model\n",
    "\n",
    "reg = linear_model.LinearRegression().fit(X, df.Price)\n",
    "plt.plot(X, reg.predict(X))\n",
    "plt.scatter(X, df.Price)\n",
    "plt.show()"
   ]
  },
  {
   "cell_type": "markdown",
   "metadata": {},
   "source": [
    "**(v) [5 marks]** Using Python and scikit-learn, generate a polynomial linear regression model of degree 5 for the dataset. Also, plot the corresponding regression model on the scatter plot generated in (iii). Finally, predict the average price per KG (£) for a production of 1010 KG."
   ]
  },
  {
   "cell_type": "code",
   "execution_count": 9,
   "metadata": {},
   "outputs": [
    {
     "data": {
      "image/png": "[encoded data removed]",
      "text/plain": [
       "<Figure size 432x288 with 1 Axes>"
      ]
     },
     "metadata": {
      "needs_background": "light"
     },
     "output_type": "display_data"
    }
   ],
   "source": [
    "from sklearn.preprocessing import PolynomialFeatures\n",
    "\n",
    "poly = PolynomialFeatures(degree=5)\n",
    "_X = poly.fit_transform(X)\n",
    "pol_reg = linear_model.LinearRegression().fit(_X, df.Price)\n",
    "plt.scatter(X, df.Price)\n",
    "plt.plot(X, pol_reg.predict(_X))\n",
    "plt.show()"
   ]
  },
  {
   "cell_type": "markdown",
   "metadata": {},
   "source": [
    "**(vi) [5 marks]** Using Python and scikit-learn, calculate the Mean Absolute Error, Mean Square Error, and Root Mean Square Error both for the simple linear regression and polynomial regression models for the following list of production values - average price tuples:[(1010,0.45), (1011,0.36), (1012,0.39), (1013,0.53)]. In no more than two sentences, analyse the results and comment on the quality of the developed linear regression models.\n",
    "\n"
   ]
  },
  {
   "cell_type": "code",
   "execution_count": 10,
   "metadata": {},
   "outputs": [
    {
     "name": "stdout",
     "output_type": "stream",
     "text": [
      "Mean Absolute Error - Linear: 0.16126259128379783, Polynomial: 0.04387847602367402\n",
      "Mean Square Error - Linear: 0.029329104610203688, Polynomial: 0.0025596810050415846\n",
      "Root Mean Square Error - Linear: 0.17125742205873498, Polynomial: 0.0505932901187656\n"
     ]
    }
   ],
   "source": [
    "from sklearn import metrics\n",
    "\n",
    "test_data = [(1010,0.45), (1011,0.36), (1012,0.39), (1013,0.53)]\n",
    "price_data = [price for _, price in test_data]\n",
    "prod_data = np.array([prod for prod, _ in test_data]).reshape(-1, 1)\n",
    "\n",
    "lin_pred_data = reg.predict(prod_data)\n",
    "poly_pred_data = pol_reg.predict(poly.fit_transform(prod_data))\n",
    "\n",
    "print(f\"Mean Absolute Error - Linear: {metrics.mean_absolute_error(price_data, lin_pred_data)}, Polynomial: {metrics.mean_absolute_error(price_data, poly_pred_data)}\")\n",
    "print(f\"Mean Square Error - Linear: {metrics.mean_squared_error(price_data, lin_pred_data)}, Polynomial: {metrics.mean_squared_error(price_data, poly_pred_data)}\")\n",
    "print(f\"Root Mean Square Error - Linear: {metrics.mean_squared_error(price_data, lin_pred_data, squared=False)}, Polynomial: {metrics.mean_squared_error(price_data, poly_pred_data, squared=False)}\")"
   ]
  },
  {
   "cell_type": "markdown",
   "metadata": {},
   "source": [
    "***"
   ]
  },
  {
   "cell_type": "markdown",
   "metadata": {},
   "source": [
    "## Question 3: Data Processing  (25 marks)\n",
    "\n",
    "\n",
    "The Association of Tennis Professionals (ATP) is the governing body organising and managing a wide range of professional tennis tournaments including the four Grand Slams (i.e., Australian Open, French Open, Wimbledon UK, and US Open) and ATP and Masters Cups. \n",
    "\n",
    "In singles tennis matches, two players compete against each other over a number of sets. By winning his/her tennis matches, a player can proceed through the rounds and win the tournament. Each set comprises a sequence of games played with the service alternating between games, ending when the count of games won meets certain criteria. Typically, a player wins a set by winning at least six games and at least two games more than the opponent. Each set consists of a sequence of points played with the same player serving. A game is won by the first player to have won at least four points in total and at least two points more than the opponent. You can read more about the tennis rules at [https://en.wikipedia.org/wiki/Tennis#Manner_of_play](https://en.wikipedia.org/wiki/Tennis#Manner_of_play).\n",
    "\n",
    "DataVision has won a major contract with ATP. The main objective of this contract is to analyse the dataset for the tennis matches played in 2019 and 2020 and extract actionable knowledge the will help ATP to determine whether any changes are needed to the scheduling or structure of its various tournaments. \n",
    "\n",
    "As the head of the Data Science team at DataVision, your task is to guide your team in undertaking this data analysis task.\n",
    "\n",
    "You should use the dataset named \"tennis20192020.csv\" and answer the following data questions using Python 3, Pandas and Matplotlib."
   ]
  },
  {
   "cell_type": "markdown",
   "metadata": {},
   "source": [
    "**(i) [1 mark]** What are the dimensions of the dataset?"
   ]
  },
  {
   "cell_type": "code",
   "execution_count": 11,
   "metadata": {},
   "outputs": [
    {
     "data": {
      "text/plain": [
       "(3877, 19)"
      ]
     },
     "execution_count": 11,
     "metadata": {},
     "output_type": "execute_result"
    }
   ],
   "source": [
    "df = pd.read_csv('tennis20192020.csv')\n",
    "df.shape"
   ]
  },
  {
   "cell_type": "markdown",
   "metadata": {},
   "source": [
    "**(ii) [2 marks]** What does each column mean and what is its datatype?\n",
    "\n",
    "Note: We provide the names of some of these columns. You should complete the rest."
   ]
  },
  {
   "cell_type": "markdown",
   "metadata": {},
   "source": [
    "**Write your answer here**\n",
    "\n",
    "* **WPts**: ATP Entry points of the match winner as of the start of the tournament (Numerical - continuous)\n",
    "* **LPts**: ATP Entry points of the match loser as of the start of the tournament (Numerical - continuous)\n",
    "* **AvgW**: Average odds of match winner (Numerical - continuous)\n",
    "* **AvgL**: Average odds of match loser (Numerical - continuous)"
   ]
  },
  {
   "cell_type": "markdown",
   "metadata": {},
   "source": [
    "**(iii) [2 marks]** Remove the variables 'WPts' and 'LPts' which are irrelevant for data analysis. Print the new shape of the data frame."
   ]
  },
  {
   "cell_type": "code",
   "execution_count": 12,
   "metadata": {},
   "outputs": [
    {
     "data": {
      "text/plain": [
       "(3877, 17)"
      ]
     },
     "execution_count": 12,
     "metadata": {},
     "output_type": "execute_result"
    }
   ],
   "source": [
    "df.drop(columns=['WPts', 'LPts'], inplace=True)\n",
    "df.shape"
   ]
  },
  {
   "cell_type": "markdown",
   "metadata": {},
   "source": [
    "**(iv) [5 marks]** Is there any missing data? If yes, apply the most appropriate imputation strategy to handle the missing data and print the affected entries after imputation.\n",
    "\n",
    "* For each match in which the number of sets won by each player is missing, assume that the minimum number of sets was played for that match. \n",
    "* For each match in which the odds of match winner/loser is missing, use the average odds for that particular player across the entire dataset.\n"
   ]
  },
  {
   "cell_type": "code",
   "execution_count": 13,
   "metadata": {},
   "outputs": [
    {
     "data": {
      "text/plain": [
       "ATP           0\n",
       "Location      0\n",
       "Tournament    0\n",
       "Date          0\n",
       "Series        0\n",
       "Court         0\n",
       "Surface       0\n",
       "Round         0\n",
       "BestOf        0\n",
       "Winner        0\n",
       "Loser         0\n",
       "WRank         0\n",
       "LRank         0\n",
       "WSets         0\n",
       "LSets         0\n",
       "OddsW         0\n",
       "OddsL         0\n",
       "dtype: int64"
      ]
     },
     "execution_count": 13,
     "metadata": {},
     "output_type": "execute_result"
    }
   ],
   "source": [
    "sets = df.loc[df.WSets.isna(), ['WSets', 'LSets', 'BestOf']]\n",
    "sets.WSets = sets.BestOf // 2 + 1\n",
    "sets.LSets.fillna(0, inplace=True)\n",
    "df.update(sets)\n",
    "\n",
    "odds = df.loc[df.OddsW.isna(), ['Winner', 'Loser', 'OddsW', 'OddsL']]\n",
    "odds = odds.assign(OddsW = lambda x: df.query(\"Winner == @x.Winner.values[0]\")[\"OddsW\"].mean())\n",
    "odds = odds.assign(OddsL = lambda x: df.query(\"Loser == @x.Loser.values[0]\")[\"OddsL\"].mean())\n",
    "df.update(odds)\n",
    "\n",
    "df.isna().sum()"
   ]
  },
  {
   "cell_type": "markdown",
   "metadata": {},
   "source": [
    "**(v) [5 marks]** \n",
    "When Novak Djokovic and Rafael Nadal participated in tournaments, how many matches has each won each against the top 10 best players of the tournament? How many of these have been in the final?\n"
   ]
  },
  {
   "cell_type": "code",
   "execution_count": 14,
   "metadata": {},
   "outputs": [
    {
     "name": "stdout",
     "output_type": "stream",
     "text": [
      "Djokovic has won 15 games against players ranked in the top 10. 5 of those were finals\n",
      "Nadal has won 10 games against players ranked in the top 10. 5 of those were finals\n"
     ]
    }
   ],
   "source": [
    "djokovic = df.query(\"Winner == 'Djokovic N.' & LRank <= 10\")\n",
    "djokovic_final = djokovic.query(\"Round == 'The Final'\")\n",
    "\n",
    "nadal = df.query(\"Winner == 'Nadal R.' & LRank <= 10\")\n",
    "nadal_final = nadal.query(\"Round == 'The Final'\")\n",
    "\n",
    "print(f\"Djokovic has won {djokovic.shape[0]} games against players ranked in the top 10. {djokovic_final.shape[0]} of those were finals\")\n",
    "print(f\"Nadal has won {nadal.shape[0]} games against players ranked in the top 10. {nadal_final.shape[0]} of those were finals\")"
   ]
  },
  {
   "cell_type": "markdown",
   "metadata": {},
   "source": [
    "**(vi) [3 marks]** \n",
    "Which tennis players have won at least 4 titles?"
   ]
  },
  {
   "cell_type": "code",
   "execution_count": 15,
   "metadata": {},
   "outputs": [
    {
     "data": {
      "text/plain": [
       "Winner\n",
       "Djokovic N.    9\n",
       "Federer R.     4\n",
       "Garin C.       4\n",
       "Medvedev D.    6\n",
       "Nadal R.       6\n",
       "Rublev A.      6\n",
       "Thiem D.       6\n",
       "dtype: int64"
      ]
     },
     "execution_count": 15,
     "metadata": {},
     "output_type": "execute_result"
    }
   ],
   "source": [
    "num_wins = df.query(\"Round == 'The Final'\").groupby(\"Winner\").size()\n",
    "num_wins[num_wins >= 4]"
   ]
  },
  {
   "cell_type": "markdown",
   "metadata": {},
   "source": [
    "**(vii) [4 marks]** \n",
    "What percentage of ATP250 and ATP500 matches were won by an outsider player (i.e., a player with higher odds than his/her opponent's)?"
   ]
  },
  {
   "cell_type": "code",
   "execution_count": 16,
   "metadata": {},
   "outputs": [
    {
     "data": {
      "text/plain": [
       "740"
      ]
     },
     "execution_count": 16,
     "metadata": {},
     "output_type": "execute_result"
    }
   ],
   "source": [
    "df.query(\"(Series =='ATP250' | Series == 'ATP500') & OddsL < OddsW\").shape[0]"
   ]
  },
  {
   "cell_type": "markdown",
   "metadata": {},
   "source": [
    "**(vii) [3 marks]** \n",
    "\n",
    "For each series in the dataset, how many matches were played in each surface type available in indoor and outdoor courts?\n",
    "You can answer this question using either the 'groupby' or 'pivot' commands.\n"
   ]
  },
  {
   "cell_type": "code",
   "execution_count": 17,
   "metadata": {},
   "outputs": [
    {
     "data": {
      "text/plain": [
       "Series        Court  \n",
       "ATP250        Indoor      544\n",
       "              Outdoor    1062\n",
       "ATP500        Indoor      155\n",
       "              Outdoor     466\n",
       "Grand Slam    Outdoor     889\n",
       "Masters 1000  Indoor      102\n",
       "              Outdoor     629\n",
       "Masters Cup   Indoor       30\n",
       "dtype: int64"
      ]
     },
     "execution_count": 17,
     "metadata": {},
     "output_type": "execute_result"
    }
   ],
   "source": [
    "df.groupby([\"Series\", \"Court\"]).size()"
   ]
  },
  {
   "cell_type": "markdown",
   "metadata": {},
   "source": [
    "***"
   ]
  },
  {
   "cell_type": "markdown",
   "metadata": {},
   "source": [
    "## Question 4: Hypothesis Testing  (25 marks)"
   ]
  },
  {
   "cell_type": "markdown",
   "metadata": {},
   "source": [
    "The service team at the Golden Lion restaurant in York collects the tips given by their customers and puts them in a common safe place. At the end of every week, the total amount is split equally between members of the service team. Recently, the team started recording information about the tips received, including the total bill, the gender of the bill payer and the number of customers served per order.\n",
    "\n",
    "The service team is interested in analysing this dataset and identifying whether there are factors that affect the amount of tips they receive. To this end, DataVision has been tasked to help and provide their insights.\n",
    "\n",
    "You should use the dataset named \"goldenLionTips.csv\" and answer the following data questions using Python 3, Pandas, Matplotlib and Scipy."
   ]
  },
  {
   "cell_type": "markdown",
   "metadata": {},
   "source": [
    "**(i) [2 marks]** The service team believes that customers give a higher tip when they come for dinner rather than lunch. State the Null and Alternative hypotheses that DataVision would need to test to evaluate this situation."
   ]
  },
  {
   "cell_type": "markdown",
   "metadata": {},
   "source": [
    "H0: No difference in tip size between dinner and lunch  \n",
    "H1: Customers give a higher tip at dinner rather than lunch"
   ]
  },
  {
   "cell_type": "markdown",
   "metadata": {},
   "source": [
    "**(ii) [4 marks]** Execute the appropriate test and report the result. You must show your calculations, i.e., calculate the result analytically, but you may use the Scipy library to check your results."
   ]
  },
  {
   "cell_type": "code",
   "execution_count": 18,
   "metadata": {},
   "outputs": [
    {
     "data": {
      "text/plain": [
       "1.9062569301202392"
      ]
     },
     "execution_count": 18,
     "metadata": {},
     "output_type": "execute_result"
    }
   ],
   "source": [
    "from scipy import stats\n",
    "\n",
    "def calc_t_stat(x1, x2):\n",
    "    sp  = ( (x1.shape[0] - 1) * x1.std() ** 2 + (x2.shape[0] - 1) * x2.std() ** 2 ) / (x1.shape[0] + x2.shape[0] - 2)\n",
    "    return abs(x1.mean() - x2.mean()) / np.sqrt( (sp / x1.shape[0]) + (sp / x2.shape[0]) )\n",
    "\n",
    "df = pd.read_csv('goldenLionTips.csv')\n",
    "\n",
    "dinner_tip = df.query(\"timeServed == 'Dinner'\").tip\n",
    "lunch_tip = df.query(\"timeServed == 'Lunch'\").tip\n",
    "t = calc_t_stat(dinner_tip, lunch_tip)\n",
    "t"
   ]
  },
  {
   "cell_type": "markdown",
   "metadata": {},
   "source": [
    "**(iii) [2 marks]** Draw appropriate conclusions making explicit reference to the critical value for a significance level α=0.05."
   ]
  },
  {
   "cell_type": "code",
   "execution_count": 19,
   "metadata": {},
   "outputs": [
    {
     "name": "stdout",
     "output_type": "stream",
     "text": [
      "t-statistic: 1.9062569301202392, critical value: 1.6511745136069909\n",
      "As t-stat is greater than the critical value, we have sufficient evidence to reject H0\n"
     ]
    }
   ],
   "source": [
    "alpha = 0.05\n",
    "t_crit = stats.t.ppf(1 - alpha, df=(dinner_tip.shape[0] + lunch_tip.shape[0] - 2))\n",
    "\n",
    "print(f\"t-statistic: {t}, critical value: {t_crit}\")\n",
    "print(f\"As t-stat is greater than the critical value, we have sufficient evidence to reject H0\")"
   ]
  },
  {
   "cell_type": "markdown",
   "metadata": {},
   "source": [
    "**(iv) [5 marks]** The team has observed that a different amount of tip is given depending on the number of customers served per order (group size). To analyse this hypothesis, DataVision partitions the orders into 'small' orders, i.e., involving up to 2 customers, 'medium' orders, i.e., with 3 or 4 customers, and 'large' orders, with 5 or more customers.\n",
    "\n",
    "Perform the appropriate test to evaluate the hypotheses for significance level 𝛼=0.05 . You must show your calculations, i.e., calculate the result analytically, but you may use the Scipy library to check your results."
   ]
  },
  {
   "cell_type": "code",
   "execution_count": 20,
   "metadata": {},
   "outputs": [
    {
     "name": "stdout",
     "output_type": "stream",
     "text": [
      "small - medium: t-stat: 6.995653053021811 critical value: 1.970197598971455\n",
      "small - large: t-stat: 5.783752429143611 critical value: 1.9742709570223844\n",
      "medium - large: t-stat: 1.4123159497677953 critical value: 1.9893185569368186\n",
      "\n",
      "For a significance level of 5%, we have found suffiecient evidence to reject H0 between:\n",
      "    - small and medium groups\n",
      "    - small and large groups\n",
      "As t-statistic is larger than the critical value.\n",
      "\n"
     ]
    }
   ],
   "source": [
    "# H0: No difference in tip size for different sized groups\n",
    "# H1: There is a difference in tip sizes for different sized groups\n",
    "\n",
    "alpha = 0.05\n",
    "small_orders = df.query(\"customersServed < 3\").tip\n",
    "med_orders = df.query(\"3 <= customersServed < 5\").tip\n",
    "large_orders = df.query(\"customersServed >= 5\").tip\n",
    "\n",
    "tests = [(\"small\", \"medium\"), (\"small\", \"large\"), (\"medium\", \"large\")]\n",
    "\n",
    "tstats = [\n",
    "    calc_t_stat(small_orders, med_orders),\n",
    "    calc_t_stat(small_orders, large_orders), \n",
    "    calc_t_stat(med_orders, large_orders)\n",
    "]\n",
    "crit_vals = [\n",
    "    stats.t.ppf(1 - alpha/2, df=(small_orders.shape[0] + med_orders.shape[0] - 2)),\n",
    "    stats.t.ppf(1 - alpha/2, df=(small_orders.shape[0] + large_orders.shape[0] - 2)),\n",
    "    stats.t.ppf(1 - alpha/2, df=(med_orders.shape[0] + large_orders.shape[0] - 2))\n",
    "]\n",
    "\n",
    "for names, t, crit in zip(tests, tstats, crit_vals):\n",
    "    print(f\"{names[0]} - {names[1]}: t-stat: {t} critical value: {crit}\")\n",
    "print(\n",
    "    \"\"\"\\nFor a significance level of 5%, we have found suffiecient evidence to reject H0 between:\n",
    "    - small and medium groups\n",
    "    - small and large groups\n",
    "As t-statistic is larger than the critical value.\n",
    "\"\"\")"
   ]
  },
  {
   "cell_type": "markdown",
   "metadata": {},
   "source": [
    "**(v) [4 marks]** Plot the distributions for the 'small', 'medium' and 'large' orders."
   ]
  },
  {
   "cell_type": "code",
   "execution_count": 21,
   "metadata": {},
   "outputs": [
    {
     "data": {
      "image/png": "[encoded data removed]",
      "text/plain": [
       "<Figure size 432x288 with 1 Axes>"
      ]
     },
     "metadata": {
      "needs_background": "light"
     },
     "output_type": "display_data"
    }
   ],
   "source": [
    "bins = np.linspace(1, 6, 15)\n",
    "plt.hist(small_orders, bins=bins, label=\"small\")\n",
    "plt.hist(med_orders, bins=bins,  label=\"medium\")\n",
    "plt.hist(large_orders, bins=bins,  label=\"large\")\n",
    "plt.legend()\n",
    "plt.xlabel(\"Tip (£)\")\n",
    "plt.show()"
   ]
  },
  {
   "cell_type": "markdown",
   "metadata": {},
   "source": [
    "**(vi) [3 marks]** Execute a post hoc analysis using the Bonferroni correction to identify the pairs which exhibit statistically significant difference."
   ]
  },
  {
   "cell_type": "code",
   "execution_count": null,
   "metadata": {},
   "outputs": [],
   "source": []
  },
  {
   "cell_type": "markdown",
   "metadata": {},
   "source": [
    "**(vii) [3 marks]** Which entries may be reported as outliers using the IQR outlier detection method?\n"
   ]
  },
  {
   "cell_type": "code",
   "execution_count": 22,
   "metadata": {},
   "outputs": [],
   "source": [
    "#Write your answer here\n"
   ]
  },
  {
   "cell_type": "markdown",
   "metadata": {},
   "source": [
    "**(viii) [2 marks]** Produce a boxplot to confirm the findings from (vii).\n"
   ]
  },
  {
   "cell_type": "code",
   "execution_count": 23,
   "metadata": {},
   "outputs": [],
   "source": [
    "#Write your answer here\n"
   ]
  }
 ],
 "metadata": {
  "kernelspec": {
   "display_name": "Python 3",
   "language": "python",
   "name": "python3"
  },
  "language_info": {
   "codemirror_mode": {
    "name": "ipython",
    "version": 3
   },
   "file_extension": ".py",
   "mimetype": "text/x-python",
   "name": "python",
   "nbconvert_exporter": "python",
   "pygments_lexer": "ipython3",
   "version": "3.8.5"
  }
 },
 "nbformat": 4,
 "nbformat_minor": 4
}
