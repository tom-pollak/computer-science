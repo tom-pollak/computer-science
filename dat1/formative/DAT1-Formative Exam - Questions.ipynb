{
 "cells": [
  {
   "cell_type": "markdown",
   "metadata": {
    "id": "-_fCqP290B3-"
   },
   "source": [
    "# DATA 1 Formative Exam\n",
    "\n",
    "Simos Gerasimou\n",
    "\n",
    "\n",
    "### **Time Allowed:**\n",
    "Twenty-Four (24) hours\n",
    "\n",
    "### **Allocation of Marks:**\n",
    "The exam consists of four (4) questions and each question is worth 25 marks.\n",
    "\n",
    "### **Instructions:**\n",
    "Candidates should answer all questions using Jupyter Notebooks running Python 3. Failing to do so will result in a mark of 0%. All questions are independent and can be answered in any order. Specific questions have strict limits on the length of your answers; text exceeding the limit will not be marked.\n",
    "\n",
    "***"
   ]
  },
  {
   "cell_type": "markdown",
   "metadata": {
    "deletable": false,
    "editable": false,
    "id": "WaL6j_TO0B4H",
    "run_control": {
     "frozen": true
    }
   },
   "source": [
    "### **Question 1: Data Analysis (25 marks)**\n",
    "\n",
    "YorkBus, as the name suggests, is a bus company operating in Noth Yorkshire. Given the increasing fuel prices and the uncertainty in income due to the CoronaVirus, the company is interested in analysing, among others, the expenses it would incur if all services continue running normally. To do this analysis, YorkBus asked DataVision to help. \n",
    "\n",
    "You should load the dataset named \"yorkBus.csv\" and answer the following data questions using Python 3, Pandas and Matplotlib.\n"
   ]
  },
  {
   "cell_type": "markdown",
   "metadata": {
    "id": "0NZ7jAiy0B4I"
   },
   "source": [
    "**(i) [2 marks]** Which is the independent and which is the dependent variable?¶"
   ]
  },
  {
   "cell_type": "code",
   "execution_count": 1,
   "metadata": {
    "id": "yUQaSJkf0qD4"
   },
   "outputs": [
    {
     "data": {
      "text/plain": [
       "Index(['Period', 'Cost', 'Miles'], dtype='object')"
      ]
     },
     "execution_count": 1,
     "metadata": {},
     "output_type": "execute_result"
    }
   ],
   "source": [
    "import math\n",
    "import pandas as pd\n",
    "import numpy as np\n",
    "import matplotlib.pyplot as plt\n",
    "import scipy.stats as stats\n",
    "from sklearn.linear_model import LinearRegression\n",
    "\n",
    "\n",
    "df = pd.read_csv('yorkBus.csv')\n",
    "df.columns\n",
    "# miles is independant cost is dependant"
   ]
  },
  {
   "cell_type": "markdown",
   "metadata": {
    "id": "XluDgNFW0B4K"
   },
   "source": [
    "**(ii) [4 marks]** Calculate the Pearson correlation coefficient. You must show your calculations, i.e., calculate the result analytically, but you may use the appropriate scipy or numpy method to check your result."
   ]
  },
  {
   "cell_type": "code",
   "execution_count": 2,
   "metadata": {
    "executionInfo": {
     "elapsed": 429,
     "status": "ok",
     "timestamp": 1616280585524,
     "user": {
      "displayName": "Simos Gerasimou",
      "photoUrl": "https://lh3.googleusercontent.com/a-/AOh14GiyuWEDBGgnFKbsa3BAO5bWW-MwC5_V7MnUQz5JiA=s64",
      "userId": "13902192774339425778"
     },
     "user_tz": 0
    },
    "id": "B2-NvRnz0B4M"
   },
   "outputs": [
    {
     "data": {
      "text/plain": [
       "0.9728495502470614"
      ]
     },
     "execution_count": 2,
     "metadata": {},
     "output_type": "execute_result"
    }
   ],
   "source": [
    "x = df.Miles\n",
    "y = df.Cost\n",
    "sum( (x - x.mean()) * (y - y.mean()) ) / math.sqrt( sum((x - x.mean())**2) * sum( (y - y.mean())**2 ))"
   ]
  },
  {
   "cell_type": "markdown",
   "metadata": {
    "id": "OoVc994g0B4N"
   },
   "source": [
    "**(iii) [2 marks]**\n",
    "What do you think of the correlation between these two variables? What do you expect the linear regression model to be?"
   ]
  },
  {
   "cell_type": "markdown",
   "metadata": {
    "executionInfo": {
     "elapsed": 437,
     "status": "ok",
     "timestamp": 1616280640641,
     "user": {
      "displayName": "Simos Gerasimou",
      "photoUrl": "https://lh3.googleusercontent.com/a-/AOh14GiyuWEDBGgnFKbsa3BAO5bWW-MwC5_V7MnUQz5JiA=s64",
      "userId": "13902192774339425778"
     },
     "user_tz": 0
    },
    "id": "ksMh64FH1J_3"
   },
   "source": [
    "extremely strong positive correlation between the two variables, I expect the linear regression to fit almost all the plots extremely closely"
   ]
  },
  {
   "cell_type": "markdown",
   "metadata": {
    "id": "4OoQ_75h0B4P"
   },
   "source": [
    "**(iv) [3 marks]**\n",
    "Using Python and scikit-learn, train a simple linear regression model for this data"
   ]
  },
  {
   "cell_type": "code",
   "execution_count": 3,
   "metadata": {
    "executionInfo": {
     "elapsed": 415,
     "status": "ok",
     "timestamp": 1616280642690,
     "user": {
      "displayName": "Simos Gerasimou",
      "photoUrl": "https://lh3.googleusercontent.com/a-/AOh14GiyuWEDBGgnFKbsa3BAO5bWW-MwC5_V7MnUQz5JiA=s64",
      "userId": "13902192774339425778"
     },
     "user_tz": 0
    },
    "id": "D3iLh75c0B4P"
   },
   "outputs": [],
   "source": [
    "X = df.Miles.values.reshape(-1, 1)\n",
    "y = df.Cost\n",
    "reg = LinearRegression().fit(X, y)"
   ]
  },
  {
   "cell_type": "markdown",
   "metadata": {
    "id": "Kawop5Q_0B4R"
   },
   "source": [
    "**(v) [3 marks]**\n",
    "Report the regression and intercept coefficients of this linear regression model. Report also the final form of the linear regression equation"
   ]
  },
  {
   "cell_type": "code",
   "execution_count": 4,
   "metadata": {
    "executionInfo": {
     "elapsed": 456,
     "status": "ok",
     "timestamp": 1616280711293,
     "user": {
      "displayName": "Simos Gerasimou",
      "photoUrl": "https://lh3.googleusercontent.com/a-/AOh14GiyuWEDBGgnFKbsa3BAO5bWW-MwC5_V7MnUQz5JiA=s64",
      "userId": "13902192774339425778"
     },
     "user_tz": 0
    },
    "id": "EH9Zb4330B4S"
   },
   "outputs": [
    {
     "name": "stdout",
     "output_type": "stream",
     "text": [
      "Regression coeffiecent: 0.04467295857709487, Intercept: 6496.3277278758\n"
     ]
    }
   ],
   "source": [
    "print(f\"Regression coeffiecent: {reg.coef_[0]}, Intercept: {reg.intercept_}\")"
   ]
  },
  {
   "cell_type": "markdown",
   "metadata": {
    "id": "qZW2OhZL0B4S"
   },
   "source": [
    "**(vi) [4 marks]**\n",
    "Calculate the goodness of fit  𝑅2 . You must show your calculations, i.e., calculate the result analytically, but you may use the appropriate sklearn method to check your result."
   ]
  },
  {
   "cell_type": "code",
   "execution_count": 5,
   "metadata": {
    "executionInfo": {
     "elapsed": 450,
     "status": "ok",
     "timestamp": 1616280746136,
     "user": {
      "displayName": "Simos Gerasimou",
      "photoUrl": "https://lh3.googleusercontent.com/a-/AOh14GiyuWEDBGgnFKbsa3BAO5bWW-MwC5_V7MnUQz5JiA=s64",
      "userId": "13902192774339425778"
     },
     "user_tz": 0
    },
    "id": "vY6-cvF90B4S"
   },
   "outputs": [
    {
     "data": {
      "text/plain": [
       "0.9464362474159097"
      ]
     },
     "execution_count": 5,
     "metadata": {},
     "output_type": "execute_result"
    }
   ],
   "source": [
    "f = lambda x: reg.coef_[0] * x + reg.intercept_\n",
    "rss = sum( (y - f(x))**2 )\n",
    "tss = sum( (y - y.mean())**2 )\n",
    "\n",
    "1 - rss/tss"
   ]
  },
  {
   "cell_type": "markdown",
   "metadata": {
    "id": "1u1o4nPt0B4T"
   },
   "source": [
    "**(vii) [5 marks]**\n",
    "Plot a scatter plot and the linear regression model. Does the plot confirm the results obtained in the previous questions? "
   ]
  },
  {
   "cell_type": "code",
   "execution_count": 6,
   "metadata": {
    "executionInfo": {
     "elapsed": 440,
     "status": "ok",
     "timestamp": 1616280749272,
     "user": {
      "displayName": "Simos Gerasimou",
      "photoUrl": "https://lh3.googleusercontent.com/a-/AOh14GiyuWEDBGgnFKbsa3BAO5bWW-MwC5_V7MnUQz5JiA=s64",
      "userId": "13902192774339425778"
     },
     "user_tz": 0
    },
    "id": "S_rGPQZN0B4T"
   },
   "outputs": [
    {
     "data": {
      "image/png": "[encoded data removed]",
      "text/plain": [
       "<Figure size 432x288 with 1 Axes>"
      ]
     },
     "metadata": {
      "needs_background": "light"
     },
     "output_type": "display_data"
    },
    {
     "name": "stdout",
     "output_type": "stream",
     "text": [
      "Yes the graph shows and extremely strong positive correleation, with only 1 outlier value\n"
     ]
    }
   ],
   "source": [
    "plt.scatter(x, y)\n",
    "plt.plot(X, reg.predict(X), 'r')\n",
    "plt.show()\n",
    "print('Yes the graph shows and extremely strong positive correleation, with only 1 outlier value')"
   ]
  },
  {
   "cell_type": "markdown",
   "metadata": {
    "id": "RykpnLq_0B4T"
   },
   "source": [
    "**(viii) [2 marks]**\n",
    "Calculate the approximate cost of a bus that has travelled 375000 miles over a single period"
   ]
  },
  {
   "cell_type": "code",
   "execution_count": 7,
   "metadata": {
    "executionInfo": {
     "elapsed": 556,
     "status": "ok",
     "timestamp": 1616280779401,
     "user": {
      "displayName": "Simos Gerasimou",
      "photoUrl": "https://lh3.googleusercontent.com/a-/AOh14GiyuWEDBGgnFKbsa3BAO5bWW-MwC5_V7MnUQz5JiA=s64",
      "userId": "13902192774339425778"
     },
     "user_tz": 0
    },
    "id": "t_AULX3s0B4T"
   },
   "outputs": [
    {
     "data": {
      "text/plain": [
       "23248.687194286376"
      ]
     },
     "execution_count": 7,
     "metadata": {},
     "output_type": "execute_result"
    }
   ],
   "source": [
    "reg.predict([[375000]])[0]"
   ]
  },
  {
   "cell_type": "markdown",
   "metadata": {
    "id": "7w4kxdZ90B4U"
   },
   "source": [
    "---"
   ]
  },
  {
   "cell_type": "markdown",
   "metadata": {
    "deletable": false,
    "editable": false,
    "id": "CUDa6oWO0B4U",
    "run_control": {
     "frozen": true
    }
   },
   "source": [
    "### **Question 2: Data Processing (25 marks)**\n",
    "\n",
    "Netflix is a media-services provider and production company. The company's primary business is its subscription-based streaming service which offers online streaming of a library of films and television programs, including those produced in-house.\n",
    "\n",
    "DataVision has been recruited to analyse the data about TV shows and movies available on Netflix.\n",
    "\n",
    "\n",
    "You should use the dataset named \"netflix.csv\" and answer the following data questions using Python 3, Pandas and Matplotlib."
   ]
  },
  {
   "cell_type": "markdown",
   "metadata": {
    "deletable": false,
    "editable": false,
    "id": "fGKHflyC0B4U",
    "run_control": {
     "frozen": true
    }
   },
   "source": [
    "**(i) [2 marks]**\n",
    "What is the shape of the dataset?"
   ]
  },
  {
   "cell_type": "code",
   "execution_count": 32,
   "metadata": {
    "executionInfo": {
     "elapsed": 401,
     "status": "ok",
     "timestamp": 1616280851584,
     "user": {
      "displayName": "Simos Gerasimou",
      "photoUrl": "https://lh3.googleusercontent.com/a-/AOh14GiyuWEDBGgnFKbsa3BAO5bWW-MwC5_V7MnUQz5JiA=s64",
      "userId": "13902192774339425778"
     },
     "user_tz": 0
    },
    "id": "Ha0Ym8nS0B4V"
   },
   "outputs": [
    {
     "data": {
      "text/plain": [
       "(6234, 12)"
      ]
     },
     "execution_count": 32,
     "metadata": {},
     "output_type": "execute_result"
    }
   ],
   "source": [
    "df = pd.read_csv('netflix.csv')\n",
    "df.shape"
   ]
  },
  {
   "cell_type": "markdown",
   "metadata": {
    "deletable": false,
    "editable": false,
    "id": "jqZHqY5E0B4W",
    "run_control": {
     "frozen": true
    }
   },
   "source": [
    "**(ii) [3 marks]**\n",
    "What does each column mean and which is its datatype?"
   ]
  },
  {
   "cell_type": "markdown",
   "metadata": {
    "executionInfo": {
     "elapsed": 452,
     "status": "ok",
     "timestamp": 1616280891869,
     "user": {
      "displayName": "Simos Gerasimou",
      "photoUrl": "https://lh3.googleusercontent.com/a-/AOh14GiyuWEDBGgnFKbsa3BAO5bWW-MwC5_V7MnUQz5JiA=s64",
      "userId": "13902192774339425778"
     },
     "user_tz": 0
    },
    "id": "gztX_PD40B4W"
   },
   "source": [
    "- show_id: id of show in database (int64)\n",
    "- type: whether the show is a movie or a tv show (object)\n",
    "- title: shows title (object)\n",
    "- director: name of show director (object)\n",
    "- cast: main character cast in show (object)\n",
    "- country: the country the show takes place in (object)\n",
    "- date_added: the date the show was added to netflix (object)\n",
    "- release_year: the year the show was released (int64)\n",
    "- rating: show rating to advise the suitability of watching for different ages (object)\n",
    "- duration: the length of the movie or seasons of TV show (object)\n",
    "- listed_in: the catergories the show is in e.g comedy, children & family (object)\n",
    "- description: description of show (object)"
   ]
  },
  {
   "cell_type": "markdown",
   "metadata": {
    "deletable": false,
    "editable": false,
    "id": "ElwUnWT20B4X",
    "run_control": {
     "frozen": true
    }
   },
   "source": [
    "**(iii) [2 marks]**\n",
    "Is there any missing data? Show the number of missing data per column."
   ]
  },
  {
   "cell_type": "code",
   "execution_count": 9,
   "metadata": {
    "executionInfo": {
     "elapsed": 418,
     "status": "ok",
     "timestamp": 1616280911866,
     "user": {
      "displayName": "Simos Gerasimou",
      "photoUrl": "https://lh3.googleusercontent.com/a-/AOh14GiyuWEDBGgnFKbsa3BAO5bWW-MwC5_V7MnUQz5JiA=s64",
      "userId": "13902192774339425778"
     },
     "user_tz": 0
    },
    "id": "rL4SVxoO0B4X"
   },
   "outputs": [
    {
     "data": {
      "text/plain": [
       "show_id            0\n",
       "type               0\n",
       "title              0\n",
       "director        1969\n",
       "cast             570\n",
       "country          476\n",
       "date_added        11\n",
       "release_year       0\n",
       "rating            10\n",
       "duration           0\n",
       "listed_in          0\n",
       "description        0\n",
       "dtype: int64"
      ]
     },
     "execution_count": 9,
     "metadata": {},
     "output_type": "execute_result"
    }
   ],
   "source": [
    "df.isna().sum()"
   ]
  },
  {
   "cell_type": "markdown",
   "metadata": {
    "deletable": false,
    "editable": false,
    "id": "2hv_MI500B4Y",
    "run_control": {
     "frozen": true
    }
   },
   "source": [
    "**(iv) [3 marks]**\n",
    "DataVision's policy is to remove any column of which more than 5% of the data is missing. Remove the appropriate columns. "
   ]
  },
  {
   "cell_type": "code",
   "execution_count": 10,
   "metadata": {
    "executionInfo": {
     "elapsed": 440,
     "status": "ok",
     "timestamp": 1616280913616,
     "user": {
      "displayName": "Simos Gerasimou",
      "photoUrl": "https://lh3.googleusercontent.com/a-/AOh14GiyuWEDBGgnFKbsa3BAO5bWW-MwC5_V7MnUQz5JiA=s64",
      "userId": "13902192774339425778"
     },
     "user_tz": 0
    },
    "id": "xsoT6v710B4Y"
   },
   "outputs": [
    {
     "data": {
      "text/html": [
       "<div>\n",
       "<style scoped>\n",
       "    .dataframe tbody tr th:only-of-type {\n",
       "        vertical-align: middle;\n",
       "    }\n",
       "\n",
       "    .dataframe tbody tr th {\n",
       "        vertical-align: top;\n",
       "    }\n",
       "\n",
       "    .dataframe thead th {\n",
       "        text-align: right;\n",
       "    }\n",
       "</style>\n",
       "<table border=\"1\" class=\"dataframe\">\n",
       "  <thead>\n",
       "    <tr style=\"text-align: right;\">\n",
       "      <th></th>\n",
       "      <th>show_id</th>\n",
       "      <th>type</th>\n",
       "      <th>title</th>\n",
       "      <th>date_added</th>\n",
       "      <th>release_year</th>\n",
       "      <th>rating</th>\n",
       "      <th>duration</th>\n",
       "      <th>listed_in</th>\n",
       "      <th>description</th>\n",
       "    </tr>\n",
       "  </thead>\n",
       "  <tbody>\n",
       "    <tr>\n",
       "      <th>0</th>\n",
       "      <td>81145628</td>\n",
       "      <td>Movie</td>\n",
       "      <td>Norm of the North: King Sized Adventure</td>\n",
       "      <td>September 9, 2019</td>\n",
       "      <td>2019</td>\n",
       "      <td>TV-PG</td>\n",
       "      <td>90 min</td>\n",
       "      <td>Children &amp; Family Movies, Comedies</td>\n",
       "      <td>Before planning an awesome wedding for his gra...</td>\n",
       "    </tr>\n",
       "    <tr>\n",
       "      <th>1</th>\n",
       "      <td>80117401</td>\n",
       "      <td>Movie</td>\n",
       "      <td>Jandino: Whatever it Takes</td>\n",
       "      <td>September 9, 2016</td>\n",
       "      <td>2016</td>\n",
       "      <td>TV-MA</td>\n",
       "      <td>94 min</td>\n",
       "      <td>Stand-Up Comedy</td>\n",
       "      <td>Jandino Asporaat riffs on the challenges of ra...</td>\n",
       "    </tr>\n",
       "    <tr>\n",
       "      <th>2</th>\n",
       "      <td>70234439</td>\n",
       "      <td>TV Show</td>\n",
       "      <td>Transformers Prime</td>\n",
       "      <td>September 8, 2018</td>\n",
       "      <td>2013</td>\n",
       "      <td>TV-Y7-FV</td>\n",
       "      <td>1 Season</td>\n",
       "      <td>Kids' TV</td>\n",
       "      <td>With the help of three human allies, the Autob...</td>\n",
       "    </tr>\n",
       "    <tr>\n",
       "      <th>3</th>\n",
       "      <td>80058654</td>\n",
       "      <td>TV Show</td>\n",
       "      <td>Transformers: Robots in Disguise</td>\n",
       "      <td>September 8, 2018</td>\n",
       "      <td>2016</td>\n",
       "      <td>TV-Y7</td>\n",
       "      <td>1 Season</td>\n",
       "      <td>Kids' TV</td>\n",
       "      <td>When a prison ship crash unleashes hundreds of...</td>\n",
       "    </tr>\n",
       "    <tr>\n",
       "      <th>4</th>\n",
       "      <td>80125979</td>\n",
       "      <td>Movie</td>\n",
       "      <td>#realityhigh</td>\n",
       "      <td>September 8, 2017</td>\n",
       "      <td>2017</td>\n",
       "      <td>TV-14</td>\n",
       "      <td>99 min</td>\n",
       "      <td>Comedies</td>\n",
       "      <td>When nerdy high schooler Dani finally attracts...</td>\n",
       "    </tr>\n",
       "    <tr>\n",
       "      <th>...</th>\n",
       "      <td>...</td>\n",
       "      <td>...</td>\n",
       "      <td>...</td>\n",
       "      <td>...</td>\n",
       "      <td>...</td>\n",
       "      <td>...</td>\n",
       "      <td>...</td>\n",
       "      <td>...</td>\n",
       "      <td>...</td>\n",
       "    </tr>\n",
       "    <tr>\n",
       "      <th>6229</th>\n",
       "      <td>80000063</td>\n",
       "      <td>TV Show</td>\n",
       "      <td>Red vs. Blue</td>\n",
       "      <td>NaN</td>\n",
       "      <td>2015</td>\n",
       "      <td>NR</td>\n",
       "      <td>13 Seasons</td>\n",
       "      <td>TV Action &amp; Adventure, TV Comedies, TV Sci-Fi ...</td>\n",
       "      <td>This parody of first-person shooter games, mil...</td>\n",
       "    </tr>\n",
       "    <tr>\n",
       "      <th>6230</th>\n",
       "      <td>70286564</td>\n",
       "      <td>TV Show</td>\n",
       "      <td>Maron</td>\n",
       "      <td>NaN</td>\n",
       "      <td>2016</td>\n",
       "      <td>TV-MA</td>\n",
       "      <td>4 Seasons</td>\n",
       "      <td>TV Comedies</td>\n",
       "      <td>Marc Maron stars as Marc Maron, who interviews...</td>\n",
       "    </tr>\n",
       "    <tr>\n",
       "      <th>6231</th>\n",
       "      <td>80116008</td>\n",
       "      <td>Movie</td>\n",
       "      <td>Little Baby Bum: Nursery Rhyme Friends</td>\n",
       "      <td>NaN</td>\n",
       "      <td>2016</td>\n",
       "      <td>NaN</td>\n",
       "      <td>60 min</td>\n",
       "      <td>Movies</td>\n",
       "      <td>Nursery rhymes and original music for children...</td>\n",
       "    </tr>\n",
       "    <tr>\n",
       "      <th>6232</th>\n",
       "      <td>70281022</td>\n",
       "      <td>TV Show</td>\n",
       "      <td>A Young Doctor's Notebook and Other Stories</td>\n",
       "      <td>NaN</td>\n",
       "      <td>2013</td>\n",
       "      <td>TV-MA</td>\n",
       "      <td>2 Seasons</td>\n",
       "      <td>British TV Shows, TV Comedies, TV Dramas</td>\n",
       "      <td>Set during the Russian Revolution, this comic ...</td>\n",
       "    </tr>\n",
       "    <tr>\n",
       "      <th>6233</th>\n",
       "      <td>70153404</td>\n",
       "      <td>TV Show</td>\n",
       "      <td>Friends</td>\n",
       "      <td>NaN</td>\n",
       "      <td>2003</td>\n",
       "      <td>TV-14</td>\n",
       "      <td>10 Seasons</td>\n",
       "      <td>Classic &amp; Cult TV, TV Comedies</td>\n",
       "      <td>This hit sitcom follows the merry misadventure...</td>\n",
       "    </tr>\n",
       "  </tbody>\n",
       "</table>\n",
       "<p>6234 rows × 9 columns</p>\n",
       "</div>"
      ],
      "text/plain": [
       "       show_id     type                                        title  \\\n",
       "0     81145628    Movie      Norm of the North: King Sized Adventure   \n",
       "1     80117401    Movie                   Jandino: Whatever it Takes   \n",
       "2     70234439  TV Show                           Transformers Prime   \n",
       "3     80058654  TV Show             Transformers: Robots in Disguise   \n",
       "4     80125979    Movie                                 #realityhigh   \n",
       "...        ...      ...                                          ...   \n",
       "6229  80000063  TV Show                                 Red vs. Blue   \n",
       "6230  70286564  TV Show                                        Maron   \n",
       "6231  80116008    Movie       Little Baby Bum: Nursery Rhyme Friends   \n",
       "6232  70281022  TV Show  A Young Doctor's Notebook and Other Stories   \n",
       "6233  70153404  TV Show                                      Friends   \n",
       "\n",
       "             date_added  release_year    rating    duration  \\\n",
       "0     September 9, 2019          2019     TV-PG      90 min   \n",
       "1     September 9, 2016          2016     TV-MA      94 min   \n",
       "2     September 8, 2018          2013  TV-Y7-FV    1 Season   \n",
       "3     September 8, 2018          2016     TV-Y7    1 Season   \n",
       "4     September 8, 2017          2017     TV-14      99 min   \n",
       "...                 ...           ...       ...         ...   \n",
       "6229                NaN          2015        NR  13 Seasons   \n",
       "6230                NaN          2016     TV-MA   4 Seasons   \n",
       "6231                NaN          2016       NaN      60 min   \n",
       "6232                NaN          2013     TV-MA   2 Seasons   \n",
       "6233                NaN          2003     TV-14  10 Seasons   \n",
       "\n",
       "                                              listed_in  \\\n",
       "0                    Children & Family Movies, Comedies   \n",
       "1                                       Stand-Up Comedy   \n",
       "2                                              Kids' TV   \n",
       "3                                              Kids' TV   \n",
       "4                                              Comedies   \n",
       "...                                                 ...   \n",
       "6229  TV Action & Adventure, TV Comedies, TV Sci-Fi ...   \n",
       "6230                                        TV Comedies   \n",
       "6231                                             Movies   \n",
       "6232           British TV Shows, TV Comedies, TV Dramas   \n",
       "6233                     Classic & Cult TV, TV Comedies   \n",
       "\n",
       "                                            description  \n",
       "0     Before planning an awesome wedding for his gra...  \n",
       "1     Jandino Asporaat riffs on the challenges of ra...  \n",
       "2     With the help of three human allies, the Autob...  \n",
       "3     When a prison ship crash unleashes hundreds of...  \n",
       "4     When nerdy high schooler Dani finally attracts...  \n",
       "...                                                 ...  \n",
       "6229  This parody of first-person shooter games, mil...  \n",
       "6230  Marc Maron stars as Marc Maron, who interviews...  \n",
       "6231  Nursery rhymes and original music for children...  \n",
       "6232  Set during the Russian Revolution, this comic ...  \n",
       "6233  This hit sitcom follows the merry misadventure...  \n",
       "\n",
       "[6234 rows x 9 columns]"
      ]
     },
     "execution_count": 10,
     "metadata": {},
     "output_type": "execute_result"
    }
   ],
   "source": [
    "crit_val = df.shape[0] * 0.95\n",
    "df = df.dropna(thresh=crit_val, axis=1)\n",
    "df"
   ]
  },
  {
   "cell_type": "markdown",
   "metadata": {
    "id": "uemb7EQ30B4Y"
   },
   "source": [
    "**(v) [4 marks]**\n",
    "For the remaining columns with missing data, apply the most appropriate imputation method to eliminate the missing data"
   ]
  },
  {
   "cell_type": "code",
   "execution_count": 11,
   "metadata": {
    "executionInfo": {
     "elapsed": 422,
     "status": "ok",
     "timestamp": 1616280965373,
     "user": {
      "displayName": "Simos Gerasimou",
      "photoUrl": "https://lh3.googleusercontent.com/a-/AOh14GiyuWEDBGgnFKbsa3BAO5bWW-MwC5_V7MnUQz5JiA=s64",
      "userId": "13902192774339425778"
     },
     "user_tz": 0
    },
    "id": "OLHdTwT30B4Z",
    "scrolled": true
   },
   "outputs": [],
   "source": [
    "#df.date_added = df.date_added.fillna(df.release_year) # cannot string format date\n",
    "df.rating = df.rating.fillna('UR')\n",
    "\n",
    "for i in np.flatnonzero(df.date_added.isna()):\n",
    "    date = f\"January 1, {df.iloc[i].release_year}\"\n",
    "    df.at[i, 'date_added'] = date"
   ]
  },
  {
   "cell_type": "markdown",
   "metadata": {
    "id": "VZFMLoSN0B4Z"
   },
   "source": [
    "**(vi) [3 marks]** What is the ratio between the different types of content available on Netflix? Plot a bar chart to illustrate this."
   ]
  },
  {
   "cell_type": "code",
   "execution_count": 12,
   "metadata": {
    "executionInfo": {
     "elapsed": 434,
     "status": "ok",
     "timestamp": 1616280966744,
     "user": {
      "displayName": "Simos Gerasimou",
      "photoUrl": "https://lh3.googleusercontent.com/a-/AOh14GiyuWEDBGgnFKbsa3BAO5bWW-MwC5_V7MnUQz5JiA=s64",
      "userId": "13902192774339425778"
     },
     "user_tz": 0
    },
    "id": "7gR6jU9y0B4Z"
   },
   "outputs": [
    {
     "data": {
      "image/png": "[encoded data removed]",
      "text/plain": [
       "<Figure size 432x288 with 1 Axes>"
      ]
     },
     "metadata": {
      "needs_background": "light"
     },
     "output_type": "display_data"
    }
   ],
   "source": [
    "catergories = {}\n",
    "for (_, listed) in df.listed_in.iteritems():\n",
    "    for catergory in listed.split(', '):\n",
    "        if catergory in catergories:\n",
    "            catergories[catergory] += 1\n",
    "        else:\n",
    "            catergories[catergory] = 1\n",
    "\n",
    "x_pos = [i for i, _ in enumerate(catergories)]\n",
    "plt.bar(x_pos, catergories.values())\n",
    "#plt.xticks(x_pos, catergories.keys()) # too many catergories to plot ticks?\n",
    "plt.show()"
   ]
  },
  {
   "cell_type": "markdown",
   "metadata": {
    "id": "CIqXCZj50B4Z"
   },
   "source": [
    "**(vii) [4 marks]**\n",
    "Plot a density graph that shows the distribution of content added per year. What do you infer from this plot?"
   ]
  },
  {
   "cell_type": "code",
   "execution_count": 13,
   "metadata": {
    "executionInfo": {
     "elapsed": 537,
     "status": "ok",
     "timestamp": 1616281000429,
     "user": {
      "displayName": "Simos Gerasimou",
      "photoUrl": "https://lh3.googleusercontent.com/a-/AOh14GiyuWEDBGgnFKbsa3BAO5bWW-MwC5_V7MnUQz5JiA=s64",
      "userId": "13902192774339425778"
     },
     "user_tz": 0
    },
    "id": "R-61oDTD0B4a"
   },
   "outputs": [
    {
     "data": {
      "text/plain": [
       "<AxesSubplot:xlabel='date_added'>"
      ]
     },
     "execution_count": 13,
     "metadata": {},
     "output_type": "execute_result"
    },
    {
     "data": {
      "image/png": "[encoded data removed]",
      "text/plain": [
       "<Figure size 432x288 with 1 Axes>"
      ]
     },
     "metadata": {
      "needs_background": "light"
     },
     "output_type": "display_data"
    }
   ],
   "source": [
    "df.date_added = pd.to_datetime(df.date_added)\n",
    "df.groupby(df.date_added.dt.year).size().plot(kind='bar')\n",
    "# the rate of shows being added to netflix is growing continuously\n",
    "# and 2020 dosen't have many values becuase the data was taken from the start\n",
    "# of 2020"
   ]
  },
  {
   "cell_type": "markdown",
   "metadata": {
    "id": "tqfEypVO0B4a"
   },
   "source": [
    "**(viii) [4 marks]**\n",
    "Find the 10 oldest tv shows on Netflix."
   ]
  },
  {
   "cell_type": "code",
   "execution_count": 33,
   "metadata": {
    "executionInfo": {
     "elapsed": 568,
     "status": "ok",
     "timestamp": 1616281014271,
     "user": {
      "displayName": "Simos Gerasimou",
      "photoUrl": "https://lh3.googleusercontent.com/a-/AOh14GiyuWEDBGgnFKbsa3BAO5bWW-MwC5_V7MnUQz5JiA=s64",
      "userId": "13902192774339425778"
     },
     "user_tz": 0
    },
    "id": "qG7K3fa30B4a"
   },
   "outputs": [
    {
     "data": {
      "text/html": [
       "<div>\n",
       "<style scoped>\n",
       "    .dataframe tbody tr th:only-of-type {\n",
       "        vertical-align: middle;\n",
       "    }\n",
       "\n",
       "    .dataframe tbody tr th {\n",
       "        vertical-align: top;\n",
       "    }\n",
       "\n",
       "    .dataframe thead th {\n",
       "        text-align: right;\n",
       "    }\n",
       "</style>\n",
       "<table border=\"1\" class=\"dataframe\">\n",
       "  <thead>\n",
       "    <tr style=\"text-align: right;\">\n",
       "      <th></th>\n",
       "      <th>show_id</th>\n",
       "      <th>type</th>\n",
       "      <th>title</th>\n",
       "      <th>director</th>\n",
       "      <th>cast</th>\n",
       "      <th>country</th>\n",
       "      <th>date_added</th>\n",
       "      <th>release_year</th>\n",
       "      <th>rating</th>\n",
       "      <th>duration</th>\n",
       "      <th>listed_in</th>\n",
       "      <th>description</th>\n",
       "    </tr>\n",
       "  </thead>\n",
       "  <tbody>\n",
       "    <tr>\n",
       "      <th>4292</th>\n",
       "      <td>81030762</td>\n",
       "      <td>TV Show</td>\n",
       "      <td>Pioneers: First Women Filmmakers*</td>\n",
       "      <td>NaN</td>\n",
       "      <td>NaN</td>\n",
       "      <td>NaN</td>\n",
       "      <td>December 30, 2018</td>\n",
       "      <td>1925</td>\n",
       "      <td>TV-PG</td>\n",
       "      <td>1 Season</td>\n",
       "      <td>TV Shows</td>\n",
       "      <td>This collection restores films from women who ...</td>\n",
       "    </tr>\n",
       "    <tr>\n",
       "      <th>2011</th>\n",
       "      <td>60027945</td>\n",
       "      <td>Movie</td>\n",
       "      <td>Prelude to War</td>\n",
       "      <td>Frank Capra</td>\n",
       "      <td>NaN</td>\n",
       "      <td>United States</td>\n",
       "      <td>March 31, 2017</td>\n",
       "      <td>1942</td>\n",
       "      <td>TV-PG</td>\n",
       "      <td>52 min</td>\n",
       "      <td>Classic Movies, Documentaries</td>\n",
       "      <td>Frank Capra's documentary chronicles the rise ...</td>\n",
       "    </tr>\n",
       "    <tr>\n",
       "      <th>2013</th>\n",
       "      <td>60027942</td>\n",
       "      <td>Movie</td>\n",
       "      <td>The Battle of Midway</td>\n",
       "      <td>John Ford</td>\n",
       "      <td>Henry Fonda, Jane Darwell</td>\n",
       "      <td>United States</td>\n",
       "      <td>March 31, 2017</td>\n",
       "      <td>1942</td>\n",
       "      <td>TV-G</td>\n",
       "      <td>18 min</td>\n",
       "      <td>Classic Movies, Documentaries</td>\n",
       "      <td>Director John Ford captures combat footage of ...</td>\n",
       "    </tr>\n",
       "    <tr>\n",
       "      <th>2022</th>\n",
       "      <td>80119186</td>\n",
       "      <td>Movie</td>\n",
       "      <td>Undercover: How to Operate Behind Enemy Lines</td>\n",
       "      <td>John Ford</td>\n",
       "      <td>NaN</td>\n",
       "      <td>United States</td>\n",
       "      <td>March 31, 2017</td>\n",
       "      <td>1943</td>\n",
       "      <td>TV-PG</td>\n",
       "      <td>61 min</td>\n",
       "      <td>Classic Movies, Documentaries</td>\n",
       "      <td>This World War II-era training film dramatizes...</td>\n",
       "    </tr>\n",
       "    <tr>\n",
       "      <th>2023</th>\n",
       "      <td>70013050</td>\n",
       "      <td>Movie</td>\n",
       "      <td>Why We Fight: The Battle of Russia</td>\n",
       "      <td>Frank Capra, Anatole Litvak</td>\n",
       "      <td>NaN</td>\n",
       "      <td>United States</td>\n",
       "      <td>March 31, 2017</td>\n",
       "      <td>1943</td>\n",
       "      <td>TV-14</td>\n",
       "      <td>82 min</td>\n",
       "      <td>Documentaries</td>\n",
       "      <td>This installment of Frank Capra's acclaimed do...</td>\n",
       "    </tr>\n",
       "    <tr>\n",
       "      <th>2026</th>\n",
       "      <td>70022548</td>\n",
       "      <td>Movie</td>\n",
       "      <td>WWII: Report from the Aleutians</td>\n",
       "      <td>John Huston</td>\n",
       "      <td>NaN</td>\n",
       "      <td>United States</td>\n",
       "      <td>March 31, 2017</td>\n",
       "      <td>1943</td>\n",
       "      <td>NR</td>\n",
       "      <td>45 min</td>\n",
       "      <td>Documentaries</td>\n",
       "      <td>Filmmaker John Huston narrates this Oscar-nomi...</td>\n",
       "    </tr>\n",
       "    <tr>\n",
       "      <th>2017</th>\n",
       "      <td>80119194</td>\n",
       "      <td>Movie</td>\n",
       "      <td>The Memphis Belle: A Story of a\\nFlying Fortress</td>\n",
       "      <td>William Wyler</td>\n",
       "      <td>NaN</td>\n",
       "      <td>United States</td>\n",
       "      <td>March 31, 2017</td>\n",
       "      <td>1944</td>\n",
       "      <td>TV-PG</td>\n",
       "      <td>40 min</td>\n",
       "      <td>Classic Movies, Documentaries</td>\n",
       "      <td>This documentary centers on the crew of the B-...</td>\n",
       "    </tr>\n",
       "    <tr>\n",
       "      <th>2019</th>\n",
       "      <td>80119191</td>\n",
       "      <td>Movie</td>\n",
       "      <td>The Negro Soldier</td>\n",
       "      <td>Stuart Heisler</td>\n",
       "      <td>NaN</td>\n",
       "      <td>United States</td>\n",
       "      <td>March 31, 2017</td>\n",
       "      <td>1944</td>\n",
       "      <td>TV-14</td>\n",
       "      <td>40 min</td>\n",
       "      <td>Classic Movies, Documentaries</td>\n",
       "      <td>This documentary urged African Americans to en...</td>\n",
       "    </tr>\n",
       "    <tr>\n",
       "      <th>2021</th>\n",
       "      <td>80119189</td>\n",
       "      <td>Movie</td>\n",
       "      <td>Tunisian Victory</td>\n",
       "      <td>Frank Capra, John Huston, Hugh Stewart, Roy Bo...</td>\n",
       "      <td>Burgess Meredith</td>\n",
       "      <td>United States, United Kingdom</td>\n",
       "      <td>March 31, 2017</td>\n",
       "      <td>1944</td>\n",
       "      <td>TV-PG</td>\n",
       "      <td>76 min</td>\n",
       "      <td>Classic Movies, Documentaries</td>\n",
       "      <td>British and American troops join forces to lib...</td>\n",
       "    </tr>\n",
       "    <tr>\n",
       "      <th>2012</th>\n",
       "      <td>80119188</td>\n",
       "      <td>Movie</td>\n",
       "      <td>San Pietro</td>\n",
       "      <td>John Huston</td>\n",
       "      <td>NaN</td>\n",
       "      <td>United States</td>\n",
       "      <td>March 31, 2017</td>\n",
       "      <td>1945</td>\n",
       "      <td>TV-14</td>\n",
       "      <td>32 min</td>\n",
       "      <td>Classic Movies, Documentaries</td>\n",
       "      <td>After the Allies invade Italy, the Liri Valley...</td>\n",
       "    </tr>\n",
       "  </tbody>\n",
       "</table>\n",
       "</div>"
      ],
      "text/plain": [
       "       show_id     type                                             title  \\\n",
       "4292  81030762  TV Show                 Pioneers: First Women Filmmakers*   \n",
       "2011  60027945    Movie                                    Prelude to War   \n",
       "2013  60027942    Movie                              The Battle of Midway   \n",
       "2022  80119186    Movie     Undercover: How to Operate Behind Enemy Lines   \n",
       "2023  70013050    Movie                Why We Fight: The Battle of Russia   \n",
       "2026  70022548    Movie                   WWII: Report from the Aleutians   \n",
       "2017  80119194    Movie  The Memphis Belle: A Story of a\\nFlying Fortress   \n",
       "2019  80119191    Movie                                 The Negro Soldier   \n",
       "2021  80119189    Movie                                  Tunisian Victory   \n",
       "2012  80119188    Movie                                        San Pietro   \n",
       "\n",
       "                                               director  \\\n",
       "4292                                                NaN   \n",
       "2011                                        Frank Capra   \n",
       "2013                                          John Ford   \n",
       "2022                                          John Ford   \n",
       "2023                        Frank Capra, Anatole Litvak   \n",
       "2026                                        John Huston   \n",
       "2017                                      William Wyler   \n",
       "2019                                     Stuart Heisler   \n",
       "2021  Frank Capra, John Huston, Hugh Stewart, Roy Bo...   \n",
       "2012                                        John Huston   \n",
       "\n",
       "                           cast                        country  \\\n",
       "4292                        NaN                            NaN   \n",
       "2011                        NaN                  United States   \n",
       "2013  Henry Fonda, Jane Darwell                  United States   \n",
       "2022                        NaN                  United States   \n",
       "2023                        NaN                  United States   \n",
       "2026                        NaN                  United States   \n",
       "2017                        NaN                  United States   \n",
       "2019                        NaN                  United States   \n",
       "2021           Burgess Meredith  United States, United Kingdom   \n",
       "2012                        NaN                  United States   \n",
       "\n",
       "             date_added  release_year rating  duration  \\\n",
       "4292  December 30, 2018          1925  TV-PG  1 Season   \n",
       "2011     March 31, 2017          1942  TV-PG    52 min   \n",
       "2013     March 31, 2017          1942   TV-G    18 min   \n",
       "2022     March 31, 2017          1943  TV-PG    61 min   \n",
       "2023     March 31, 2017          1943  TV-14    82 min   \n",
       "2026     March 31, 2017          1943     NR    45 min   \n",
       "2017     March 31, 2017          1944  TV-PG    40 min   \n",
       "2019     March 31, 2017          1944  TV-14    40 min   \n",
       "2021     March 31, 2017          1944  TV-PG    76 min   \n",
       "2012     March 31, 2017          1945  TV-14    32 min   \n",
       "\n",
       "                          listed_in  \\\n",
       "4292                       TV Shows   \n",
       "2011  Classic Movies, Documentaries   \n",
       "2013  Classic Movies, Documentaries   \n",
       "2022  Classic Movies, Documentaries   \n",
       "2023                  Documentaries   \n",
       "2026                  Documentaries   \n",
       "2017  Classic Movies, Documentaries   \n",
       "2019  Classic Movies, Documentaries   \n",
       "2021  Classic Movies, Documentaries   \n",
       "2012  Classic Movies, Documentaries   \n",
       "\n",
       "                                            description  \n",
       "4292  This collection restores films from women who ...  \n",
       "2011  Frank Capra's documentary chronicles the rise ...  \n",
       "2013  Director John Ford captures combat footage of ...  \n",
       "2022  This World War II-era training film dramatizes...  \n",
       "2023  This installment of Frank Capra's acclaimed do...  \n",
       "2026  Filmmaker John Huston narrates this Oscar-nomi...  \n",
       "2017  This documentary centers on the crew of the B-...  \n",
       "2019  This documentary urged African Americans to en...  \n",
       "2021  British and American troops join forces to lib...  \n",
       "2012  After the Allies invade Italy, the Liri Valley...  "
      ]
     },
     "execution_count": 33,
     "metadata": {},
     "output_type": "execute_result"
    }
   ],
   "source": [
    "df.sort_values(by='release_year').head(10)"
   ]
  },
  {
   "cell_type": "markdown",
   "metadata": {
    "deletable": false,
    "editable": false,
    "id": "wnhcN3h20B4a",
    "run_control": {
     "frozen": true
    }
   },
   "source": [
    "---"
   ]
  },
  {
   "cell_type": "markdown",
   "metadata": {
    "id": "3Yjh4Ta_0B4a"
   },
   "source": [
    "### **Question 3: Inferential Analysis (25 marks)**"
   ]
  },
  {
   "cell_type": "markdown",
   "metadata": {
    "id": "F9J7WORi0B4b"
   },
   "source": [
    "**Part A** \n",
    "\n",
    "York City Knights, York's professional rugby league club, wants to assess whether a new diet the team has been using helped rugby players to increase their muscle size. DataVision has collected data for 20 rugby players before and after using the diet.\n",
    "\n",
    "You should use the dataset named \"rugby.csv\"and answer the following data questions using Python 3, Pandas and Matplotlib.\n"
   ]
  },
  {
   "cell_type": "markdown",
   "metadata": {
    "id": "72JejmLp0B4b"
   },
   "source": [
    "**(i) [3 marks]**\n",
    "State the Null and Alternative hypotheses, reporting the variables that will be used for evaluating the hypotheses"
   ]
  },
  {
   "cell_type": "markdown",
   "metadata": {
    "executionInfo": {
     "elapsed": 440,
     "status": "ok",
     "timestamp": 1616281106986,
     "user": {
      "displayName": "Simos Gerasimou",
      "photoUrl": "https://lh3.googleusercontent.com/a-/AOh14GiyuWEDBGgnFKbsa3BAO5bWW-MwC5_V7MnUQz5JiA=s64",
      "userId": "13902192774339425778"
     },
     "user_tz": 0
    },
    "id": "afUdH8-_0B4b"
   },
   "source": [
    "H0: The new diet does not has no effect on the players muscle size  \n",
    "H1: The new diet increases the players muscle size"
   ]
  },
  {
   "cell_type": "markdown",
   "metadata": {
    "id": "yMRezxMF0B4c"
   },
   "source": [
    "**(ii) [2 marks]**\n",
    "Calculate the degrees of freedom"
   ]
  },
  {
   "cell_type": "code",
   "execution_count": 34,
   "metadata": {
    "executionInfo": {
     "elapsed": 423,
     "status": "ok",
     "timestamp": 1616281108944,
     "user": {
      "displayName": "Simos Gerasimou",
      "photoUrl": "https://lh3.googleusercontent.com/a-/AOh14GiyuWEDBGgnFKbsa3BAO5bWW-MwC5_V7MnUQz5JiA=s64",
      "userId": "13902192774339425778"
     },
     "user_tz": 0
    },
    "id": "U6gwkLE60B4c"
   },
   "outputs": [
    {
     "data": {
      "text/plain": [
       "19"
      ]
     },
     "execution_count": 34,
     "metadata": {},
     "output_type": "execute_result"
    }
   ],
   "source": [
    "df = pd.read_csv('rugby.csv')\n",
    "df.shape[0] - 1"
   ]
  },
  {
   "cell_type": "markdown",
   "metadata": {
    "id": "fiZ6x-W30B4d"
   },
   "source": [
    "**(iii) [3 marks]**\n",
    "Find the critical value for a two-tailed test with significance level α=0.05"
   ]
  },
  {
   "cell_type": "code",
   "execution_count": 16,
   "metadata": {
    "executionInfo": {
     "elapsed": 455,
     "status": "ok",
     "timestamp": 1616281160196,
     "user": {
      "displayName": "Simos Gerasimou",
      "photoUrl": "https://lh3.googleusercontent.com/a-/AOh14GiyuWEDBGgnFKbsa3BAO5bWW-MwC5_V7MnUQz5JiA=s64",
      "userId": "13902192774339425778"
     },
     "user_tz": 0
    },
    "id": "j9UkbThs0B4d"
   },
   "outputs": [],
   "source": []
  },
  {
   "cell_type": "markdown",
   "metadata": {
    "id": "4kpMYT-T0B4d"
   },
   "source": [
    "**(iv) [4 marks]**\n",
    "Perform the appropriate t test to evaluate the hypotheses for significance level 𝛼=0.05 . You must show your calculations, i.e., calculate the result analytically, but you may use the appropriate scipy method to check your results."
   ]
  },
  {
   "cell_type": "code",
   "execution_count": 17,
   "metadata": {
    "executionInfo": {
     "elapsed": 340,
     "status": "ok",
     "timestamp": 1616281161057,
     "user": {
      "displayName": "Simos Gerasimou",
      "photoUrl": "https://lh3.googleusercontent.com/a-/AOh14GiyuWEDBGgnFKbsa3BAO5bWW-MwC5_V7MnUQz5JiA=s64",
      "userId": "13902192774339425778"
     },
     "user_tz": 0
    },
    "id": "4u67QiAm0B4e"
   },
   "outputs": [],
   "source": [
    "#Write your answer here\n"
   ]
  },
  {
   "cell_type": "markdown",
   "metadata": {
    "id": "gDIbnxTW0B4e"
   },
   "source": [
    "**Part B**\n",
    "\n",
    "FoxWood Inc. makes Apple Pencils for iPad and is interested in increasing the strength of their product. It is thought that strength is a function of metal concentration in the core of the pencil. An investigation is carried out to compare four levels of metal concentration: 5%, 10%, 15% and 20%. For each concentration level, six samples are collected and are measured based on their strength.\n",
    "\n",
    "You should use the dataset named \"pencil.csv\" and answer the following data questions using Python 3, Pandas and Matplotlib."
   ]
  },
  {
   "cell_type": "markdown",
   "metadata": {
    "id": "cF80BmvU0B4f"
   },
   "source": [
    "**(v) [5 marks]**\n",
    "Plot a boxplot for the different levels of metal concentration"
   ]
  },
  {
   "cell_type": "code",
   "execution_count": 18,
   "metadata": {
    "executionInfo": {
     "elapsed": 505,
     "status": "ok",
     "timestamp": 1616281196839,
     "user": {
      "displayName": "Simos Gerasimou",
      "photoUrl": "https://lh3.googleusercontent.com/a-/AOh14GiyuWEDBGgnFKbsa3BAO5bWW-MwC5_V7MnUQz5JiA=s64",
      "userId": "13902192774339425778"
     },
     "user_tz": 0
    },
    "id": "8ihjllF70B4q"
   },
   "outputs": [],
   "source": [
    "#Write your answer here\n"
   ]
  },
  {
   "cell_type": "markdown",
   "metadata": {
    "id": "o1U0KaBl0B4r"
   },
   "source": [
    "**(vi) [3 marks]**\n",
    "State the Null and Alternative hypotheses that will enable the company to check whether there is any difference in strength depending on the levels of metal concrentation"
   ]
  },
  {
   "cell_type": "markdown",
   "metadata": {
    "id": "wB5qCzEc0B4r"
   },
   "source": [
    "#### Write your answer here\n"
   ]
  },
  {
   "cell_type": "markdown",
   "metadata": {
    "id": "b9ru7juJ0B4r"
   },
   "source": [
    "**(vii) [5 marks]**\n",
    "Perform the appropriate test to evaluate the hypotheses for significance level 𝛼=0.05 . You must show your calculations, i.e., calculate the result analytically, but you may use the appropriate scipy method to check your results."
   ]
  },
  {
   "cell_type": "code",
   "execution_count": 19,
   "metadata": {
    "executionInfo": {
     "elapsed": 535,
     "status": "ok",
     "timestamp": 1616281229512,
     "user": {
      "displayName": "Simos Gerasimou",
      "photoUrl": "https://lh3.googleusercontent.com/a-/AOh14GiyuWEDBGgnFKbsa3BAO5bWW-MwC5_V7MnUQz5JiA=s64",
      "userId": "13902192774339425778"
     },
     "user_tz": 0
    },
    "id": "whnXO8zj0B4r"
   },
   "outputs": [],
   "source": [
    "#Write your answer here\n"
   ]
  },
  {
   "cell_type": "markdown",
   "metadata": {
    "deletable": false,
    "editable": false,
    "id": "O8zcEB740B4s",
    "run_control": {
     "frozen": true
    }
   },
   "source": [
    "***\n",
    "\n",
    "### **Question 4: Data Science Process (25 marks)**\n",
    "\n",
    "DataVision has recently been acquired by Alphabet Inc. This acquisition led to expanding the technical teams of DataVision and having several job openings for data scientist and software engineering positions. Given its expertise in data science, DataVision considers to develop a Virtual Assistant that helps its human resources team in making a more cohesive and consistent analysis of job applications.\n",
    "\n",
    "**(i) [20 marks]** \n",
    "Using **no more than two sentences** for each data science lifecycle step, describe how you would implement this project to support the development of the Virtual Assistant of DataVision. You can use examples, fictional data or plots to explain your arguments.\n",
    "\n",
    "**(ii) [5 marks]** Considering the sensitive information associated with developing such a Virtual Assistant, provide details of **two** ethical challenges that must be addressed and are also aligned with the guidelines for ethical data science or trustworthy AI. Use no more than **two** sentences per ethical challenge.\n",
    "\n"
   ]
  },
  {
   "cell_type": "markdown",
   "metadata": {
    "id": "I3QTFXZz0B4s"
   },
   "source": [
    "### Write your answer here"
   ]
  },
  {
   "cell_type": "markdown",
   "metadata": {
    "deletable": false,
    "editable": false,
    "id": "KZXcQoVc0B4s",
    "run_control": {
     "frozen": true
    }
   },
   "source": [
    "---"
   ]
  }
 ],
 "metadata": {
  "colab": {
   "name": "DAT1-Formative Exam - Questions.ipynb",
   "provenance": []
  },
  "kernelspec": {
   "display_name": "Python 3",
   "language": "python",
   "name": "python3"
  },
  "language_info": {
   "codemirror_mode": {
    "name": "ipython",
    "version": 3
   },
   "file_extension": ".py",
   "mimetype": "text/x-python",
   "name": "python",
   "nbconvert_exporter": "python",
   "pygments_lexer": "ipython3",
   "version": "3.8.5"
  }
 },
 "nbformat": 4,
 "nbformat_minor": 1
}
