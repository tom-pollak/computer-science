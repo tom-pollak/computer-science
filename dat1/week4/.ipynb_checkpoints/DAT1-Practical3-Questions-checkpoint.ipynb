{
 "cells": [
  {
   "cell_type": "markdown",
   "metadata": {
    "id": "t21A_LdjaSZA"
   },
   "source": [
    "# DATA 1 Practical 3 - Questions\n",
    "\n",
    "Simos Gerasimou\n",
    "\n",
    "\n",
    "## Wine Exploration"
   ]
  },
  {
   "cell_type": "markdown",
   "metadata": {
    "id": "mkoefaAPaSZK"
   },
   "source": [
    "**WineEnthusiast** is a website for buying wine products and in which customers can also review products. The company has collected reviews for a wide variety of their products on November 22nd, 2017. The company wants to analyse this data to extract insights from its products and answer questions including:\n",
    "* how its products are rated by customers?\n",
    "* are there patterns that might increase its revenue and/or profit?\n",
    "\n",
    "#### Your tasks are to explore this dataset and generade actionable knowledge. \n",
    "\n",
    "\n",
    "This Jupyter Notebook will be presented to the WineEnthusiast main stakeholders who have limited knowledge about data science. Your findings should be complemented by a suitable justification explaining what you observe and, when applicable, what this observation means and, possibly, why it occurs.\n",
    "\n",
    "\n",
    "***"
   ]
  },
  {
   "cell_type": "markdown",
   "metadata": {
    "id": "tadicbCfdZoi"
   },
   "source": [
    "### **Important Information**\n",
    "\n",
    "(1) To answer these exercises, you **must first read Chapter 2: Introduction to NumPy from the Python Data Science Handbook** (https://jakevdp.github.io/PythonDataScienceHandbook/02.00-introduction-to-numpy.html)\n",
    "\n",
    "\n",
    "(2) For each question (task) a description is provided accompanied (most of the time) by two cells: one for writing the Python code and another for providing the justification. Feel free to add more cells if you feel they are needed, but keep the cells corresponding to the same question close by.\n",
    "\n",
    "**Hint**: If you find difficulties in solving a task, look at Chapter 2 from the Python Data Science Handbook.\n"
   ]
  },
  {
   "cell_type": "markdown",
   "metadata": {
    "id": "NknUE6umgA8t"
   },
   "source": [
    "#### **T1) Explore the dataset and for each column write its name, data type (categorical/numerical - nominal,ordinal,discrete,continuous) and its meaning (i.e., what does it capture?)**\n",
    "\n",
    "* You may want to open the CSV file using a text editor (e.g., Notepad) or a spreadsheet editor (e.g., Excel)"
   ]
  },
  {
   "cell_type": "markdown",
   "metadata": {
    "id": "h4tiYhy5gF_6"
   },
   "source": [
    "**Write your answer here**\n"
   ]
  },
  {
   "cell_type": "markdown",
   "metadata": {
    "id": "ltW7YyZ7g7DG"
   },
   "source": [
    "### 1) Reading dataset\n",
    "\n",
    "The classic cars dataset is available on VLE (look for \"wine-data-filtered-500.csv\" in the Practicals section)"
   ]
  },
  {
   "cell_type": "code",
   "execution_count": 1,
   "metadata": {
    "id": "Eef1smmDf6sT"
   },
   "outputs": [],
   "source": [
    "#Using NumPy to read the dataset\n",
    "import numpy as np\n",
    "#Define the path to the dataset\n",
    "data_path = \"wine-data-filtered-500.csv\"\n",
    "#Define the type of each dataset column. \n",
    "#This is needed because NumPy arrays cannot directly read files with different data types\n",
    "#Hence, we are using Structured arrays. \n",
    "#But, we will soon move to Pandas which makes data manipulation easier\n",
    "types = ['i4', 'U30', 'i4', 'i4', 'U50', 'U50', 'U100', 'U100', 'U100']\n",
    "#Read the dataset\n",
    "data = np.genfromtxt(data_path, dtype=types, delimiter=',', names=True)"
   ]
  },
  {
   "cell_type": "markdown",
   "metadata": {
    "id": "Doh4SF003--5"
   },
   "source": [
    "##### **Since we are using Structured Arrays, we can extract the entries of a column by specifying its name. We can further slice the array by using the standard [Python slicing mechanism](https://www.w3schools.com/python/numpy_array_slicing.asp)**\n",
    "\n"
   ]
  },
  {
   "cell_type": "code",
   "execution_count": 2,
   "metadata": {
    "id": "H3aA0ZsI4MUC"
   },
   "outputs": [
    {
     "name": "stdout",
     "output_type": "stream",
     "text": [
      "[(1, 'Portugal', 87, 15, 'Douro', 'Roger Voss', 'Quinta dos Avidagos 2011 Avidagos Red (Douro)', 'Portuguese Red', 'Quinta dos Avidagos')\n",
      " (2, 'US', 87, 14, 'Oregon', 'Paul Gregutt', 'Rainstorm 2013 Pinot Gris (Willamette Valley)', 'Pinot Gris', 'Rainstorm')\n",
      " (3, 'US', 87, 13, 'Michigan', 'Alexander Peartree', 'St. Julian 2013 Reserve Late Harvest Riesling (Lake Michigan Shore)', 'Riesling', 'St. Julian')\n",
      " (4, 'US', 87, 65, 'Oregon', 'Paul Gregutt', \"Sweet Cheeks 2012 Vintner's Reserve Wild Child Block Pinot Noir (Willamette Valley)\", 'Pinot Noir', 'Sweet Cheeks')\n",
      " (5, 'Spain', 87, 15, 'Northern Spain', 'Michael Schachner', 'Tandem 2011 Ars In Vitro Tempranillo-Merlot (Navarra)', 'Tempranillo-Merlot', 'Tandem')]\n"
     ]
    }
   ],
   "source": [
    "#Print the first 5 entries with \n",
    "print(data[0:5])"
   ]
  },
  {
   "cell_type": "code",
   "execution_count": 89,
   "metadata": {
    "id": "JYceY6Zz4-ui"
   },
   "outputs": [
    {
     "name": "stdout",
     "output_type": "stream",
     "text": [
      "('ID', 'country', 'points', 'price', 'province', 'tasterName', 'title', 'variety', 'winery')\n",
      "['Quinta dos Avidagos 2011 Avidagos Red (Douro)'\n",
      " 'Rainstorm 2013 Pinot Gris (Willamette Valley)'\n",
      " 'St. Julian 2013 Reserve Late Harvest Riesling (Lake Michigan Shore)'\n",
      " \"Sweet Cheeks 2012 Vintner's Reserve Wild Child Block Pinot Noir (Willamette Valley)\"\n",
      " 'Tandem 2011 Ars In Vitro Tempranillo-Merlot (Navarra)'\n",
      " 'Terre di Giurfo 2013 Belsito Frappato (Vittoria)'\n",
      " 'Trimbach 2012 Gewurztraminer (Alsace)'\n",
      " 'Heinz Eifel 2013 Shine Gewurztraminer (Rheinhessen)'\n",
      " 'Jean-Baptiste Adam 2012 Les Natures Pinot Gris (Alsace)'\n",
      " 'Kirkland Signature 2011 Mountain Cuvee Cabernet Sauvignon (Napa Valley)']\n",
      "['Portuguese Red' 'Pinot Gris' 'Riesling' 'Pinot Noir'\n",
      " 'Tempranillo-Merlot' 'Frappato' 'Gewurztraminer' 'Gewurztraminer'\n",
      " 'Pinot Gris' 'Cabernet Sauvignon']\n"
     ]
    }
   ],
   "source": [
    "print(data.dtype.names)\n",
    "print(data['title'][:10])\n",
    "print(data['variety'][:10])"
   ]
  },
  {
   "cell_type": "markdown",
   "metadata": {
    "id": "6YU2QMmJ65YJ"
   },
   "source": [
    "***\n",
    "### **How do the wine prices look like?**\n"
   ]
  },
  {
   "cell_type": "markdown",
   "metadata": {
    "id": "o7LrmCWM6P2c"
   },
   "source": [
    "#### **T2) Calculate the mean and median prices for all the wines**"
   ]
  },
  {
   "cell_type": "code",
   "execution_count": 28,
   "metadata": {
    "id": "PVvVfMa_08Ds"
   },
   "outputs": [
    {
     "name": "stdout",
     "output_type": "stream",
     "text": [
      "('ID', 'country', 'points', 'price', 'province', 'tasterName', 'title', 'variety', 'winery')\n"
     ]
    },
    {
     "data": {
      "text/plain": [
       "(42.428, 30.0)"
      ]
     },
     "execution_count": 28,
     "metadata": {},
     "output_type": "execute_result"
    }
   ],
   "source": [
    "prices = data['price']\n",
    "np.mean(prices), np.median(prices)"
   ]
  },
  {
   "cell_type": "markdown",
   "metadata": {
    "id": "KWIQWq7C1W3C"
   },
   "source": [
    "#### **T3) Calculate the min, max, range and standard deviation of wine prices**"
   ]
  },
  {
   "cell_type": "code",
   "execution_count": 29,
   "metadata": {
    "id": "9lMEnZ6M08HK"
   },
   "outputs": [
    {
     "data": {
      "text/plain": [
       "(7, 775, 60.51959034891099)"
      ]
     },
     "execution_count": 29,
     "metadata": {},
     "output_type": "execute_result"
    }
   ],
   "source": [
    "np.min(prices), np.max(prices), np.std(prices)"
   ]
  },
  {
   "cell_type": "markdown",
   "metadata": {
    "id": "-Haj6qSO7J5k"
   },
   "source": [
    "#### **T4) What insights can you extract from these values? Which metric of central tendency should we use?**"
   ]
  },
  {
   "cell_type": "markdown",
   "metadata": {
    "id": "WXbnryk57Pel"
   },
   "source": [
    "**Write your answer here**\n",
    "\n"
   ]
  },
  {
   "cell_type": "markdown",
   "metadata": {
    "id": "79i7K__v7obW"
   },
   "source": [
    "***\n",
    "### **What do the reviewers think about the quality of wines?**"
   ]
  },
  {
   "cell_type": "markdown",
   "metadata": {
    "id": "D36aM_u38fea"
   },
   "source": [
    "#### **T5) Calculate the metrics of central tendency for wine ratings (points)**"
   ]
  },
  {
   "cell_type": "code",
   "execution_count": 36,
   "metadata": {
    "id": "AXCDKAHX8jII"
   },
   "outputs": [
    {
     "data": {
      "text/plain": [
       "(89.244, 89.0, 87)"
      ]
     },
     "execution_count": 36,
     "metadata": {},
     "output_type": "execute_result"
    }
   ],
   "source": [
    "points = data['points']\n",
    "counts = np.bincount(points)\n",
    "np.mean(points), np.median(points), points[np.argmax(counts)]"
   ]
  },
  {
   "cell_type": "markdown",
   "metadata": {
    "id": "nCYOYEgW7q2y"
   },
   "source": [
    "#### **T6) Calculate the metrics of dispersion for wine ratings (points)**"
   ]
  },
  {
   "cell_type": "code",
   "execution_count": 38,
   "metadata": {
    "id": "833qUWEW08Aw"
   },
   "outputs": [
    {
     "data": {
      "text/plain": [
       "(2.8107764051948347, 7.900463999999999)"
      ]
     },
     "execution_count": 38,
     "metadata": {},
     "output_type": "execute_result"
    }
   ],
   "source": [
    "np.std(points), np.var(points)"
   ]
  },
  {
   "cell_type": "markdown",
   "metadata": {
    "id": "JrOXzTTZ-gUv"
   },
   "source": [
    "#### **T7) Calculate the interquartile range for the ratings of all reviewed wines**"
   ]
  },
  {
   "cell_type": "code",
   "execution_count": 42,
   "metadata": {
    "id": "21dB_vAc072q"
   },
   "outputs": [
    {
     "data": {
      "text/plain": [
       "4.0"
      ]
     },
     "execution_count": 42,
     "metadata": {},
     "output_type": "execute_result"
    }
   ],
   "source": [
    "quart_ranges = np.percentile(points, [25, 75])\n",
    "quart_ranges[1] - quart_ranges[0]"
   ]
  },
  {
   "cell_type": "markdown",
   "metadata": {
    "id": "ZU_HXIT59RBw"
   },
   "source": [
    "#### **T8) What insights can you extract from these values? Which metric of central tendency should we use?**"
   ]
  },
  {
   "cell_type": "markdown",
   "metadata": {
    "id": "8Twk9Ekv9Ydl"
   },
   "source": [
    "**Write your answer here**\n"
   ]
  },
  {
   "cell_type": "markdown",
   "metadata": {
    "id": "SdJjdphs_AWV"
   },
   "source": [
    "### **Further Analysis**"
   ]
  },
  {
   "cell_type": "markdown",
   "metadata": {
    "id": "FNKoHVB_OsxE"
   },
   "source": [
    "#### **T9) How many wine varieties have been reviewed?**"
   ]
  },
  {
   "cell_type": "code",
   "execution_count": 75,
   "metadata": {
    "id": "gHowQsinO2pk"
   },
   "outputs": [
    {
     "data": {
      "text/plain": [
       "91"
      ]
     },
     "execution_count": 75,
     "metadata": {},
     "output_type": "execute_result"
    }
   ],
   "source": [
    "unique_varieties, num_reviews = np.unique(data['variety'], return_counts=True)\n",
    "unique_varieties.size"
   ]
  },
  {
   "cell_type": "markdown",
   "metadata": {
    "id": "B9oenbXKP9nO"
   },
   "source": [
    "#### **T10) Which is the most reviewed wine variety and what is its mean rating?**\n",
    "\n",
    "* Hint: Check the section on array masking from the NumPy chapter in the Python Data Science Handbook"
   ]
  },
  {
   "cell_type": "code",
   "execution_count": 73,
   "metadata": {
    "id": "cFDCtL2wP7KC"
   },
   "outputs": [
    {
     "data": {
      "text/plain": [
       "('Pinot Noir', 89.87272727272727)"
      ]
     },
     "execution_count": 73,
     "metadata": {},
     "output_type": "execute_result"
    }
   ],
   "source": [
    "max_reviewed = unique_varieties[np.argmax(num_reviews)]\n",
    "mask = data['variety'] == max_reviewed\n",
    "\n",
    "max_reviewed, np.mean(data[mask]['points'])"
   ]
  },
  {
   "cell_type": "markdown",
   "metadata": {
    "id": "wCceOD-U_WRw"
   },
   "source": [
    "#### **T11) Which are the most widely reviewed wineries? How many reviews did each receive?**\n",
    "\n",
    "* Hint: Check the section on array masking from the NumPy chapter in the Python Data Science Handbook\n",
    "* Hint: Another option is to use the function argwhere function from NumPy (https://numpy.org/doc/stable/reference/generated/numpy.argwhere.html)"
   ]
  },
  {
   "cell_type": "code",
   "execution_count": 98,
   "metadata": {
    "id": "11w1mbl3_br6"
   },
   "outputs": [
    {
     "name": "stdout",
     "output_type": "stream",
     "text": [
      "Pinot Noir 55\n",
      "Chardonnay 47\n",
      "Cabernet Sauvignon 45\n",
      "Riesling 32\n",
      "Red Blend 31\n",
      "Syrah 17\n",
      "Bordeaux-style Red Blend 15\n",
      "Malbec 14\n",
      "White Blend 14\n",
      "Champagne Blend 11\n"
     ]
    }
   ],
   "source": [
    "sorted_index = np.argsort(num_reviews)[::-1][:10]\n",
    "\n",
    "for variety in unique_varieties[sorted_index]:\n",
    "    mask = variety == data['variety']\n",
    "    print(variety, data[mask]['points'].size)\n"
   ]
  },
  {
   "cell_type": "markdown",
   "metadata": {
    "id": "FM8dusJlG-6N"
   },
   "source": [
    "#### **T12) Which reviewed wines are white?**\n",
    "\n",
    "* Hint: Which variable of a wine may contain this information?"
   ]
  },
  {
   "cell_type": "code",
   "execution_count": 12,
   "metadata": {
    "id": "ittlcdYmJVwF"
   },
   "outputs": [],
   "source": []
  },
  {
   "cell_type": "markdown",
   "metadata": {
    "id": "vhFGTlMUSdNO"
   },
   "source": [
    "#### **T13) How many tasters (sommelliers) have reviewed wines produced by the \"Winzer Krems\" winery?**"
   ]
  },
  {
   "cell_type": "code",
   "execution_count": 161,
   "metadata": {
    "id": "ulEdXd5QTAWp"
   },
   "outputs": [
    {
     "data": {
      "text/plain": [
       "2"
      ]
     },
     "execution_count": 161,
     "metadata": {},
     "output_type": "execute_result"
    }
   ],
   "source": [
    "np.unique(data[data['winery'] == 'Winzer Krems']['tasterName']).size"
   ]
  },
  {
   "cell_type": "markdown",
   "metadata": {
    "id": "fA5ktY4QV7Gw"
   },
   "source": [
    "#### **T14) What can you infer about the ratings given by the sommelliers for wines produced by \"Le Cadeau\"? How much confidence would you have about these reviews?**"
   ]
  },
  {
   "cell_type": "code",
   "execution_count": 166,
   "metadata": {
    "id": "qoqMMwpOWKAi"
   },
   "outputs": [
    {
     "data": {
      "text/plain": [
       "(91.0, 0.0)"
      ]
     },
     "execution_count": 166,
     "metadata": {},
     "output_type": "execute_result"
    }
   ],
   "source": [
    "cadeau_ratings = data[data['winery'] == 'Le Cadeau']['points']\n",
    "np.mean(cadeau_ratings), np.std(cadeau_ratings)\n",
    "# the winery has a rating of 91 on all of their wines"
   ]
  },
  {
   "cell_type": "markdown",
   "metadata": {
    "id": "sdW1jRS0d1QR"
   },
   "source": [
    "#### **T15) Which country's the wines have received the most reviews with rating above 95? How much do these wines cost on average?**"
   ]
  },
  {
   "cell_type": "code",
   "execution_count": 122,
   "metadata": {
    "id": "PA17biP9g9zZ"
   },
   "outputs": [
    {
     "name": "stdout",
     "output_type": "stream",
     "text": [
      "country with most wines above 95: Australia with mean cost: 256.25\n"
     ]
    }
   ],
   "source": [
    "best_wines = data[data['points'] > 95]\n",
    "countries, num_ratings = np.unique(best_wines['country'], return_counts=True)\n",
    "max_reviewed = countries[np.argmax(num_ratings)]\n",
    "max_reviewed_country_avg_cost = np.mean(best_wines[best_wines['country'] == max_reviewed]['price'])\n",
    "\n",
    "print(f\"country with most wines above 95: {max_reviewed} with mean cost: {max_reviewed_country_avg_cost}\")"
   ]
  },
  {
   "cell_type": "markdown",
   "metadata": {
    "id": "rfZLlqomjAck"
   },
   "source": [
    "#### **T16) What is the name (title) of the wine with the highest score? Are there other wines that cost as much as the wine with the highest score? If so, give their names (titles).**"
   ]
  },
  {
   "cell_type": "code",
   "execution_count": 142,
   "metadata": {
    "id": "Wl3UTmHdjS3C"
   },
   "outputs": [
    {
     "name": "stdout",
     "output_type": "stream",
     "text": [
      "Highest rating wines: Chambers Rosewood Vineyards NV Rare Muscat (Rutherglen)\n",
      "\n",
      "Wines more expensive than the highest rating wines:\n",
      "Louis Latour 2014 Criots-Batard-Montrachet\n",
      "Louis Latour 2014 Le Montrachet (Montrachet)\n",
      "Robert Weil 2014 Kiedrich Grafenberg Beerenauslese Riesling (Rheingau)\n",
      "Robert Weil 2014 Kiedrich Grafenberg Trockenbeerenauslese Riesling (Rheingau)\n"
     ]
    }
   ],
   "source": [
    "best_wine_mask = data['points'] == np.max(data['points'])\n",
    "best_wine = data[best_wine_mask]\n",
    "expensive_wines = data[data['price'] > best_wine['price']]\n",
    "print('Highest rating wines:', end='')\n",
    "for wine in np.unique(best_wine['title']):\n",
    "    print(' %s' % wine, end='')\n",
    "print('\\n')\n",
    "print('Wines more expensive than the highest rating wines:')\n",
    "for wine in np.unique(expensive_wines['title']):\n",
    "    print(wine)"
   ]
  },
  {
   "cell_type": "markdown",
   "metadata": {
    "id": "2Vzt5mDLka90"
   },
   "source": [
    "#### **T17) How many wines from Italy have a rating above the 90th percentile and from which province do the wines come from?**"
   ]
  },
  {
   "cell_type": "code",
   "execution_count": 172,
   "metadata": {
    "id": "o7P9Yg47kd_r"
   },
   "outputs": [
    {
     "data": {
      "text/plain": [
       "array(['Abbazia di Novacella', 'Bel Colle', 'Bellavista', 'Brandini',\n",
       "       'Castello di Gabbiano', 'Cavallotto', 'I Giusti e Zanza',\n",
       "       'Majolini', 'Montemercurio', 'Sturm', 'Valentina Cubi'],\n",
       "      dtype='<U100')"
      ]
     },
     "execution_count": 172,
     "metadata": {},
     "output_type": "execute_result"
    }
   ],
   "source": [
    "mask = (data['points'] > 90) & (data['country'] == 'Italy')\n",
    "np.unique(data[mask]['winery'])"
   ]
  },
  {
   "cell_type": "markdown",
   "metadata": {
    "id": "WDiGs2z5mbBq"
   },
   "source": [
    "#### **T18) What is the average rating given by each sommellier?**"
   ]
  },
  {
   "cell_type": "code",
   "execution_count": 150,
   "metadata": {
    "id": "96LQl3fbmrwh"
   },
   "outputs": [
    {
     "name": "stdout",
     "output_type": "stream",
     "text": [
      "Alexander Peartree 87.0\n",
      "Anna Lee C. Iijima 89.83333333333333\n",
      "Anne Krebiehl 89.63157894736842\n",
      "Jeff Jenssen 93.0\n",
      "Jim Gordon 90.0\n",
      "Joe Czerwinski 90.44117647058823\n",
      "Kerin O Keefe 89.27272727272727\n",
      "Lauren Buzzeo 88.85714285714286\n",
      "Matt Kettmann 90.36363636363636\n",
      "Michael Schachner 87.56756756756756\n",
      "Mike DeSimone 90.0\n",
      "Paul Gregutt 89.05882352941177\n",
      "Roger Voss 89.27397260273973\n",
      "Sean P. Sullivan 88.80555555555556\n",
      "Susan Kostrzewa 86.375\n",
      "Virginie Boone 89.87142857142857\n"
     ]
    }
   ],
   "source": [
    "sommellier_names = np.unique(data['tasterName'])\n",
    "sommellier = [data[data['tasterName'] == name] for name in sommellier_names]\n",
    "for taster in sommellier:\n",
    "    print(taster[0]['tasterName'], np.mean(taster['points']))"
   ]
  },
  {
   "cell_type": "markdown",
   "metadata": {
    "id": "_l0usG5zq7gF"
   },
   "source": [
    "#### **T19) Who is the sommellier with the highest average rating and how many reviews has he/she written?**"
   ]
  },
  {
   "cell_type": "code",
   "execution_count": 178,
   "metadata": {
    "id": "GLaY3fMUpW-g"
   },
   "outputs": [
    {
     "ename": "TypeError",
     "evalue": "'>' not supported between instances of 'numpy.ndarray' and 'numpy.ndarray'",
     "output_type": "error",
     "traceback": [
      "\u001b[0;31m---------------------------------------------------------------------------\u001b[0m",
      "\u001b[0;31mTypeError\u001b[0m                                 Traceback (most recent call last)",
      "\u001b[0;32m<ipython-input-178-eb335cf4839b>\u001b[0m in \u001b[0;36m<module>\u001b[0;34m\u001b[0m\n\u001b[0;32m----> 1\u001b[0;31m \u001b[0mtaster_index\u001b[0m \u001b[0;34m=\u001b[0m \u001b[0mnp\u001b[0m\u001b[0;34m.\u001b[0m\u001b[0margmax\u001b[0m\u001b[0;34m(\u001b[0m\u001b[0msommellier\u001b[0m\u001b[0;34m)\u001b[0m\u001b[0;34m\u001b[0m\u001b[0;34m\u001b[0m\u001b[0m\n\u001b[0m\u001b[1;32m      2\u001b[0m \u001b[0mtaster_name\u001b[0m \u001b[0;34m=\u001b[0m \u001b[0msommellier\u001b[0m\u001b[0;34m[\u001b[0m\u001b[0mtaster_index\u001b[0m\u001b[0;34m]\u001b[0m\u001b[0;34m[\u001b[0m\u001b[0;34m'tasterName'\u001b[0m\u001b[0;34m]\u001b[0m\u001b[0;34m\u001b[0m\u001b[0;34m\u001b[0m\u001b[0m\n\u001b[1;32m      3\u001b[0m \u001b[0mtaster_name\u001b[0m\u001b[0;34m,\u001b[0m \u001b[0mdata\u001b[0m\u001b[0;34m[\u001b[0m\u001b[0mdata\u001b[0m\u001b[0;34m[\u001b[0m\u001b[0;34m'tasterName'\u001b[0m\u001b[0;34m]\u001b[0m \u001b[0;34m==\u001b[0m \u001b[0mtaster_name\u001b[0m\u001b[0;34m]\u001b[0m\u001b[0;34m.\u001b[0m\u001b[0msize\u001b[0m\u001b[0;34m\u001b[0m\u001b[0;34m\u001b[0m\u001b[0m\n",
      "\u001b[0;32m<__array_function__ internals>\u001b[0m in \u001b[0;36margmax\u001b[0;34m(*args, **kwargs)\u001b[0m\n",
      "\u001b[0;32m~/.local/lib/python3.8/site-packages/numpy/core/fromnumeric.py\u001b[0m in \u001b[0;36margmax\u001b[0;34m(a, axis, out)\u001b[0m\n\u001b[1;32m   1186\u001b[0m \u001b[0;34m\u001b[0m\u001b[0m\n\u001b[1;32m   1187\u001b[0m     \"\"\"\n\u001b[0;32m-> 1188\u001b[0;31m     \u001b[0;32mreturn\u001b[0m \u001b[0m_wrapfunc\u001b[0m\u001b[0;34m(\u001b[0m\u001b[0ma\u001b[0m\u001b[0;34m,\u001b[0m \u001b[0;34m'argmax'\u001b[0m\u001b[0;34m,\u001b[0m \u001b[0maxis\u001b[0m\u001b[0;34m=\u001b[0m\u001b[0maxis\u001b[0m\u001b[0;34m,\u001b[0m \u001b[0mout\u001b[0m\u001b[0;34m=\u001b[0m\u001b[0mout\u001b[0m\u001b[0;34m)\u001b[0m\u001b[0;34m\u001b[0m\u001b[0;34m\u001b[0m\u001b[0m\n\u001b[0m\u001b[1;32m   1189\u001b[0m \u001b[0;34m\u001b[0m\u001b[0m\n\u001b[1;32m   1190\u001b[0m \u001b[0;34m\u001b[0m\u001b[0m\n",
      "\u001b[0;32m~/.local/lib/python3.8/site-packages/numpy/core/fromnumeric.py\u001b[0m in \u001b[0;36m_wrapfunc\u001b[0;34m(obj, method, *args, **kwds)\u001b[0m\n\u001b[1;32m     53\u001b[0m     \u001b[0mbound\u001b[0m \u001b[0;34m=\u001b[0m \u001b[0mgetattr\u001b[0m\u001b[0;34m(\u001b[0m\u001b[0mobj\u001b[0m\u001b[0;34m,\u001b[0m \u001b[0mmethod\u001b[0m\u001b[0;34m,\u001b[0m \u001b[0;32mNone\u001b[0m\u001b[0;34m)\u001b[0m\u001b[0;34m\u001b[0m\u001b[0;34m\u001b[0m\u001b[0m\n\u001b[1;32m     54\u001b[0m     \u001b[0;32mif\u001b[0m \u001b[0mbound\u001b[0m \u001b[0;32mis\u001b[0m \u001b[0;32mNone\u001b[0m\u001b[0;34m:\u001b[0m\u001b[0;34m\u001b[0m\u001b[0;34m\u001b[0m\u001b[0m\n\u001b[0;32m---> 55\u001b[0;31m         \u001b[0;32mreturn\u001b[0m \u001b[0m_wrapit\u001b[0m\u001b[0;34m(\u001b[0m\u001b[0mobj\u001b[0m\u001b[0;34m,\u001b[0m \u001b[0mmethod\u001b[0m\u001b[0;34m,\u001b[0m \u001b[0;34m*\u001b[0m\u001b[0margs\u001b[0m\u001b[0;34m,\u001b[0m \u001b[0;34m**\u001b[0m\u001b[0mkwds\u001b[0m\u001b[0;34m)\u001b[0m\u001b[0;34m\u001b[0m\u001b[0;34m\u001b[0m\u001b[0m\n\u001b[0m\u001b[1;32m     56\u001b[0m \u001b[0;34m\u001b[0m\u001b[0m\n\u001b[1;32m     57\u001b[0m     \u001b[0;32mtry\u001b[0m\u001b[0;34m:\u001b[0m\u001b[0;34m\u001b[0m\u001b[0;34m\u001b[0m\u001b[0m\n",
      "\u001b[0;32m~/.local/lib/python3.8/site-packages/numpy/core/fromnumeric.py\u001b[0m in \u001b[0;36m_wrapit\u001b[0;34m(obj, method, *args, **kwds)\u001b[0m\n\u001b[1;32m     42\u001b[0m     \u001b[0;32mexcept\u001b[0m \u001b[0mAttributeError\u001b[0m\u001b[0;34m:\u001b[0m\u001b[0;34m\u001b[0m\u001b[0;34m\u001b[0m\u001b[0m\n\u001b[1;32m     43\u001b[0m         \u001b[0mwrap\u001b[0m \u001b[0;34m=\u001b[0m \u001b[0;32mNone\u001b[0m\u001b[0;34m\u001b[0m\u001b[0;34m\u001b[0m\u001b[0m\n\u001b[0;32m---> 44\u001b[0;31m     \u001b[0mresult\u001b[0m \u001b[0;34m=\u001b[0m \u001b[0mgetattr\u001b[0m\u001b[0;34m(\u001b[0m\u001b[0masarray\u001b[0m\u001b[0;34m(\u001b[0m\u001b[0mobj\u001b[0m\u001b[0;34m)\u001b[0m\u001b[0;34m,\u001b[0m \u001b[0mmethod\u001b[0m\u001b[0;34m)\u001b[0m\u001b[0;34m(\u001b[0m\u001b[0;34m*\u001b[0m\u001b[0margs\u001b[0m\u001b[0;34m,\u001b[0m \u001b[0;34m**\u001b[0m\u001b[0mkwds\u001b[0m\u001b[0;34m)\u001b[0m\u001b[0;34m\u001b[0m\u001b[0;34m\u001b[0m\u001b[0m\n\u001b[0m\u001b[1;32m     45\u001b[0m     \u001b[0;32mif\u001b[0m \u001b[0mwrap\u001b[0m\u001b[0;34m:\u001b[0m\u001b[0;34m\u001b[0m\u001b[0;34m\u001b[0m\u001b[0m\n\u001b[1;32m     46\u001b[0m         \u001b[0;32mif\u001b[0m \u001b[0;32mnot\u001b[0m \u001b[0misinstance\u001b[0m\u001b[0;34m(\u001b[0m\u001b[0mresult\u001b[0m\u001b[0;34m,\u001b[0m \u001b[0mmu\u001b[0m\u001b[0;34m.\u001b[0m\u001b[0mndarray\u001b[0m\u001b[0;34m)\u001b[0m\u001b[0;34m:\u001b[0m\u001b[0;34m\u001b[0m\u001b[0;34m\u001b[0m\u001b[0m\n",
      "\u001b[0;31mTypeError\u001b[0m: '>' not supported between instances of 'numpy.ndarray' and 'numpy.ndarray'"
     ]
    }
   ],
   "source": [
    "taster_index = np.mean(ratings sommellier)\n",
    "taster_name = sommellier[taster_index]['tasterName']\n",
    "taster_name, data[data['tasterName'] == taster_name].size"
   ]
  },
  {
   "cell_type": "markdown",
   "metadata": {
    "id": "jN4kBXdBG9vB"
   },
   "source": [
    "#### **T20) Which US province has received the highest number of wine reviews?**"
   ]
  },
  {
   "cell_type": "code",
   "execution_count": 169,
   "metadata": {
    "id": "g-PRpYCDG68v"
   },
   "outputs": [
    {
     "data": {
      "text/plain": [
       "'California'"
      ]
     },
     "execution_count": 169,
     "metadata": {},
     "output_type": "execute_result"
    }
   ],
   "source": [
    "us_provinces = data[data['country'] == 'US']['province']\n",
    "provinces = np.unique(us_provinces, return_counts=True)\n",
    "provinces[0][np.argmax(provinces[1])]"
   ]
  },
  {
   "cell_type": "markdown",
   "metadata": {
    "id": "XeMozoICKw4v"
   },
   "source": [
    "#### **T21) Who are the sommelliers with no rating above 90?**\n",
    "\n",
    "* Hint: You may want to look at https://jakevdp.github.io/PythonDataScienceHandbook/02.06-boolean-arrays-and-masks.html#Counting-entries"
   ]
  },
  {
   "cell_type": "code",
   "execution_count": 179,
   "metadata": {
    "id": "XpQQuqZbJ804"
   },
   "outputs": [
    {
     "data": {
      "text/plain": [
       "[87, 97, 92, 96, 93, 100, 97, 92, 93, 93, 90, 95, 96, 93, 89, 96]"
      ]
     },
     "execution_count": 179,
     "metadata": {},
     "output_type": "execute_result"
    }
   ],
   "source": [
    "#sommellier[np.max(sommellier['points']) < 90]\n",
    "[np.max(taster['points']) for taster in sommellier]"
   ]
  },
  {
   "cell_type": "markdown",
   "metadata": {
    "id": "pXHL1Hu9aSZd"
   },
   "source": [
    "### Ideas for practicing further at home\n",
    "\n",
    "* Find the tasters (sommellier) who provided the most reviews and the highest\n",
    "* Find which is the winery that received the highest number of independent reviews\n",
    "* Find the average rating of each winery, and the wineries with the highest and lowest average ratings"
   ]
  }
 ],
 "metadata": {
  "colab": {
   "collapsed_sections": [],
   "name": "DAT1-Practical3-Questions.ipynb",
   "provenance": []
  },
  "kernelspec": {
   "display_name": "Python 3",
   "language": "python",
   "name": "python3"
  },
  "language_info": {
   "codemirror_mode": {
    "name": "ipython",
    "version": 3
   },
   "file_extension": ".py",
   "mimetype": "text/x-python",
   "name": "python",
   "nbconvert_exporter": "python",
   "pygments_lexer": "ipython3",
   "version": "3.8.5"
  }
 },
 "nbformat": 4,
 "nbformat_minor": 1
}
