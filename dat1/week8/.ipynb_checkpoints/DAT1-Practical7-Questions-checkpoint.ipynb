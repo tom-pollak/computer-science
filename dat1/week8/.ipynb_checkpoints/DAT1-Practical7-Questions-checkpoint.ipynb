{
 "cells": [
  {
   "cell_type": "markdown",
   "metadata": {
    "id": "i9yJTBpDRfM-"
   },
   "source": [
    "# DATA 1 Practical 7\n",
    "\n",
    "Simos Gerasimou\n",
    "\n",
    "\n",
    "## A Data Journey In Probability Distributions and Data Analysis\n",
    "\n",
    "**Pandas API Reference**: https://pandas.pydata.org/pandas-docs/stable/reference/index.html\n",
    "\n",
    "**Matplotlib API Reference**: https://matplotlib.org/stable/api/index.html\n",
    "\n",
    "**Seaborn API Reference**: https://seaborn.pydata.org/api.html\n",
    "\n",
    "**Scipy Stats**: https://docs.scipy.org/doc/scipy/reference/tutorial/stats.html\n",
    "\n",
    "***"
   ]
  },
  {
   "cell_type": "code",
   "execution_count": 1,
   "metadata": {
    "executionInfo": {
     "elapsed": 805,
     "status": "ok",
     "timestamp": 1614478545455,
     "user": {
      "displayName": "Simos Gerasimou",
      "photoUrl": "https://lh3.googleusercontent.com/a-/AOh14GiyuWEDBGgnFKbsa3BAO5bWW-MwC5_V7MnUQz5JiA=s64",
      "userId": "13902192774339425778"
     },
     "user_tz": 0
    },
    "id": "51JrQeV_jEtR"
   },
   "outputs": [],
   "source": [
    "import numpy as np\n",
    "import matplotlib.pyplot as plt\n",
    "import seaborn as sns\n",
    "from scipy import stats\n",
    "import math as m"
   ]
  },
  {
   "cell_type": "markdown",
   "metadata": {
    "deletable": false,
    "editable": false,
    "id": "FtvRwkNxRfNd",
    "run_control": {
     "frozen": true
    }
   },
   "source": [
    "***\n",
    "\n",
    "## **Part A': The Normal Distribution**\n",
    "\n",
    "\n",
    "**TA1) A radar unit in a residential area in York measures the speed of cars and found that the speeds are normally distributed with $X\\sim N(33, 1.5^2)$.**\n",
    "\n",
    "**Visualise the probability density function using the information collected, assuming that the range of collected speeds is [26, 40] m/h**\n",
    "\n",
    "* Add suitable title and axis names\n",
    "\n",
    "**Hint**: You may want to check: https://docs.scipy.org/doc/scipy/reference/generated/scipy.stats.norm.html\n"
   ]
  },
  {
   "cell_type": "code",
   "execution_count": 2,
   "metadata": {
    "executionInfo": {
     "elapsed": 797,
     "status": "ok",
     "timestamp": 1614478545457,
     "user": {
      "displayName": "Simos Gerasimou",
      "photoUrl": "https://lh3.googleusercontent.com/a-/AOh14GiyuWEDBGgnFKbsa3BAO5bWW-MwC5_V7MnUQz5JiA=s64",
      "userId": "13902192774339425778"
     },
     "user_tz": 0
    },
    "id": "yG2EggY-f6w4"
   },
   "outputs": [
    {
     "data": {
      "image/png": "[encoded data removed]",
      "text/plain": [
       "<Figure size 432x288 with 1 Axes>"
      ]
     },
     "metadata": {
      "needs_background": "light"
     },
     "output_type": "display_data"
    }
   ],
   "source": [
    "x = np.linspace(26, 40, 1000)\n",
    "pdf = stats.norm.pdf(x, 33, 1.5)\n",
    "plt.plot(x, pdf)\n",
    "plt.legend(['Car speeds'], loc='upper right')\n",
    "plt.xlabel('Speed (mph)')\n",
    "plt.ylabel('Probability density')\n",
    "plt.show()"
   ]
  },
  {
   "cell_type": "markdown",
   "metadata": {
    "id": "NMiG4VGKg-pL"
   },
   "source": [
    "**TA2) Following from TA1, use the PDF definition of the normal distribution to construct and visualise the PDF. What do you expect?**"
   ]
  },
  {
   "cell_type": "code",
   "execution_count": null,
   "metadata": {
    "executionInfo": {
     "elapsed": 790,
     "status": "ok",
     "timestamp": 1614478545458,
     "user": {
      "displayName": "Simos Gerasimou",
      "photoUrl": "https://lh3.googleusercontent.com/a-/AOh14GiyuWEDBGgnFKbsa3BAO5bWW-MwC5_V7MnUQz5JiA=s64",
      "userId": "13902192774339425778"
     },
     "user_tz": 0
    },
    "id": "Z0c6JhzCh_a0"
   },
   "outputs": [],
   "source": []
  },
  {
   "cell_type": "markdown",
   "metadata": {
    "id": "yZpEgdOSlNIA"
   },
   "source": [
    "**TA3) What is the probability that a car picked at random is travelling at more than 34 m/hr?**"
   ]
  },
  {
   "cell_type": "code",
   "execution_count": 3,
   "metadata": {
    "executionInfo": {
     "elapsed": 784,
     "status": "ok",
     "timestamp": 1614478545459,
     "user": {
      "displayName": "Simos Gerasimou",
      "photoUrl": "https://lh3.googleusercontent.com/a-/AOh14GiyuWEDBGgnFKbsa3BAO5bWW-MwC5_V7MnUQz5JiA=s64",
      "userId": "13902192774339425778"
     },
     "user_tz": 0
    },
    "id": "AIp_R50TlMvg"
   },
   "outputs": [
    {
     "data": {
      "text/plain": [
       "0.2524925375469229"
      ]
     },
     "execution_count": 3,
     "metadata": {},
     "output_type": "execute_result"
    }
   ],
   "source": [
    "1 - stats.norm(33, 1.5).cdf(34)"
   ]
  },
  {
   "cell_type": "markdown",
   "metadata": {
    "id": "7rjUFYXtmW09"
   },
   "source": [
    "**TA4) Visualise the cumulative distribution function for this problem $𝑋∼𝑁(33,1.5)$ and shade the area that corresponds to the answer from task TA3**\n",
    "\n",
    "**Hint**: You may want to check: https://docs.scipy.org/doc/scipy/reference/generated/scipy.stats.norm.html\n",
    "\n",
    "\n",
    "* To construct the CDF you can either generate the values for a desired x range or construct the CDF empirically through sampling from the distribution\n",
    "* To shade the area you may want to check https://matplotlib.org/3.3.4/api/_as_gen/matplotlib.axes.Axes.fill_between.html#matplotlib.axes.Axes.fill_between "
   ]
  },
  {
   "cell_type": "code",
   "execution_count": 4,
   "metadata": {
    "executionInfo": {
     "elapsed": 779,
     "status": "ok",
     "timestamp": 1614478545462,
     "user": {
      "displayName": "Simos Gerasimou",
      "photoUrl": "https://lh3.googleusercontent.com/a-/AOh14GiyuWEDBGgnFKbsa3BAO5bWW-MwC5_V7MnUQz5JiA=s64",
      "userId": "13902192774339425778"
     },
     "user_tz": 0
    },
    "id": "smY0PJEfu5LL"
   },
   "outputs": [
    {
     "data": {
      "image/png": "[encoded data removed]",
      "text/plain": [
       "<Figure size 432x288 with 1 Axes>"
      ]
     },
     "metadata": {
      "needs_background": "light"
     },
     "output_type": "display_data"
    }
   ],
   "source": [
    "x = np.linspace(26, 40, 1000)\n",
    "fig, ax = plt.subplots()\n",
    "plt.plot(x, stats.norm.pdf(x, 33, 1.5))\n",
    "px = np.arange(34, 40, .01)\n",
    "\n",
    "x, y = ax.get_lines()[0].get_data()\n",
    "mask = x > 34\n",
    "x, y = x[mask], y[mask]\n",
    "\n",
    "ax.fill_between(x, y1=y)\n",
    "plt.show()"
   ]
  },
  {
   "cell_type": "markdown",
   "metadata": {
    "id": "mJdMyJwz3kB0"
   },
   "source": [
    "**TA5) Generate 2000 samples from the distribution $𝑋∼𝑁(33,1.5)$**\n"
   ]
  },
  {
   "cell_type": "code",
   "execution_count": 5,
   "metadata": {
    "executionInfo": {
     "elapsed": 775,
     "status": "ok",
     "timestamp": 1614478545463,
     "user": {
      "displayName": "Simos Gerasimou",
      "photoUrl": "https://lh3.googleusercontent.com/a-/AOh14GiyuWEDBGgnFKbsa3BAO5bWW-MwC5_V7MnUQz5JiA=s64",
      "userId": "13902192774339425778"
     },
     "user_tz": 0
    },
    "id": "Sqi6edKz3r79"
   },
   "outputs": [],
   "source": [
    "samples = np.random.normal(33, 1.5, 2000)"
   ]
  },
  {
   "cell_type": "markdown",
   "metadata": {
    "id": "Pe7knJ8FwmRO"
   },
   "source": [
    "**TA6) Transform the samples from task TA5 into the standard normal distribution and visualise it**\n",
    "\n",
    "* **Compare its shape with those derived in tasks TA1 and TA2**\n"
   ]
  },
  {
   "cell_type": "code",
   "execution_count": 6,
   "metadata": {
    "executionInfo": {
     "elapsed": 771,
     "status": "ok",
     "timestamp": 1614478545466,
     "user": {
      "displayName": "Simos Gerasimou",
      "photoUrl": "https://lh3.googleusercontent.com/a-/AOh14GiyuWEDBGgnFKbsa3BAO5bWW-MwC5_V7MnUQz5JiA=s64",
      "userId": "13902192774339425778"
     },
     "user_tz": 0
    },
    "id": "eH9r0z0hwyHB"
   },
   "outputs": [
    {
     "data": {
      "image/png": "[encoded data removed]",
      "text/plain": [
       "<Figure size 432x288 with 1 Axes>"
      ]
     },
     "metadata": {
      "needs_background": "light"
     },
     "output_type": "display_data"
    }
   ],
   "source": [
    "plt.hist(samples, bins=np.arange(26, 40, .25))\n",
    "plt.show()"
   ]
  },
  {
   "cell_type": "markdown",
   "metadata": {
    "id": "Vh1V_Wa9Z5hD"
   },
   "source": [
    "**TA7) Find the z scores for x=34 and x=30 and explain their meaning.**\n"
   ]
  },
  {
   "cell_type": "code",
   "execution_count": 7,
   "metadata": {
    "executionInfo": {
     "elapsed": 442,
     "status": "ok",
     "timestamp": 1614479075068,
     "user": {
      "displayName": "Simos Gerasimou",
      "photoUrl": "https://lh3.googleusercontent.com/a-/AOh14GiyuWEDBGgnFKbsa3BAO5bWW-MwC5_V7MnUQz5JiA=s64",
      "userId": "13902192774339425778"
     },
     "user_tz": 0
    },
    "id": "tE0eGxOLRfNd"
   },
   "outputs": [
    {
     "data": {
      "text/plain": [
       "(0.6666666666666666, -2.0)"
      ]
     },
     "execution_count": 7,
     "metadata": {},
     "output_type": "execute_result"
    }
   ],
   "source": [
    "z = lambda x, mu, std: (x - mu) / std\n",
    "z(34, 33, 1.5), z(30, 33, 1.5)\n",
    "# how many std deviation away from the mean"
   ]
  },
  {
   "cell_type": "markdown",
   "metadata": {
    "deletable": false,
    "editable": false,
    "id": "Buu9f01hRfNe",
    "run_control": {
     "frozen": true
    }
   },
   "source": [
    "**The final exam scores in the Machine Learning 101 module were normally distributed with a mean of 63 and a standard deviation of 5.**\n",
    "\n",
    "**TA8i)  What is the probability that a randomly selected student scored more than 45 on the exam? You must show your calculations and you may use the Z table at** http://www.z-table.com"
   ]
  },
  {
   "cell_type": "code",
   "execution_count": 8,
   "metadata": {
    "executionInfo": {
     "elapsed": 763,
     "status": "ok",
     "timestamp": 1614478545468,
     "user": {
      "displayName": "Simos Gerasimou",
      "photoUrl": "https://lh3.googleusercontent.com/a-/AOh14GiyuWEDBGgnFKbsa3BAO5bWW-MwC5_V7MnUQz5JiA=s64",
      "userId": "13902192774339425778"
     },
     "user_tz": 0
    },
    "id": "AFi4zFm8VWC9"
   },
   "outputs": [
    {
     "data": {
      "text/plain": [
       "0.9998408914098424"
      ]
     },
     "execution_count": 8,
     "metadata": {},
     "output_type": "execute_result"
    }
   ],
   "source": [
    "1 - stats.norm.cdf(45, 63, 5)"
   ]
  },
  {
   "cell_type": "markdown",
   "metadata": {
    "id": "Yuy03aOwVXJ3"
   },
   "source": [
    "**TA8ii) What is the probability of randomly selecting a student with score less than 85?**\n"
   ]
  },
  {
   "cell_type": "code",
   "execution_count": 9,
   "metadata": {
    "executionInfo": {
     "elapsed": 1181,
     "status": "ok",
     "timestamp": 1614478545893,
     "user": {
      "displayName": "Simos Gerasimou",
      "photoUrl": "https://lh3.googleusercontent.com/a-/AOh14GiyuWEDBGgnFKbsa3BAO5bWW-MwC5_V7MnUQz5JiA=s64",
      "userId": "13902192774339425778"
     },
     "user_tz": 0
    },
    "id": "MHYBBgzERfNf"
   },
   "outputs": [
    {
     "data": {
      "text/plain": [
       "5.412543907734602e-06"
      ]
     },
     "execution_count": 9,
     "metadata": {},
     "output_type": "execute_result"
    }
   ],
   "source": [
    "1 - stats.norm.cdf(85, 63, 5)"
   ]
  },
  {
   "cell_type": "markdown",
   "metadata": {
    "deletable": false,
    "editable": false,
    "id": "TTPSYHiHRfNf",
    "run_control": {
     "frozen": true
    }
   },
   "source": [
    "**The average number of hours a household personal computer is used for entertainment is two hours per day. Assume the times for entertainment are normally distributed and the standard deviation for the times is half an hour.**\n",
    "\n",
    "**TA9i) Find the probability that a household personal computer is used for entertainment between 1.8 and 2.75 hours per day.**"
   ]
  },
  {
   "cell_type": "code",
   "execution_count": 10,
   "metadata": {
    "executionInfo": {
     "elapsed": 1179,
     "status": "ok",
     "timestamp": 1614478545896,
     "user": {
      "displayName": "Simos Gerasimou",
      "photoUrl": "https://lh3.googleusercontent.com/a-/AOh14GiyuWEDBGgnFKbsa3BAO5bWW-MwC5_V7MnUQz5JiA=s64",
      "userId": "13902192774339425778"
     },
     "user_tz": 0
    },
    "id": "60G70hFJRfNf"
   },
   "outputs": [
    {
     "data": {
      "text/plain": [
       "0.588614540341466"
      ]
     },
     "execution_count": 10,
     "metadata": {},
     "output_type": "execute_result"
    }
   ],
   "source": [
    "stats.norm.cdf(2.75, 2, .5) - stats.norm.cdf(1.8, 2, .5)"
   ]
  },
  {
   "cell_type": "markdown",
   "metadata": {
    "deletable": false,
    "editable": false,
    "id": "x5Wip4NKRfNh",
    "run_control": {
     "frozen": true
    }
   },
   "source": [
    "**TA9ii) Find the maximum number of hours per day that the lower quartile of households uses a personal computer for entertainment.**"
   ]
  },
  {
   "cell_type": "code",
   "execution_count": 11,
   "metadata": {
    "executionInfo": {
     "elapsed": 1175,
     "status": "ok",
     "timestamp": 1614478545897,
     "user": {
      "displayName": "Simos Gerasimou",
      "photoUrl": "https://lh3.googleusercontent.com/a-/AOh14GiyuWEDBGgnFKbsa3BAO5bWW-MwC5_V7MnUQz5JiA=s64",
      "userId": "13902192774339425778"
     },
     "user_tz": 0
    },
    "id": "E5TpMgvhRfNi"
   },
   "outputs": [
    {
     "data": {
      "text/plain": [
       "1.6627551249019592"
      ]
     },
     "execution_count": 11,
     "metadata": {},
     "output_type": "execute_result"
    }
   ],
   "source": [
    "# inverse z score\n",
    "stats.norm.ppf(.25) * .5 + 2"
   ]
  },
  {
   "cell_type": "markdown",
   "metadata": {
    "deletable": false,
    "editable": false,
    "id": "Efmn1dNdRfNj",
    "run_control": {
     "frozen": true
    }
   },
   "source": [
    "**A citrus farmer who grows oranges finds that the diameters of mandarin oranges harvested on his farm follow a normal distribution with a mean diameter of 5.85 cm and a standard deviation of 0.24 cm.**\n",
    "\n",
    "**TA10i) Find the probability that a randomly selected orange from this farm has a diameter larger than 6.0 cm. Also, plot the density curve with the area covered by the probability shaded.**\n",
    "\n",
    "* Hint: You might want to check how to draw random samples using numpy https://docs.scipy.org/doc/numpy-1.15.0/reference/generated/numpy.random.normal.html\n",
    "* Hint: The following code snippet might be useful\n",
    "\n",
    "```python\n",
    "ax = sns.kdeplot(dist, shade=True)\n",
    "line = ax.get_lines()[-1]\n",
    "x, y = line.get_data()\n",
    "mask = x > 0\n",
    "x, y = x[mask], y[mask]\n",
    "ax.fill_between(x, y1=y, alpha=0.5, facecolor='red')\n",
    "```\n"
   ]
  },
  {
   "cell_type": "code",
   "execution_count": 12,
   "metadata": {
    "executionInfo": {
     "elapsed": 1172,
     "status": "ok",
     "timestamp": 1614478545898,
     "user": {
      "displayName": "Simos Gerasimou",
      "photoUrl": "https://lh3.googleusercontent.com/a-/AOh14GiyuWEDBGgnFKbsa3BAO5bWW-MwC5_V7MnUQz5JiA=s64",
      "userId": "13902192774339425778"
     },
     "user_tz": 0
    },
    "id": "3Rk424f_RfNk"
   },
   "outputs": [
    {
     "data": {
      "text/plain": [
       "0.2659855290487"
      ]
     },
     "execution_count": 12,
     "metadata": {},
     "output_type": "execute_result"
    },
    {
     "data": {
      "image/png": "[encoded data removed]",
      "text/plain": [
       "<Figure size 432x288 with 1 Axes>"
      ]
     },
     "metadata": {
      "needs_background": "light"
     },
     "output_type": "display_data"
    }
   ],
   "source": [
    "samples = np.random.normal(5.85, 0.24, 100000)\n",
    "ax = sns.kdeplot(samples)\n",
    "x, y = ax.get_lines()[0].get_data()\n",
    "\n",
    "mask = x > 6\n",
    "x, y = x[mask], y[mask]\n",
    "ax.fill_between(x, y1=y, alpha=0.5, facecolor='red')\n",
    "\n",
    "\n",
    "#px = np.arange(6, 7, .01)\n",
    "#ax.fill_between(px, stats.norm.pdf(px, 5.85, 0.24))\n",
    "\n",
    "1 - stats.norm.cdf(6, 5.85, 0.24)"
   ]
  },
  {
   "cell_type": "markdown",
   "metadata": {
    "deletable": false,
    "editable": false,
    "id": "30tKwLR6RfNl",
    "run_control": {
     "frozen": true
    }
   },
   "source": [
    "**TA10ii) Calculate the middle 20% of oranges from the farm. Also, plot the density curve with the area covered by the probability shaded.**"
   ]
  },
  {
   "cell_type": "code",
   "execution_count": 13,
   "metadata": {
    "executionInfo": {
     "elapsed": 1169,
     "status": "ok",
     "timestamp": 1614478545901,
     "user": {
      "displayName": "Simos Gerasimou",
      "photoUrl": "https://lh3.googleusercontent.com/a-/AOh14GiyuWEDBGgnFKbsa3BAO5bWW-MwC5_V7MnUQz5JiA=s64",
      "userId": "13902192774339425778"
     },
     "user_tz": 0
    },
    "id": "PNdABRxkRfNl"
   },
   "outputs": [
    {
     "data": {
      "text/plain": [
       "<matplotlib.collections.PolyCollection at 0x7feee5f02ac0>"
      ]
     },
     "execution_count": 13,
     "metadata": {},
     "output_type": "execute_result"
    },
    {
     "data": {
      "image/png": "[encoded data removed]",
      "text/plain": [
       "<Figure size 432x288 with 1 Axes>"
      ]
     },
     "metadata": {
      "needs_background": "light"
     },
     "output_type": "display_data"
    }
   ],
   "source": [
    "samples = np.random.normal(5.85, 0.24, 100000)\n",
    "ax = sns.kdeplot(samples)\n",
    "x, y = ax.get_lines()[0].get_data()\n",
    "\n",
    "lower = stats.norm.ppf(.4) * .24 + 5.85\n",
    "upper = stats.norm.ppf(.6) * .24 + 5.85\n",
    "mask = (lower < x) & (x < upper)\n",
    "x, y = x[mask], y[mask]\n",
    "\n",
    "ax.fill_between(x, y1=y, alpha=0.5, facecolor='red')"
   ]
  },
  {
   "cell_type": "markdown",
   "metadata": {
    "deletable": false,
    "editable": false,
    "id": "BkCwC1CXRfNm",
    "run_control": {
     "frozen": true
    }
   },
   "source": [
    "--- \n",
    "\n"
   ]
  },
  {
   "cell_type": "markdown",
   "metadata": {
    "deletable": false,
    "editable": false,
    "id": "4gTFDST9RfNJ",
    "run_control": {
     "frozen": true
    }
   },
   "source": [
    "## **Part B': Exponential Distribution**\n",
    "\n",
    "Nisa store at the University of York has recently installed self-checkout machines and the Nisa store manager wants to investigate the time spent by students waiting to be serviced. The manager expects that most students should be able to check out immediately with fewer students waiting for a successive time. \n",
    "\n",
    "He consults a statistician, whose advice was to model the waiting time at the store using an **exponential distribution** which enables to model the amount of waiting time until the next event with its formula given by $f(x;\\lambda) = \\lambda e ^{-\\lambda x}$, if $x \\geq 0$, where $\\lambda$ is the average rate of occurence per interval. For instance, if $u$ customers are serviced per hour the rate $\\lambda = u$.\n",
    "\n",
    "Based on some preliminary analysis of the log of the self-checkout machines, the manager has found that on average each machine services **15 customers per hour, i.e., $\\lambda=15$**.\n",
    "\n",
    "---\n",
    "\n",
    "**TB1)  Generate 10000 samples following the exponential distribution with $\\lambda=15$. Store this data in a list.**\n",
    "\n",
    "* **Hint**: You may want to look at https://docs.scipy.org/doc/scipy/reference/generated/scipy.stats.expon.html or https://numpy.org/doc/stable/reference/random/generated/numpy.random.exponential.html\n",
    "\n",
    "* **Check what information is required to model this event?#**\n"
   ]
  },
  {
   "cell_type": "code",
   "execution_count": 14,
   "metadata": {
    "executionInfo": {
     "elapsed": 1166,
     "status": "ok",
     "timestamp": 1614478545902,
     "user": {
      "displayName": "Simos Gerasimou",
      "photoUrl": "https://lh3.googleusercontent.com/a-/AOh14GiyuWEDBGgnFKbsa3BAO5bWW-MwC5_V7MnUQz5JiA=s64",
      "userId": "13902192774339425778"
     },
     "user_tz": 0
    },
    "id": "f_50oq95RfNM"
   },
   "outputs": [],
   "source": [
    "samples = np.random.exponential(15, 10000)"
   ]
  },
  {
   "cell_type": "markdown",
   "metadata": {
    "deletable": false,
    "editable": false,
    "id": "APC_Xp1xRfNN",
    "run_control": {
     "frozen": true
    }
   },
   "source": [
    "**TB2)  Print the mean of the generated data that is saved on the list.**\n"
   ]
  },
  {
   "cell_type": "code",
   "execution_count": 15,
   "metadata": {
    "executionInfo": {
     "elapsed": 1160,
     "status": "ok",
     "timestamp": 1614478545902,
     "user": {
      "displayName": "Simos Gerasimou",
      "photoUrl": "https://lh3.googleusercontent.com/a-/AOh14GiyuWEDBGgnFKbsa3BAO5bWW-MwC5_V7MnUQz5JiA=s64",
      "userId": "13902192774339425778"
     },
     "user_tz": 0
    },
    "id": "pfNI4LaGRfNP"
   },
   "outputs": [
    {
     "data": {
      "text/plain": [
       "15.054061176139472"
      ]
     },
     "execution_count": 15,
     "metadata": {},
     "output_type": "execute_result"
    }
   ],
   "source": [
    "samples.mean()"
   ]
  },
  {
   "cell_type": "markdown",
   "metadata": {
    "deletable": false,
    "editable": false,
    "id": "DN0fS9oMRfNR",
    "run_control": {
     "frozen": true
    }
   },
   "source": [
    "**TB3)  Plot the histogram of the generated data and the density plot. What is the shape of the distribution? Can you understand what it represents?**\n",
    "\n",
    "* **Note**: Spend some time to try and understand the distribution\n"
   ]
  },
  {
   "cell_type": "code",
   "execution_count": 16,
   "metadata": {
    "executionInfo": {
     "elapsed": 1154,
     "status": "ok",
     "timestamp": 1614478545903,
     "user": {
      "displayName": "Simos Gerasimou",
      "photoUrl": "https://lh3.googleusercontent.com/a-/AOh14GiyuWEDBGgnFKbsa3BAO5bWW-MwC5_V7MnUQz5JiA=s64",
      "userId": "13902192774339425778"
     },
     "user_tz": 0
    },
    "id": "6uG29MQrRfNT"
   },
   "outputs": [
    {
     "data": {
      "image/png": "[encoded data removed]",
      "text/plain": [
       "<Figure size 432x288 with 1 Axes>"
      ]
     },
     "metadata": {
      "needs_background": "light"
     },
     "output_type": "display_data"
    }
   ],
   "source": [
    "plt.hist(samples, bins=np.arange(0, 80, 1))\n",
    "plt.show()"
   ]
  },
  {
   "cell_type": "markdown",
   "metadata": {
    "deletable": false,
    "editable": false,
    "id": "jYOzyR9GRfNU",
    "run_control": {
     "frozen": true
    }
   },
   "source": [
    "**TB4) Plot again the density curve from the previous task. On the sample plot try to plot the curve as given by the definition of the exponential distribution. What do you expect the relationship between these two plot to be?**\n",
    "\n",
    "* **Hint**: Check the definition of the exponential distribution. What do you need to plot it?\n",
    "* **Hint**: Check the range of the values on the X axis"
   ]
  },
  {
   "cell_type": "code",
   "execution_count": 17,
   "metadata": {
    "executionInfo": {
     "elapsed": 1152,
     "status": "ok",
     "timestamp": 1614478545904,
     "user": {
      "displayName": "Simos Gerasimou",
      "photoUrl": "https://lh3.googleusercontent.com/a-/AOh14GiyuWEDBGgnFKbsa3BAO5bWW-MwC5_V7MnUQz5JiA=s64",
      "userId": "13902192774339425778"
     },
     "user_tz": 0
    },
    "id": "GfPr7A8cRfNW"
   },
   "outputs": [
    {
     "data": {
      "text/plain": [
       "[<matplotlib.lines.Line2D at 0x7feee5d9b5e0>]"
      ]
     },
     "execution_count": 17,
     "metadata": {},
     "output_type": "execute_result"
    },
    {
     "data": {
      "image/png": "[encoded data removed]",
      "text/plain": [
       "<Figure size 432x288 with 1 Axes>"
      ]
     },
     "metadata": {
      "needs_background": "light"
     },
     "output_type": "display_data"
    }
   ],
   "source": [
    "x = np.linspace(0, 80, 10000)\n",
    "plt.plot(x, stats.expon.pdf(x, 0, 15))"
   ]
  },
  {
   "cell_type": "markdown",
   "metadata": {
    "id": "ngXqUtDo2-UL"
   },
   "source": [
    "**TB5i) Calculate the probability that a customer will be serviced within 6 minutes**"
   ]
  },
  {
   "cell_type": "code",
   "execution_count": 18,
   "metadata": {
    "executionInfo": {
     "elapsed": 1149,
     "status": "ok",
     "timestamp": 1614478545904,
     "user": {
      "displayName": "Simos Gerasimou",
      "photoUrl": "https://lh3.googleusercontent.com/a-/AOh14GiyuWEDBGgnFKbsa3BAO5bWW-MwC5_V7MnUQz5JiA=s64",
      "userId": "13902192774339425778"
     },
     "user_tz": 0
    },
    "id": "rM7Q1NoS2982"
   },
   "outputs": [
    {
     "data": {
      "text/plain": [
       "0.3296799539643607"
      ]
     },
     "execution_count": 18,
     "metadata": {},
     "output_type": "execute_result"
    }
   ],
   "source": [
    "stats.expon.cdf(6, 0, 15)"
   ]
  },
  {
   "cell_type": "markdown",
   "metadata": {
    "id": "G3H7XtBXEwcn"
   },
   "source": [
    "**TB5ii) Calculate the probability that a customer may have to wait more than 10 minutes to be serviced**"
   ]
  },
  {
   "cell_type": "code",
   "execution_count": 19,
   "metadata": {
    "executionInfo": {
     "elapsed": 1145,
     "status": "ok",
     "timestamp": 1614478545905,
     "user": {
      "displayName": "Simos Gerasimou",
      "photoUrl": "https://lh3.googleusercontent.com/a-/AOh14GiyuWEDBGgnFKbsa3BAO5bWW-MwC5_V7MnUQz5JiA=s64",
      "userId": "13902192774339425778"
     },
     "user_tz": 0
    },
    "id": "TMyPS0_BE1VB"
   },
   "outputs": [
    {
     "data": {
      "text/plain": [
       "0.513417119032592"
      ]
     },
     "execution_count": 19,
     "metadata": {},
     "output_type": "execute_result"
    }
   ],
   "source": [
    "stats.expon.sf(10, 0, 15)"
   ]
  },
  {
   "cell_type": "markdown",
   "metadata": {
    "deletable": false,
    "editable": false,
    "id": "uiFSfAxBRfNX",
    "run_control": {
     "frozen": true
    }
   },
   "source": [
    "#### **TB6) Brain Teaser**\n",
    "\n",
    "**TB6i) Using the data generated in TB1, (i) generate and plot the density distribution of sample means over $k=20$ sampling times with $n=5$ (the sampling size).**\n",
    "\n",
    "* **Hint**:  \"Distribution of Sample Means\": Sample n items from a population (or a set), find the mean of those items and repeat k times\n",
    "* **Hint**: You might want to check how to select randomly from a set using Numpy"
   ]
  },
  {
   "cell_type": "code",
   "execution_count": 20,
   "metadata": {
    "executionInfo": {
     "elapsed": 1141,
     "status": "ok",
     "timestamp": 1614478545906,
     "user": {
      "displayName": "Simos Gerasimou",
      "photoUrl": "https://lh3.googleusercontent.com/a-/AOh14GiyuWEDBGgnFKbsa3BAO5bWW-MwC5_V7MnUQz5JiA=s64",
      "userId": "13902192774339425778"
     },
     "user_tz": 0
    },
    "id": "zC0QbH_6RfNX"
   },
   "outputs": [
    {
     "data": {
      "image/png": "[encoded data removed]",
      "text/plain": [
       "<Figure size 432x288 with 1 Axes>"
      ]
     },
     "metadata": {
      "needs_background": "light"
     },
     "output_type": "display_data"
    }
   ],
   "source": [
    "iter= (np.random.choice(samples, size=5, replace=False).mean() for _ in range(20))\n",
    "sample_means = np.fromiter(iter, float)\n",
    "plt.hist(sample_means)\n",
    "plt.show()"
   ]
  },
  {
   "cell_type": "markdown",
   "metadata": {
    "deletable": false,
    "editable": false,
    "id": "IYlpm1MlRfNZ",
    "run_control": {
     "frozen": true
    }
   },
   "source": [
    "**TB6ii) Repeat task TB6i with $n \\in \\{5, 20, 40\\}$. What do you observe as $n$ increases? Does the distribution of sample means look familiar?**"
   ]
  },
  {
   "cell_type": "code",
   "execution_count": 58,
   "metadata": {
    "executionInfo": {
     "elapsed": 1136,
     "status": "ok",
     "timestamp": 1614478545907,
     "user": {
      "displayName": "Simos Gerasimou",
      "photoUrl": "https://lh3.googleusercontent.com/a-/AOh14GiyuWEDBGgnFKbsa3BAO5bWW-MwC5_V7MnUQz5JiA=s64",
      "userId": "13902192774339425778"
     },
     "user_tz": 0
    },
    "id": "FbxopU_KRfNZ"
   },
   "outputs": [
    {
     "data": {
      "image/png": "[encoded data removed]",
      "text/plain": [
       "<Figure size 432x288 with 3 Axes>"
      ]
     },
     "metadata": {
      "needs_background": "light"
     },
     "output_type": "display_data"
    }
   ],
   "source": [
    "iterable = (lambda x: (np.random.choice(samples, size=x, replace=False).mean() for _ in range(20)))\n",
    "sample_sizes = (5, 20, 40)\n",
    "sample_means = tuple(np.fromiter(iterable(x), float) for x in sample_sizes)\n",
    "\n",
    "fig, ax = plt.subplots(1, 3, sharex=True, sharey=True)\n",
    "\n",
    "for i, a in enumerate(ax):\n",
    "    a.hist(sample_means[i])\n",
    "    a.set_title('n=%s' % sample_sizes[i])"
   ]
  },
  {
   "cell_type": "markdown",
   "metadata": {
    "deletable": false,
    "editable": false,
    "id": "dj_Mcw-iRfNb",
    "run_control": {
     "frozen": true
    }
   },
   "source": [
    "**TB6iii) Repeat task TB6i with  $n=50$ and $k \\in \\{5, 20,50\\}$. What do you observe as $k$ increases? Does the distribution of sample means look familiar?**"
   ]
  },
  {
   "cell_type": "code",
   "execution_count": 60,
   "metadata": {
    "executionInfo": {
     "elapsed": 1134,
     "status": "ok",
     "timestamp": 1614478545908,
     "user": {
      "displayName": "Simos Gerasimou",
      "photoUrl": "https://lh3.googleusercontent.com/a-/AOh14GiyuWEDBGgnFKbsa3BAO5bWW-MwC5_V7MnUQz5JiA=s64",
      "userId": "13902192774339425778"
     },
     "user_tz": 0
    },
    "id": "s3F2tXpoRfNc"
   },
   "outputs": [
    {
     "data": {
      "image/png": "[encoded data removed]",
      "text/plain": [
       "<Figure size 432x288 with 3 Axes>"
      ]
     },
     "metadata": {
      "needs_background": "light"
     },
     "output_type": "display_data"
    }
   ],
   "source": [
    "iterable = (lambda x: (np.random.choice(samples, size=50, replace=False).mean() for _ in range(x)))\n",
    "sample_sizes = (5, 20, 50)\n",
    "sample_means = tuple(np.fromiter(iterable(x), float) for x in sample_sizes)\n",
    "\n",
    "fig, ax = plt.subplots(1, 3, sharex=True, sharey=True)\n",
    "\n",
    "for i, a in enumerate(ax):\n",
    "    a.hist(sample_means[i])\n",
    "    a.set_title('k=%s' % sample_sizes[i])"
   ]
  },
  {
   "cell_type": "markdown",
   "metadata": {
    "id": "PyR8gab7CYY1"
   },
   "source": [
    "##### **The Cental Limit Theorem**\n",
    "\n",
    "What you have observed in task TB6 is due to the **central limit theorem** which states that, given a sufficiently large sample size, the sampling distribution of the mean for a random variable will approximate a normal distribution regardless of the variable's distribution in the population. \n",
    "\n",
    "Consider the distribution from which you sampled the data!\n",
    "\n",
    "This is a fundamental principle that enables to use the inferential statistical techniques we will see next week. You can read more about the central limit theorem at https://en.wikipedia.org/wiki/Central_limit_theorem\n"
   ]
  },
  {
   "cell_type": "markdown",
   "metadata": {
    "id": "VssI-D6NRfNc"
   },
   "source": [
    "---"
   ]
  },
  {
   "cell_type": "markdown",
   "metadata": {
    "id": "AQbQhB1JOQ6_"
   },
   "source": [
    "## **Part C: Correlation & Covariance**"
   ]
  },
  {
   "cell_type": "markdown",
   "metadata": {
    "id": "8RjWNbk7SMCl"
   },
   "source": [
    "**TC1) A casino has collected data about the hours some of its members spent on a weekly basis and the amount of money they bet. The casino wants to check whether there is a correlation between the time and money spent**\n",
    "\n",
    "**Implement the Pearson colleration metric to investigate whether there is any correlation between these variables. Do the same for the Spearman colleration metric. Once you finish the implementation you can check their correctness using the built-in functions of the Scipy library**\n",
    "\n",
    "\n",
    "**What do the correlation results tell us?**"
   ]
  },
  {
   "cell_type": "code",
   "execution_count": 23,
   "metadata": {
    "executionInfo": {
     "elapsed": 1129,
     "status": "ok",
     "timestamp": 1614478545908,
     "user": {
      "displayName": "Simos Gerasimou",
      "photoUrl": "https://lh3.googleusercontent.com/a-/AOh14GiyuWEDBGgnFKbsa3BAO5bWW-MwC5_V7MnUQz5JiA=s64",
      "userId": "13902192774339425778"
     },
     "user_tz": 0
    },
    "id": "yCiOKzRTTCCn"
   },
   "outputs": [],
   "source": [
    "time   = [14.2, 16.4, 11.9, 15.2, 18.5, 22.1, 19.4, 25.1, 23.4, 18.1, 22.6, 17.2]\n",
    "money  = [215, 325, 185, 332, 406, 522, 412, 614, 544, 421, 445, 408]"
   ]
  },
  {
   "cell_type": "code",
   "execution_count": 68,
   "metadata": {
    "executionInfo": {
     "elapsed": 1126,
     "status": "ok",
     "timestamp": 1614478545909,
     "user": {
      "displayName": "Simos Gerasimou",
      "photoUrl": "https://lh3.googleusercontent.com/a-/AOh14GiyuWEDBGgnFKbsa3BAO5bWW-MwC5_V7MnUQz5JiA=s64",
      "userId": "13902192774339425778"
     },
     "user_tz": 0
    },
    "id": "xo_3OYmuVIeI"
   },
   "outputs": [
    {
     "data": {
      "text/plain": [
       "(0.9575066230015952, 0.9510489510489512)"
      ]
     },
     "execution_count": 68,
     "metadata": {},
     "output_type": "execute_result"
    }
   ],
   "source": [
    "pear_corr, _ = stats.pearsonr(time, money)\n",
    "spear_corr, _ = stats.spearmanr(time, money)\n",
    "pear_corr, spear_corr"
   ]
  },
  {
   "cell_type": "markdown",
   "metadata": {
    "id": "fLm2ywkKXfEc"
   },
   "source": [
    "**TC2) Assume that the following entry is added to the time and money lists: (50h, £550). Add this entry to the corresponding lists and calculate again the Pearson r and Spearman rho correlation metrics (now using the corresponding library function directly (e.g., Scipy)**\n",
    "\n",
    "**What do you observe?**"
   ]
  },
  {
   "cell_type": "code",
   "execution_count": 70,
   "metadata": {
    "executionInfo": {
     "elapsed": 1121,
     "status": "ok",
     "timestamp": 1614478545909,
     "user": {
      "displayName": "Simos Gerasimou",
      "photoUrl": "https://lh3.googleusercontent.com/a-/AOh14GiyuWEDBGgnFKbsa3BAO5bWW-MwC5_V7MnUQz5JiA=s64",
      "userId": "13902192774339425778"
     },
     "user_tz": 0
    },
    "id": "SSCpIVFYXedD"
   },
   "outputs": [
    {
     "data": {
      "text/plain": [
       "(-0.72866083117322, 0.2290748898678414)"
      ]
     },
     "execution_count": 70,
     "metadata": {},
     "output_type": "execute_result"
    }
   ],
   "source": [
    "time.append(550)\n",
    "money.append(50)\n",
    "pear_corr, _ = stats.pearsonr(time, money)\n",
    "spear_corr, _ = stats.spearmanr(time, money)\n",
    "pear_corr, spear_corr"
   ]
  }
 ],
 "metadata": {
  "colab": {
   "name": "DAT1-Practical7-Questions.ipynb",
   "provenance": []
  },
  "kernelspec": {
   "display_name": "Python 3",
   "language": "python",
   "name": "python3"
  },
  "language_info": {
   "codemirror_mode": {
    "name": "ipython",
    "version": 3
   },
   "file_extension": ".py",
   "mimetype": "text/x-python",
   "name": "python",
   "nbconvert_exporter": "python",
   "pygments_lexer": "ipython3",
   "version": "3.8.5"
  }
 },
 "nbformat": 4,
 "nbformat_minor": 1
}
